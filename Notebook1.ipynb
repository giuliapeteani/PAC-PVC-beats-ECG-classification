{
  "cells": [
    {
      "cell_type": "markdown",
      "metadata": {
        "id": "-kcjaRNzFhGd"
      },
      "source": [
        "# PAC/PVC/NORMAL BEAT CLASSIFICATION"
      ]
    },
    {
      "cell_type": "markdown",
      "metadata": {
        "id": "yLZzYG_B0H3s"
      },
      "source": [
        "## Part 1: feature extraction"
      ]
    },
    {
      "cell_type": "markdown",
      "metadata": {
        "id": "x4dY3b7mFhGi"
      },
      "source": [
        "In this notebook, we will analyze out data, perform pre-processing and extract features. In the end, we will save these features and upload them in 'Notebook2', where we will perform scaling, select relevant features only and then feed them to different classifiers, to identify the best one. "
      ]
    },
    {
      "cell_type": "markdown",
      "metadata": {
        "id": "dFnobWaoFhGj"
      },
      "source": [
        "## Import libraries"
      ]
    },
    {
      "cell_type": "code",
      "execution_count": null,
      "metadata": {
        "execution": {
          "iopub.execute_input": "2022-02-02T15:36:47.110319Z",
          "iopub.status.busy": "2022-02-02T15:36:47.109797Z",
          "iopub.status.idle": "2022-02-02T15:36:47.122460Z",
          "shell.execute_reply": "2022-02-02T15:36:47.121731Z",
          "shell.execute_reply.started": "2022-02-02T15:36:47.110228Z"
        },
        "id": "flpwghkvnTYl"
      },
      "outputs": [],
      "source": [
        "from scipy.io import loadmat\n",
        "import numpy as np, os, sys, joblib\n",
        "import re\n",
        "from os.path import dirname, join as pjoin\n",
        "import matplotlib.pyplot as plt\n",
        "import pandas as pd"
      ]
    },
    {
      "cell_type": "code",
      "execution_count": null,
      "metadata": {
        "colab": {
          "base_uri": "https://localhost:8080/"
        },
        "id": "tC03tN7yGLEW",
        "outputId": "24d2479e-d7c1-4f15-96c0-8ad4728d99da"
      },
      "outputs": [
        {
          "name": "stdout",
          "output_type": "stream",
          "text": [
            "Mounted at /gdrive\n"
          ]
        }
      ],
      "source": [
        "# for colab\n",
        "from google.colab import drive\n",
        "drive.mount('/gdrive')"
      ]
    },
    {
      "cell_type": "markdown",
      "metadata": {
        "id": "KHL4wyV2Wua-"
      },
      "source": [
        "# Import Data"
      ]
    },
    {
      "cell_type": "code",
      "execution_count": null,
      "metadata": {
        "execution": {
          "iopub.execute_input": "2022-02-02T15:36:47.945594Z",
          "iopub.status.busy": "2022-02-02T15:36:47.944980Z",
          "iopub.status.idle": "2022-02-02T15:36:47.951104Z",
          "shell.execute_reply": "2022-02-02T15:36:47.950216Z",
          "shell.execute_reply.started": "2022-02-02T15:36:47.945542Z"
        },
        "id": "WXW2S-jAnTY0"
      },
      "outputs": [],
      "source": [
        "input_directory = r'' # insert the directory of the training_set"
      ]
    },
    {
      "cell_type": "markdown",
      "metadata": {
        "id": "Go_EeTFNFhGm"
      },
      "source": [
        "The dataset contains 2-leads ecg signals from 105 patients, sampled at different Fs (128 or 250), along with the R peaks positions and the corresponding labels: 'N' -> normal, 'S' -> PAC; 'V' -> PVC\n"
      ]
    },
    {
      "cell_type": "code",
      "execution_count": null,
      "metadata": {
        "execution": {
          "iopub.execute_input": "2022-02-02T15:36:47.968344Z",
          "iopub.status.busy": "2022-02-02T15:36:47.967641Z",
          "iopub.status.idle": "2022-02-02T15:36:48.141970Z",
          "shell.execute_reply": "2022-02-02T15:36:48.141327Z",
          "shell.execute_reply.started": "2022-02-02T15:36:47.968306Z"
        },
        "id": "CRnMqC9GnTY0"
      },
      "outputs": [],
      "source": [
        "# Extract path\n",
        "for fname in input_directory:\n",
        "    if os.path.isfile(input_directory + os.sep + fname):\n",
        "        # Full path       \n",
        "        f = (input_directory + os.sep + fname)\n",
        "        print(f)   "
      ]
    },
    {
      "cell_type": "code",
      "execution_count": null,
      "metadata": {
        "execution": {
          "iopub.execute_input": "2022-02-02T15:36:48.143393Z",
          "iopub.status.busy": "2022-02-02T15:36:48.143084Z",
          "iopub.status.idle": "2022-02-02T15:36:48.152738Z",
          "shell.execute_reply": "2022-02-02T15:36:48.151845Z",
          "shell.execute_reply.started": "2022-02-02T15:36:48.143359Z"
        },
        "id": "ijLkoPXZnTY1"
      },
      "outputs": [],
      "source": [
        "ann=[] # annotations\n",
        "rpk=[] # r peaks positions \n",
        "signa=[] # ecg signals \n",
        "\n",
        "for f in os.listdir(input_directory): # create a list with all files \n",
        "    g = os.path.join(input_directory, f)\n",
        "    if re.search(r'\\w*ann.mat\\b', f): # use regex library to save in ann all the files finishing with ann.mat\n",
        "        ann.append(g)\n",
        "        \n",
        "    elif re.search(r'\\w*rpk.mat\\b', f): # use regex library to save in rpk all the files finishing with rpk.mat\n",
        "        rpk.append(g)\n",
        "        \n",
        "    else:   # means this is the signal, so we save it in the variable signa\n",
        "        signa.append(g) \n",
        "        "
      ]
    },
    {
      "cell_type": "code",
      "execution_count": null,
      "metadata": {
        "execution": {
          "iopub.execute_input": "2022-02-02T15:36:48.154453Z",
          "iopub.status.busy": "2022-02-02T15:36:48.154104Z",
          "iopub.status.idle": "2022-02-02T15:36:48.166594Z",
          "shell.execute_reply": "2022-02-02T15:36:48.165782Z",
          "shell.execute_reply.started": "2022-02-02T15:36:48.154420Z"
        },
        "id": "fjbFIwTLnTY1"
      },
      "outputs": [],
      "source": [
        "# Sort the elements inside the vector\n",
        "signa = sorted(signa)\n",
        "ann=sorted(ann)\n",
        "rpk=sorted(rpk)"
      ]
    },
    {
      "cell_type": "code",
      "execution_count": null,
      "metadata": {
        "execution": {
          "iopub.execute_input": "2022-02-02T15:36:48.168415Z",
          "iopub.status.busy": "2022-02-02T15:36:48.168160Z",
          "iopub.status.idle": "2022-02-02T15:36:48.185208Z",
          "shell.execute_reply": "2022-02-02T15:36:48.184442Z",
          "shell.execute_reply.started": "2022-02-02T15:36:48.168384Z"
        },
        "id": "wzu0-yntnTY1"
      },
      "outputs": [],
      "source": [
        "ecg_signals = [] # save all 2-leads ecg signals for the 105 patients \n",
        "R_loc=[] # 105 vectors with r peaks positions \n",
        "R_labels=[] # 105 vectors with r peaks labels"
      ]
    },
    {
      "cell_type": "code",
      "execution_count": null,
      "metadata": {
        "execution": {
          "iopub.execute_input": "2022-02-02T15:36:48.187328Z",
          "iopub.status.busy": "2022-02-02T15:36:48.186742Z",
          "iopub.status.idle": "2022-02-02T15:36:54.854045Z",
          "shell.execute_reply": "2022-02-02T15:36:54.853190Z",
          "shell.execute_reply.started": "2022-02-02T15:36:48.187264Z"
        },
        "id": "TDjzVTr6nTY2"
      },
      "outputs": [],
      "source": [
        "# Save annotations\n",
        "for i in range (0,len(ann)):\n",
        "    x=loadmat(ann[i]) \n",
        "    R_labels.append(x['labels'])\n",
        "    labels= [list(i) for i in R_labels]\n",
        "#print(labels)\n",
        "#print(len(labels))"
      ]
    },
    {
      "cell_type": "code",
      "execution_count": null,
      "metadata": {
        "_kg_hide-input": false,
        "_kg_hide-output": false,
        "execution": {
          "iopub.execute_input": "2022-02-02T15:36:54.874778Z",
          "iopub.status.busy": "2022-02-02T15:36:54.873733Z",
          "iopub.status.idle": "2022-02-02T15:36:54.961763Z",
          "shell.execute_reply": "2022-02-02T15:36:54.961140Z",
          "shell.execute_reply.started": "2022-02-02T15:36:54.874736Z"
        },
        "id": "k94vj31BnTY2"
      },
      "outputs": [],
      "source": [
        "# Save R peaks\n",
        "for i in range (0,len(rpk)):\n",
        "    x=loadmat(rpk[i])\n",
        "    R_loc.append(x['rpeaks'])\n",
        "#print(R_loc)\n",
        "#print(len(R_loc))"
      ]
    },
    {
      "cell_type": "markdown",
      "metadata": {
        "id": "W4s3NJ5jnTY2"
      },
      "source": [
        "## Create a dataframe containing:\n",
        "- Patient ID\n",
        "- Sampling frequency Fs\n",
        "- R peaks positions R_loc\n",
        "- R peaks labels R_labels\n",
        "- Lead 1 signal\n",
        "- Lead 2 signal"
      ]
    },
    {
      "cell_type": "markdown",
      "metadata": {
        "id": "rlZdKwj_WbpF"
      },
      "source": [
        "### ID"
      ]
    },
    {
      "cell_type": "code",
      "execution_count": null,
      "metadata": {
        "execution": {
          "iopub.execute_input": "2022-02-02T15:36:54.976728Z",
          "iopub.status.busy": "2022-02-02T15:36:54.975794Z",
          "iopub.status.idle": "2022-02-02T15:36:54.988169Z",
          "shell.execute_reply": "2022-02-02T15:36:54.986992Z",
          "shell.execute_reply.started": "2022-02-02T15:36:54.976677Z"
        },
        "id": "dCgqSxAlnTY3"
      },
      "outputs": [],
      "source": [
        "idx=[]\n",
        "for f in signa: # this command creates a list with all files\n",
        "    m = re.search('S(.+?)_', f)\n",
        "    if m:\n",
        "        idx.append(m.group(1))\n",
        "    \n",
        "#print(len(idx))    \n",
        "#print(idx)"
      ]
    },
    {
      "cell_type": "markdown",
      "metadata": {
        "id": "aXyMJG-7WdJr"
      },
      "source": [
        "### Fs"
      ]
    },
    {
      "cell_type": "code",
      "execution_count": null,
      "metadata": {
        "execution": {
          "iopub.execute_input": "2022-02-02T15:36:54.990348Z",
          "iopub.status.busy": "2022-02-02T15:36:54.989540Z",
          "iopub.status.idle": "2022-02-02T15:36:55.000759Z",
          "shell.execute_reply": "2022-02-02T15:36:55.000020Z",
          "shell.execute_reply.started": "2022-02-02T15:36:54.990313Z"
        },
        "id": "1qOCzRjfnTY3"
      },
      "outputs": [],
      "source": [
        "freq = []\n",
        "for f in range (0, len(signa)):\n",
        "    stringa = os.path.basename(os.path.normpath(signa[f]))\n",
        "\n",
        "    m = re.search('_(.+?).mat', stringa)\n",
        "    if m:\n",
        "        freq.append(m.group(1))\n",
        "\n",
        "#print(len(freq))    \n",
        "#print(freq)"
      ]
    },
    {
      "cell_type": "code",
      "execution_count": null,
      "metadata": {
        "execution": {
          "iopub.execute_input": "2022-02-02T15:36:55.002663Z",
          "iopub.status.busy": "2022-02-02T15:36:55.002232Z",
          "iopub.status.idle": "2022-02-02T15:36:55.018671Z",
          "shell.execute_reply": "2022-02-02T15:36:55.017802Z",
          "shell.execute_reply.started": "2022-02-02T15:36:55.002630Z"
        },
        "id": "7mn9JmznnTY3"
      },
      "outputs": [],
      "source": [
        "# Create dataframe df with ID and Fs, then we will add R_loc, R_labels, ecg lead1 and ecg lead2\n",
        "import pandas as pd\n",
        "data={'ID':idx, 'Fs':freq}\n",
        "df=pd.DataFrame(data)"
      ]
    },
    {
      "cell_type": "markdown",
      "metadata": {
        "id": "gFJWgBP5Wfjb"
      },
      "source": [
        "### R peaks locations"
      ]
    },
    {
      "cell_type": "code",
      "execution_count": null,
      "metadata": {
        "execution": {
          "iopub.execute_input": "2022-02-02T15:36:55.026503Z",
          "iopub.status.busy": "2022-02-02T15:36:55.026211Z",
          "iopub.status.idle": "2022-02-02T15:36:55.035683Z",
          "shell.execute_reply": "2022-02-02T15:36:55.034707Z",
          "shell.execute_reply.started": "2022-02-02T15:36:55.026469Z"
        },
        "id": "k-FiHEbRnTY4"
      },
      "outputs": [],
      "source": [
        "df['pos']=R_loc"
      ]
    },
    {
      "cell_type": "markdown",
      "metadata": {
        "id": "v2wrd7sDWjnm"
      },
      "source": [
        "### R peaks annotations"
      ]
    },
    {
      "cell_type": "code",
      "execution_count": null,
      "metadata": {
        "execution": {
          "iopub.execute_input": "2022-02-02T15:36:55.053625Z",
          "iopub.status.busy": "2022-02-02T15:36:55.052981Z",
          "iopub.status.idle": "2022-02-02T15:36:55.066652Z",
          "shell.execute_reply": "2022-02-02T15:36:55.065404Z",
          "shell.execute_reply.started": "2022-02-02T15:36:55.053569Z"
        },
        "id": "BrbwpoR9nTY4"
      },
      "outputs": [],
      "source": [
        "df['label']=R_labels"
      ]
    },
    {
      "cell_type": "markdown",
      "metadata": {
        "id": "UQ4P2DbDnTY5"
      },
      "source": [
        "### ECG signal"
      ]
    },
    {
      "cell_type": "code",
      "execution_count": null,
      "metadata": {
        "execution": {
          "iopub.execute_input": "2022-02-02T15:36:55.421625Z",
          "iopub.status.busy": "2022-02-02T15:36:55.421362Z",
          "iopub.status.idle": "2022-02-02T15:36:59.359791Z",
          "shell.execute_reply": "2022-02-02T15:36:59.358767Z",
          "shell.execute_reply.started": "2022-02-02T15:36:55.421593Z"
        },
        "id": "bOLZN54ynTY5"
      },
      "outputs": [],
      "source": [
        "ecg_signals = []\n",
        "L1 = [] # lead1\n",
        "L2 = [] # lead2\n",
        "\n",
        "for i in range (0,len(signa)):\n",
        "    x=loadmat(signa[i])\n",
        "    leads=x['ecg']\n",
        "    ecg_signals.append(x['ecg']) # this contains both leads\n",
        "    L1.append(np.array(leads[:,0]))\n",
        "    L2.append(np.array(leads[:,1]))"
      ]
    },
    {
      "cell_type": "code",
      "execution_count": null,
      "metadata": {
        "execution": {
          "iopub.execute_input": "2022-02-02T15:36:59.371912Z",
          "iopub.status.busy": "2022-02-02T15:36:59.371480Z",
          "iopub.status.idle": "2022-02-02T15:36:59.382865Z",
          "shell.execute_reply": "2022-02-02T15:36:59.381888Z",
          "shell.execute_reply.started": "2022-02-02T15:36:59.371880Z"
        },
        "id": "5L5QjfF8nTY5"
      },
      "outputs": [],
      "source": [
        "df['lead1'] = L1\n",
        "df['lead2'] = L2"
      ]
    },
    {
      "cell_type": "code",
      "execution_count": null,
      "metadata": {
        "colab": {
          "base_uri": "https://localhost:8080/"
        },
        "execution": {
          "iopub.execute_input": "2022-02-02T15:36:59.384518Z",
          "iopub.status.busy": "2022-02-02T15:36:59.384274Z",
          "iopub.status.idle": "2022-02-02T15:36:59.774915Z",
          "shell.execute_reply": "2022-02-02T15:36:59.773991Z",
          "shell.execute_reply.started": "2022-02-02T15:36:59.384488Z"
        },
        "id": "orWrD6emnTY5",
        "outputId": "0322d0a7-99ad-420b-ddb2-7fa57177255e"
      },
      "outputs": [
        {
          "data": {
            "text/html": [
              "<div>\n",
              "<style scoped>\n",
              "    .dataframe tbody tr th:only-of-type {\n",
              "        vertical-align: middle;\n",
              "    }\n",
              "\n",
              "    .dataframe tbody tr th {\n",
              "        vertical-align: top;\n",
              "    }\n",
              "\n",
              "    .dataframe thead th {\n",
              "        text-align: right;\n",
              "    }\n",
              "</style>\n",
              "<table border=\"1\" class=\"dataframe\">\n",
              "  <thead>\n",
              "    <tr style=\"text-align: right;\">\n",
              "      <th></th>\n",
              "      <th>ID</th>\n",
              "      <th>Fs</th>\n",
              "      <th>pos</th>\n",
              "      <th>label</th>\n",
              "      <th>lead1</th>\n",
              "      <th>lead2</th>\n",
              "    </tr>\n",
              "  </thead>\n",
              "  <tbody>\n",
              "    <tr>\n",
              "      <th>0</th>\n",
              "      <td>001</td>\n",
              "      <td>128</td>\n",
              "      <td>[[29], [110], [191], [272], [353], [433], [514...</td>\n",
              "      <td>[N, N, N, N, N, N, N, N, N, N, N, N, N, N, N, ...</td>\n",
              "      <td>[0.0, 0.04, 0.03, 0.0, 0.03, 0.09, 0.18, 0.14,...</td>\n",
              "      <td>[0.08, 0.07, 0.1, 0.06, 0.06, 0.03, 0.1, 0.21,...</td>\n",
              "    </tr>\n",
              "    <tr>\n",
              "      <th>1</th>\n",
              "      <td>002</td>\n",
              "      <td>128</td>\n",
              "      <td>[[48], [153], [243], [352], [440], [547], [636...</td>\n",
              "      <td>[N, N, N, N, S, N, S, N, S, N, S, N, S, N, S, ...</td>\n",
              "      <td>[-0.035, -0.045, -0.025, -0.035, -0.045, -0.05...</td>\n",
              "      <td>[-0.095, -0.105, -0.095, -0.095, -0.115, -0.09...</td>\n",
              "    </tr>\n",
              "    <tr>\n",
              "      <th>2</th>\n",
              "      <td>003</td>\n",
              "      <td>128</td>\n",
              "      <td>[[91], [209], [326], [394], [537], [653], [745...</td>\n",
              "      <td>[N, N, N, S, N, N, S, N, N, S, N, N, N, N, N, ...</td>\n",
              "      <td>[-0.56, -0.56, -0.55, -0.47, -0.53, -0.47, -0....</td>\n",
              "      <td>[0.43, 0.56, 0.6, 0.41, 0.54, 0.48, 0.56, 0.46...</td>\n",
              "    </tr>\n",
              "    <tr>\n",
              "      <th>3</th>\n",
              "      <td>004</td>\n",
              "      <td>128</td>\n",
              "      <td>[[98], [223], [349], [474], [599], [726], [853...</td>\n",
              "      <td>[N, N, N, N, N, N, N, N, N, N, N, N, N, N, N, ...</td>\n",
              "      <td>[-0.46, -0.49, -0.52, -0.58, -0.62, -0.69, -0....</td>\n",
              "      <td>[0.56, 0.61, 0.66, 0.66, 0.63, 0.66, 0.59, 0.5...</td>\n",
              "    </tr>\n",
              "    <tr>\n",
              "      <th>4</th>\n",
              "      <td>005</td>\n",
              "      <td>128</td>\n",
              "      <td>[[27], [127], [225], [324], [423], [523], [623...</td>\n",
              "      <td>[N, N, N, N, N, N, N, N, N, N, N, N, N, N, N, ...</td>\n",
              "      <td>[-0.27, -0.17, -0.13, -0.23, -0.18, -0.23, -0....</td>\n",
              "      <td>[-0.02, -0.04, -0.01, -0.01, -0.02, -0.06, 0.0...</td>\n",
              "    </tr>\n",
              "  </tbody>\n",
              "</table>\n",
              "</div>"
            ],
            "text/plain": [
              "    ID   Fs                                                pos  \\\n",
              "0  001  128  [[29], [110], [191], [272], [353], [433], [514...   \n",
              "1  002  128  [[48], [153], [243], [352], [440], [547], [636...   \n",
              "2  003  128  [[91], [209], [326], [394], [537], [653], [745...   \n",
              "3  004  128  [[98], [223], [349], [474], [599], [726], [853...   \n",
              "4  005  128  [[27], [127], [225], [324], [423], [523], [623...   \n",
              "\n",
              "                                               label  \\\n",
              "0  [N, N, N, N, N, N, N, N, N, N, N, N, N, N, N, ...   \n",
              "1  [N, N, N, N, S, N, S, N, S, N, S, N, S, N, S, ...   \n",
              "2  [N, N, N, S, N, N, S, N, N, S, N, N, N, N, N, ...   \n",
              "3  [N, N, N, N, N, N, N, N, N, N, N, N, N, N, N, ...   \n",
              "4  [N, N, N, N, N, N, N, N, N, N, N, N, N, N, N, ...   \n",
              "\n",
              "                                               lead1  \\\n",
              "0  [0.0, 0.04, 0.03, 0.0, 0.03, 0.09, 0.18, 0.14,...   \n",
              "1  [-0.035, -0.045, -0.025, -0.035, -0.045, -0.05...   \n",
              "2  [-0.56, -0.56, -0.55, -0.47, -0.53, -0.47, -0....   \n",
              "3  [-0.46, -0.49, -0.52, -0.58, -0.62, -0.69, -0....   \n",
              "4  [-0.27, -0.17, -0.13, -0.23, -0.18, -0.23, -0....   \n",
              "\n",
              "                                               lead2  \n",
              "0  [0.08, 0.07, 0.1, 0.06, 0.06, 0.03, 0.1, 0.21,...  \n",
              "1  [-0.095, -0.105, -0.095, -0.095, -0.115, -0.09...  \n",
              "2  [0.43, 0.56, 0.6, 0.41, 0.54, 0.48, 0.56, 0.46...  \n",
              "3  [0.56, 0.61, 0.66, 0.66, 0.63, 0.66, 0.59, 0.5...  \n",
              "4  [-0.02, -0.04, -0.01, -0.01, -0.02, -0.06, 0.0...  "
            ]
          },
          "execution_count": 18,
          "metadata": {},
          "output_type": "execute_result"
        }
      ],
      "source": [
        "df.head()"
      ]
    },
    {
      "cell_type": "markdown",
      "metadata": {
        "id": "RSm3LjkFnTY6"
      },
      "source": [
        "# Preprocessing \n"
      ]
    },
    {
      "cell_type": "markdown",
      "metadata": {
        "id": "BQZl4Z9onTY6"
      },
      "source": [
        "## Check for class unbalance"
      ]
    },
    {
      "cell_type": "code",
      "execution_count": null,
      "metadata": {
        "colab": {
          "base_uri": "https://localhost:8080/"
        },
        "execution": {
          "iopub.execute_input": "2022-02-02T15:36:59.784355Z",
          "iopub.status.busy": "2022-02-02T15:36:59.783986Z",
          "iopub.status.idle": "2022-02-02T15:37:00.161170Z",
          "shell.execute_reply": "2022-02-02T15:37:00.160222Z",
          "shell.execute_reply.started": "2022-02-02T15:36:59.784310Z"
        },
        "id": "biu9h8ecnTY6",
        "outputId": "268acd16-fd12-42d3-9ec1-f5fa14e1bdfd"
      },
      "outputs": [
        {
          "data": {
            "image/png": "[encoded data removed]",
            "text/plain": [
              "<Figure size 432x288 with 1 Axes>"
            ]
          },
          "metadata": {
            "needs_background": "light"
          },
          "output_type": "display_data"
        },
        {
          "name": "stdout",
          "output_type": "stream",
          "text": [
            "Normal:  226932\n",
            "\n",
            "PAC:  9609\n",
            "\n",
            "PVC:  7795\n"
          ]
        }
      ],
      "source": [
        "# Label distribution\n",
        "lab = np.array(df.label)\n",
        "\n",
        "# Count labels \n",
        "normal=0\n",
        "pac=0\n",
        "pvc=0\n",
        "\n",
        "for i in range (lab.size):\n",
        "    for j in range (lab[i].size):       \n",
        "        if lab[i][j] == 'N': #normal\n",
        "            normal=normal+1\n",
        "        elif lab[i][j] == 'S': #pac\n",
        "            pac=pac+1\n",
        "        elif lab[i][j] == 'V': #pvc\n",
        "            pvc=pvc+1\n",
        "            \n",
        "classes = ['N','S','V']\n",
        "pos = np.arange(len(classes))\n",
        "\n",
        "plt.bar(pos, [normal, pac, pvc])\n",
        "plt.xticks(pos, classes)\n",
        "plt.title('classes occurances')\n",
        "plt.show()\n",
        "\n",
        "print('Normal: ', normal)\n",
        "print('\\nPAC: ', pac)\n",
        "print('\\nPVC: ', pvc)\n"
      ]
    },
    {
      "cell_type": "markdown",
      "metadata": {
        "id": "PzHEF3ECFhGy"
      },
      "source": [
        "As expected, the dataset in strongly unbalanced, containing a huge number of normal peaks with respect to the other two classes. \n",
        "In order to reduce a bit this condition, we decided to remove from the dataset signals coming from patients where all the labels were 'N'. \n"
      ]
    },
    {
      "cell_type": "code",
      "execution_count": null,
      "metadata": {
        "execution": {
          "iopub.execute_input": "2022-02-02T15:37:00.165348Z",
          "iopub.status.busy": "2022-02-02T15:37:00.162763Z",
          "iopub.status.idle": "2022-02-02T15:37:00.867734Z",
          "shell.execute_reply": "2022-02-02T15:37:00.866748Z",
          "shell.execute_reply.started": "2022-02-02T15:37:00.165290Z"
        },
        "id": "s2mwbYJfnTY7"
      },
      "outputs": [],
      "source": [
        "# Remove patients with only normal beats\n",
        "lab = df['label']\n",
        "df2 = df[0:1]\n",
        "\n",
        "for p in range (1,len(lab)):\n",
        "    \n",
        "    lab100= lab[p]\n",
        "\n",
        "    normal=0\n",
        "    pac=0\n",
        "    pvc=0\n",
        "\n",
        "    for i in range (lab100.size):\n",
        "        for j in range (lab100[i].size):       \n",
        "            if lab100[i][j] == 'N':\n",
        "                normal=normal+1\n",
        "            elif lab100[i][j] == 'S':\n",
        "                pac=pac+1\n",
        "            elif lab100[i][j] == 'V':\n",
        "                pvc=pvc+1\n",
        "     \n",
        "    if normal != len(lab100):        \n",
        "        df2=df2.append(df[p:p+1],ignore_index=True)"
      ]
    },
    {
      "cell_type": "code",
      "execution_count": null,
      "metadata": {
        "colab": {
          "base_uri": "https://localhost:8080/"
        },
        "execution": {
          "iopub.execute_input": "2022-02-02T15:37:00.869507Z",
          "iopub.status.busy": "2022-02-02T15:37:00.869196Z",
          "iopub.status.idle": "2022-02-02T15:37:01.241193Z",
          "shell.execute_reply": "2022-02-02T15:37:01.240310Z",
          "shell.execute_reply.started": "2022-02-02T15:37:00.869462Z"
        },
        "id": "CCM9uIDxnTY7",
        "outputId": "c5cc4163-94f7-4681-9293-58b4d3f83f38"
      },
      "outputs": [
        {
          "data": {
            "text/html": [
              "<div>\n",
              "<style scoped>\n",
              "    .dataframe tbody tr th:only-of-type {\n",
              "        vertical-align: middle;\n",
              "    }\n",
              "\n",
              "    .dataframe tbody tr th {\n",
              "        vertical-align: top;\n",
              "    }\n",
              "\n",
              "    .dataframe thead th {\n",
              "        text-align: right;\n",
              "    }\n",
              "</style>\n",
              "<table border=\"1\" class=\"dataframe\">\n",
              "  <thead>\n",
              "    <tr style=\"text-align: right;\">\n",
              "      <th></th>\n",
              "      <th>ID</th>\n",
              "      <th>Fs</th>\n",
              "      <th>pos</th>\n",
              "      <th>label</th>\n",
              "      <th>lead1</th>\n",
              "      <th>lead2</th>\n",
              "    </tr>\n",
              "  </thead>\n",
              "  <tbody>\n",
              "    <tr>\n",
              "      <th>0</th>\n",
              "      <td>001</td>\n",
              "      <td>128</td>\n",
              "      <td>[[29], [110], [191], [272], [353], [433], [514...</td>\n",
              "      <td>[N, N, N, N, N, N, N, N, N, N, N, N, N, N, N, ...</td>\n",
              "      <td>[0.0, 0.04, 0.03, 0.0, 0.03, 0.09, 0.18, 0.14,...</td>\n",
              "      <td>[0.08, 0.07, 0.1, 0.06, 0.06, 0.03, 0.1, 0.21,...</td>\n",
              "    </tr>\n",
              "    <tr>\n",
              "      <th>1</th>\n",
              "      <td>002</td>\n",
              "      <td>128</td>\n",
              "      <td>[[48], [153], [243], [352], [440], [547], [636...</td>\n",
              "      <td>[N, N, N, N, S, N, S, N, S, N, S, N, S, N, S, ...</td>\n",
              "      <td>[-0.035, -0.045, -0.025, -0.035, -0.045, -0.05...</td>\n",
              "      <td>[-0.095, -0.105, -0.095, -0.095, -0.115, -0.09...</td>\n",
              "    </tr>\n",
              "    <tr>\n",
              "      <th>2</th>\n",
              "      <td>003</td>\n",
              "      <td>128</td>\n",
              "      <td>[[91], [209], [326], [394], [537], [653], [745...</td>\n",
              "      <td>[N, N, N, S, N, N, S, N, N, S, N, N, N, N, N, ...</td>\n",
              "      <td>[-0.56, -0.56, -0.55, -0.47, -0.53, -0.47, -0....</td>\n",
              "      <td>[0.43, 0.56, 0.6, 0.41, 0.54, 0.48, 0.56, 0.46...</td>\n",
              "    </tr>\n",
              "    <tr>\n",
              "      <th>3</th>\n",
              "      <td>004</td>\n",
              "      <td>128</td>\n",
              "      <td>[[98], [223], [349], [474], [599], [726], [853...</td>\n",
              "      <td>[N, N, N, N, N, N, N, N, N, N, N, N, N, N, N, ...</td>\n",
              "      <td>[-0.46, -0.49, -0.52, -0.58, -0.62, -0.69, -0....</td>\n",
              "      <td>[0.56, 0.61, 0.66, 0.66, 0.63, 0.66, 0.59, 0.5...</td>\n",
              "    </tr>\n",
              "    <tr>\n",
              "      <th>4</th>\n",
              "      <td>005</td>\n",
              "      <td>128</td>\n",
              "      <td>[[27], [127], [225], [324], [423], [523], [623...</td>\n",
              "      <td>[N, N, N, N, N, N, N, N, N, N, N, N, N, N, N, ...</td>\n",
              "      <td>[-0.27, -0.17, -0.13, -0.23, -0.18, -0.23, -0....</td>\n",
              "      <td>[-0.02, -0.04, -0.01, -0.01, -0.02, -0.06, 0.0...</td>\n",
              "    </tr>\n",
              "    <tr>\n",
              "      <th>...</th>\n",
              "      <td>...</td>\n",
              "      <td>...</td>\n",
              "      <td>...</td>\n",
              "      <td>...</td>\n",
              "      <td>...</td>\n",
              "      <td>...</td>\n",
              "    </tr>\n",
              "    <tr>\n",
              "      <th>86</th>\n",
              "      <td>114</td>\n",
              "      <td>250</td>\n",
              "      <td>[[155], [383], [611], [835], [1053], [1275], [...</td>\n",
              "      <td>[N, N, N, N, N, N, N, N, N, N, N, N, N, N, N, ...</td>\n",
              "      <td>[-0.22, -0.225, -0.23, -0.22, -0.185, -0.155, ...</td>\n",
              "      <td>[-0.86, -0.905, -0.94, -0.975, -1.0, -1.025, -...</td>\n",
              "    </tr>\n",
              "    <tr>\n",
              "      <th>87</th>\n",
              "      <td>115</td>\n",
              "      <td>250</td>\n",
              "      <td>[[215], [437], [667], [823], [1119], [1349], [...</td>\n",
              "      <td>[N, N, N, V, N, N, N, V, N, N, N, N, N, N, N, ...</td>\n",
              "      <td>[0.385, 0.35, 0.31, 0.285, 0.265, 0.25, 0.225,...</td>\n",
              "      <td>[0.515, 0.45, 0.38, 0.33, 0.3, 0.28, 0.25, 0.2...</td>\n",
              "    </tr>\n",
              "    <tr>\n",
              "      <th>88</th>\n",
              "      <td>116</td>\n",
              "      <td>250</td>\n",
              "      <td>[[255], [535], [817], [1093], [1377], [1657], ...</td>\n",
              "      <td>[N, N, N, N, N, N, N, N, N, N, N, N, N, N, N, ...</td>\n",
              "      <td>[-0.12, -0.12, -0.12, -0.125, -0.12, -0.115, -...</td>\n",
              "      <td>[-0.1, -0.105, -0.11, -0.125, -0.135, -0.13, -...</td>\n",
              "    </tr>\n",
              "    <tr>\n",
              "      <th>89</th>\n",
              "      <td>117</td>\n",
              "      <td>250</td>\n",
              "      <td>[[19], [295], [575], [863], [1151], [1435], [1...</td>\n",
              "      <td>[N, N, N, N, N, N, N, N, N, N, N, N, N, N, N, ...</td>\n",
              "      <td>[-0.045, -0.045, -0.045, -0.045, -0.045, -0.04...</td>\n",
              "      <td>[0.175, 0.185, 0.18, 0.175, 0.175, 0.175, 0.17...</td>\n",
              "    </tr>\n",
              "    <tr>\n",
              "      <th>90</th>\n",
              "      <td>118</td>\n",
              "      <td>250</td>\n",
              "      <td>[[102], [268], [432], [600], [758], [918], [10...</td>\n",
              "      <td>[N, N, N, N, N, N, N, N, N, N, N, N, N, N, N, ...</td>\n",
              "      <td>[0.28, 0.335, 0.39, 0.395, 0.395, 0.385, 0.375...</td>\n",
              "      <td>[0.23, 0.22, 0.21, 0.205, 0.195, 0.175, 0.155,...</td>\n",
              "    </tr>\n",
              "  </tbody>\n",
              "</table>\n",
              "<p>91 rows × 6 columns</p>\n",
              "</div>"
            ],
            "text/plain": [
              "     ID   Fs                                                pos  \\\n",
              "0   001  128  [[29], [110], [191], [272], [353], [433], [514...   \n",
              "1   002  128  [[48], [153], [243], [352], [440], [547], [636...   \n",
              "2   003  128  [[91], [209], [326], [394], [537], [653], [745...   \n",
              "3   004  128  [[98], [223], [349], [474], [599], [726], [853...   \n",
              "4   005  128  [[27], [127], [225], [324], [423], [523], [623...   \n",
              "..  ...  ...                                                ...   \n",
              "86  114  250  [[155], [383], [611], [835], [1053], [1275], [...   \n",
              "87  115  250  [[215], [437], [667], [823], [1119], [1349], [...   \n",
              "88  116  250  [[255], [535], [817], [1093], [1377], [1657], ...   \n",
              "89  117  250  [[19], [295], [575], [863], [1151], [1435], [1...   \n",
              "90  118  250  [[102], [268], [432], [600], [758], [918], [10...   \n",
              "\n",
              "                                                label  \\\n",
              "0   [N, N, N, N, N, N, N, N, N, N, N, N, N, N, N, ...   \n",
              "1   [N, N, N, N, S, N, S, N, S, N, S, N, S, N, S, ...   \n",
              "2   [N, N, N, S, N, N, S, N, N, S, N, N, N, N, N, ...   \n",
              "3   [N, N, N, N, N, N, N, N, N, N, N, N, N, N, N, ...   \n",
              "4   [N, N, N, N, N, N, N, N, N, N, N, N, N, N, N, ...   \n",
              "..                                                ...   \n",
              "86  [N, N, N, N, N, N, N, N, N, N, N, N, N, N, N, ...   \n",
              "87  [N, N, N, V, N, N, N, V, N, N, N, N, N, N, N, ...   \n",
              "88  [N, N, N, N, N, N, N, N, N, N, N, N, N, N, N, ...   \n",
              "89  [N, N, N, N, N, N, N, N, N, N, N, N, N, N, N, ...   \n",
              "90  [N, N, N, N, N, N, N, N, N, N, N, N, N, N, N, ...   \n",
              "\n",
              "                                                lead1  \\\n",
              "0   [0.0, 0.04, 0.03, 0.0, 0.03, 0.09, 0.18, 0.14,...   \n",
              "1   [-0.035, -0.045, -0.025, -0.035, -0.045, -0.05...   \n",
              "2   [-0.56, -0.56, -0.55, -0.47, -0.53, -0.47, -0....   \n",
              "3   [-0.46, -0.49, -0.52, -0.58, -0.62, -0.69, -0....   \n",
              "4   [-0.27, -0.17, -0.13, -0.23, -0.18, -0.23, -0....   \n",
              "..                                                ...   \n",
              "86  [-0.22, -0.225, -0.23, -0.22, -0.185, -0.155, ...   \n",
              "87  [0.385, 0.35, 0.31, 0.285, 0.265, 0.25, 0.225,...   \n",
              "88  [-0.12, -0.12, -0.12, -0.125, -0.12, -0.115, -...   \n",
              "89  [-0.045, -0.045, -0.045, -0.045, -0.045, -0.04...   \n",
              "90  [0.28, 0.335, 0.39, 0.395, 0.395, 0.385, 0.375...   \n",
              "\n",
              "                                                lead2  \n",
              "0   [0.08, 0.07, 0.1, 0.06, 0.06, 0.03, 0.1, 0.21,...  \n",
              "1   [-0.095, -0.105, -0.095, -0.095, -0.115, -0.09...  \n",
              "2   [0.43, 0.56, 0.6, 0.41, 0.54, 0.48, 0.56, 0.46...  \n",
              "3   [0.56, 0.61, 0.66, 0.66, 0.63, 0.66, 0.59, 0.5...  \n",
              "4   [-0.02, -0.04, -0.01, -0.01, -0.02, -0.06, 0.0...  \n",
              "..                                                ...  \n",
              "86  [-0.86, -0.905, -0.94, -0.975, -1.0, -1.025, -...  \n",
              "87  [0.515, 0.45, 0.38, 0.33, 0.3, 0.28, 0.25, 0.2...  \n",
              "88  [-0.1, -0.105, -0.11, -0.125, -0.135, -0.13, -...  \n",
              "89  [0.175, 0.185, 0.18, 0.175, 0.175, 0.175, 0.17...  \n",
              "90  [0.23, 0.22, 0.21, 0.205, 0.195, 0.175, 0.155,...  \n",
              "\n",
              "[91 rows x 6 columns]"
            ]
          },
          "execution_count": 22,
          "metadata": {},
          "output_type": "execute_result"
        }
      ],
      "source": [
        "df2.head()"
      ]
    },
    {
      "cell_type": "markdown",
      "metadata": {
        "id": "M7PfIvxsFhGy"
      },
      "source": [
        "At this point, we have reduced the number of patients from 105 to 91. Of course, the label distribution remains unbalanced towards the 'N' class, as we can see in the next picture. "
      ]
    },
    {
      "cell_type": "code",
      "execution_count": null,
      "metadata": {
        "colab": {
          "base_uri": "https://localhost:8080/"
        },
        "execution": {
          "iopub.execute_input": "2022-02-02T15:37:01.242792Z",
          "iopub.status.busy": "2022-02-02T15:37:01.242463Z",
          "iopub.status.idle": "2022-02-02T15:37:01.587847Z",
          "shell.execute_reply": "2022-02-02T15:37:01.586851Z",
          "shell.execute_reply.started": "2022-02-02T15:37:01.242756Z"
        },
        "id": "Lb-b5VL-nTY7",
        "outputId": "2486fc47-e70b-4999-f10a-89e13ac55c0b"
      },
      "outputs": [
        {
          "data": {
            "image/png": "[encoded data removed]",
            "text/plain": [
              "<Figure size 432x288 with 1 Axes>"
            ]
          },
          "metadata": {
            "needs_background": "light"
          },
          "output_type": "display_data"
        },
        {
          "name": "stdout",
          "output_type": "stream",
          "text": [
            "Normal:  195270\n",
            "\n",
            "PAC:  9609\n",
            "\n",
            "PVC:  7795\n"
          ]
        }
      ],
      "source": [
        "# Label distribution df2\n",
        "lab = np.array(df2.label)\n",
        "\n",
        "normal=0\n",
        "pac=0\n",
        "pvc=0\n",
        "\n",
        "for i in range (lab.size):\n",
        "    for j in range (lab[i].size):       \n",
        "        if lab[i][j] == 'N':\n",
        "            normal=normal+1\n",
        "        elif lab[i][j] == 'S':\n",
        "            pac=pac+1\n",
        "        elif lab[i][j] == 'V':\n",
        "            pvc=pvc+1\n",
        "            \n",
        "classes = ['N','S','V']\n",
        "pos = np.arange(len(classes))\n",
        "\n",
        "plt.bar(pos, [normal, pac, pvc])\n",
        "plt.xticks(pos, classes)\n",
        "plt.title('classes occurances')\n",
        "plt.show()\n",
        "\n",
        "print('Normal: ', normal)\n",
        "print('\\nPAC: ', pac)\n",
        "print('\\nPVC: ', pvc)"
      ]
    },
    {
      "cell_type": "code",
      "execution_count": null,
      "metadata": {
        "execution": {
          "iopub.execute_input": "2022-02-02T15:37:01.590110Z",
          "iopub.status.busy": "2022-02-02T15:37:01.589193Z",
          "iopub.status.idle": "2022-02-02T15:37:01.595342Z",
          "shell.execute_reply": "2022-02-02T15:37:01.594686Z",
          "shell.execute_reply.started": "2022-02-02T15:37:01.590061Z"
        },
        "id": "5mIuUVtZnTY8"
      },
      "outputs": [],
      "source": [
        "# Upadte R_loc and R_labels on df2, only keeping the 91 patients which have at least one 'S' or 'V'.\n",
        "R_loc = df2['pos']\n",
        "R_labels = df2['label']"
      ]
    },
    {
      "cell_type": "code",
      "execution_count": null,
      "metadata": {
        "id": "GJuuAuTxFhGz"
      },
      "outputs": [],
      "source": [
        "# We decided to encode the classes as integers. In particular, we have:\n",
        "# class 0: normal 'N'\n",
        "# class 1: pac 'S'\n",
        "# class 2: pvc 'V' \n",
        "\n",
        "R_labels = np.concatenate(R_labels, axis =0)\n",
        "\n",
        "for i in range( 0, len(R_labels)):\n",
        "    \n",
        "    if R_labels[i] == 'N':\n",
        "        R_labels[i]=0\n",
        "        R_labels[i]=int(R_labels[i])\n",
        "        \n",
        "    elif R_labels[i] == 'S':\n",
        "        R_labels[i]=1\n",
        "        R_labels[i]=int(R_labels[i])\n",
        "        \n",
        "    elif R_labels[i] == 'V':\n",
        "        R_labels[i]=2\n",
        "        R_labels[i]=int(R_labels[i])"
      ]
    },
    {
      "cell_type": "markdown",
      "metadata": {
        "id": "r9SGbZE3nTY8"
      },
      "source": [
        "## Resampling\n",
        "Since the signals were sampled at different fs, we decided to resample at 128 Hz. "
      ]
    },
    {
      "cell_type": "code",
      "execution_count": null,
      "metadata": {
        "id": "Khoo-mTr0H4d"
      },
      "outputs": [],
      "source": [
        "fs=128\n",
        "T=1/fs"
      ]
    },
    {
      "cell_type": "code",
      "execution_count": null,
      "metadata": {
        "execution": {
          "iopub.execute_input": "2022-02-02T15:37:01.597955Z",
          "iopub.status.busy": "2022-02-02T15:37:01.597179Z",
          "iopub.status.idle": "2022-02-02T15:37:03.149303Z",
          "shell.execute_reply": "2022-02-02T15:37:03.148546Z",
          "shell.execute_reply.started": "2022-02-02T15:37:01.597824Z"
        },
        "id": "5kKSXiL2nTY9"
      },
      "outputs": [],
      "source": [
        "import scipy.signal\n",
        "d1 = np.array(df2.lead1)\n",
        "d2 = np.array(df2.lead2)\n",
        "f = np.array(df2.Fs)\n",
        "\n",
        "for i in range (d1.size):\n",
        "    signal_freq = int(f[i])\n",
        "  \n",
        "    if signal_freq == 250:\n",
        "        secs = int(len(d1[i])/250) # Number of seconds in signal X\n",
        "        samps = secs * 128   # Number of samples to downsample\n",
        "        d1[i] = scipy.signal.resample(d1[i], samps)\n",
        "        d2[i] = scipy.signal.resample(d2[i], samps)\n",
        "        \n",
        "        for j in range (0,len(R_loc[i])):\n",
        "            R_loc[i][j] = R_loc[i][j]*128/250 # resample R_loc too. "
      ]
    },
    {
      "cell_type": "markdown",
      "metadata": {
        "id": "PRbiHHBFnTY-"
      },
      "source": [
        "## Filtering\n",
        "We applied a butterworth bandpass filter of order 3, keeping frequencies between 2Hz and 20 Hz."
      ]
    },
    {
      "cell_type": "code",
      "execution_count": null,
      "metadata": {
        "execution": {
          "iopub.execute_input": "2022-02-02T15:37:03.160683Z",
          "iopub.status.busy": "2022-02-02T15:37:03.160396Z",
          "iopub.status.idle": "2022-02-02T15:37:03.176577Z",
          "shell.execute_reply": "2022-02-02T15:37:03.175576Z",
          "shell.execute_reply.started": "2022-02-02T15:37:03.160623Z"
        },
        "id": "7B9mer9XnTY-"
      },
      "outputs": [],
      "source": [
        "# Butterworth filter\n",
        "from scipy.signal import butter, lfilter\n",
        "\n",
        "def bandpass_filter(data, lowcut, highcut, signal_freq, filter_order):\n",
        "        nyquist_freq = 0.5 * signal_freq\n",
        "        low = lowcut / nyquist_freq\n",
        "        high = highcut / nyquist_freq\n",
        "        b, a = butter(filter_order, [low, high], btype=\"band\")\n",
        "        y = lfilter(b, a, data)\n",
        "        return y\n",
        "\n",
        "    "
      ]
    },
    {
      "cell_type": "code",
      "execution_count": null,
      "metadata": {
        "execution": {
          "iopub.execute_input": "2022-02-02T15:37:03.195293Z",
          "iopub.status.busy": "2022-02-02T15:37:03.194495Z",
          "iopub.status.idle": "2022-02-02T15:37:03.209441Z",
          "shell.execute_reply": "2022-02-02T15:37:03.208112Z",
          "shell.execute_reply.started": "2022-02-02T15:37:03.195236Z"
        },
        "id": "oNXH_SbnnTZA"
      },
      "outputs": [],
      "source": [
        "# Values from literature\n",
        "lowcut = 2.0 # lowcut frequency\n",
        "highcut = 20.0 # highcut frequency\n",
        "signal_freq = 128 # we resampled all the signals to 128Hz\n",
        "filter_order = 3 "
      ]
    },
    {
      "cell_type": "code",
      "execution_count": null,
      "metadata": {
        "execution": {
          "iopub.execute_input": "2022-02-02T15:37:03.211390Z",
          "iopub.status.busy": "2022-02-02T15:37:03.210948Z",
          "iopub.status.idle": "2022-02-02T15:37:03.754795Z",
          "shell.execute_reply": "2022-02-02T15:37:03.753666Z",
          "shell.execute_reply.started": "2022-02-02T15:37:03.211343Z"
        },
        "id": "QvwSlGMwnTZA"
      },
      "outputs": [],
      "source": [
        "# Create two lists, namely 'filtered1' and 'filtered2', containing the filtered signals (respectively, lead1 and lead2)\n",
        "filtered1 = [] \n",
        "filtered2 = []\n",
        "for i in range (d1.size):\n",
        "    data = d1[i] # lead1 signal\n",
        "    butter1 = bandpass_filter(data, lowcut, highcut, signal_freq, filter_order)\n",
        "    filtered1.append(butter1)\n",
        "    \n",
        "    data = d2[i] #lead2 signal\n",
        "    filtered2.append(bandpass_filter(data, lowcut, highcut, signal_freq, filter_order))"
      ]
    },
    {
      "cell_type": "code",
      "execution_count": null,
      "metadata": {
        "id": "S_AZtCEEFhG0",
        "outputId": "faf49e55-b89b-4acb-f058-44cc3317f069"
      },
      "outputs": [
        {
          "data": {
            "text/plain": [
              "[<matplotlib.lines.Line2D at 0x14413c37850>]"
            ]
          },
          "execution_count": 32,
          "metadata": {},
          "output_type": "execute_result"
        },
        {
          "data": {
            "image/png": "[encoded data removed]",
            "text/plain": [
              "<Figure size 432x288 with 1 Axes>"
            ]
          },
          "metadata": {
            "needs_background": "light"
          },
          "output_type": "display_data"
        }
      ],
      "source": [
        "plt.plot(filtered1[1])"
      ]
    },
    {
      "cell_type": "code",
      "execution_count": null,
      "metadata": {
        "colab": {
          "base_uri": "https://localhost:8080/"
        },
        "execution": {
          "iopub.execute_input": "2022-02-02T15:37:03.756423Z",
          "iopub.status.busy": "2022-02-02T15:37:03.756081Z",
          "iopub.status.idle": "2022-02-02T15:37:03.931206Z",
          "shell.execute_reply": "2022-02-02T15:37:03.930287Z",
          "shell.execute_reply.started": "2022-02-02T15:37:03.756392Z"
        },
        "id": "IEbvEbe-nTZB",
        "outputId": "096f59d4-d52c-47fc-8e95-69dfd0bb1aea"
      },
      "outputs": [
        {
          "data": {
            "image/png": "[encoded data removed]",
            "text/plain": [
              "<Figure size 432x288 with 1 Axes>"
            ]
          },
          "metadata": {
            "needs_background": "light"
          },
          "output_type": "display_data"
        }
      ],
      "source": [
        "# Visualize the signal before and after filtering:\n",
        "pos=np.array(list(range(0,800)))\n",
        "beat_butter = filtered1[1][pos] #after filtering\n",
        "beat_original = d1[1][pos] # before filtering\n",
        "\n",
        "plt.plot(beat_original,label=\"original\")\n",
        "plt.plot(beat_butter,label=\"filtered\")\n",
        "plt.legend(loc=\"upper left\")\n",
        "plt.show()"
      ]
    },
    {
      "cell_type": "markdown",
      "metadata": {
        "id": "3O1I0_HVnTZC"
      },
      "source": [
        "# Feature Extraction"
      ]
    },
    {
      "cell_type": "markdown",
      "metadata": {
        "id": "QpUk-WmknTZC"
      },
      "source": [
        "## Temporal features\n",
        "We computed:\n",
        "- RR intervals: distance of two consecutive R peaks. In particular, we computed both RR_prima (R(i) - R(i-1)) and RR_dopo (R(i+1)-R(i))\n",
        "- dRR: difference of consecutive RRs. In particular, we computed both dRR_prima and dRR_dopo.\n",
        "\n",
        "Considering two different windows (3 and 15), centered on the current beat, we computed:\n",
        "- Mean RR\n",
        "- Standard deviation of RRs\n",
        "- Standard deviation of dRRs\n",
        "- Percentage of successive interval differences greater than 10, 20, 30, 40, and 50 ms (pNN10, pNN20, pNN30, pNN40, pNN50)\n",
        "- Root Mean Square of Successive Differences (RMMSD) "
      ]
    },
    {
      "cell_type": "markdown",
      "metadata": {
        "id": "2LfWG5a_nTZC"
      },
      "source": [
        "### RR intervals"
      ]
    },
    {
      "cell_type": "code",
      "execution_count": null,
      "metadata": {
        "execution": {
          "iopub.execute_input": "2022-02-02T15:37:04.926096Z",
          "iopub.status.busy": "2022-02-02T15:37:04.925867Z",
          "iopub.status.idle": "2022-02-02T15:37:09.348018Z",
          "shell.execute_reply": "2022-02-02T15:37:09.347296Z",
          "shell.execute_reply.started": "2022-02-02T15:37:04.926068Z"
        },
        "id": "Wp9SSSeRnTZC"
      },
      "outputs": [],
      "source": [
        "RR_prima = []\n",
        "RR_dopo = []\n",
        "\n",
        "for i in range(len(R_loc)): # span R_loc lenght, meaning the 91 patients\n",
        "    RR_prima.append(np.nan) # add a 'nan' in the beginning because the first peak will have no RR_prima\n",
        "    for j in range(1, len(R_loc[i])): # span all the R peaks inside each signal, starting from 1 up to the end\n",
        "        RR_pre = R_loc[i][j][0] - R_loc[i][j-1][0] # R(i) - R(i-1)\n",
        "        RR_prima.append(RR_pre) \n",
        "    for k in range(0, len(R_loc[i])-1): # span all the R peaks inside each signal, starting from 0 up to the end-1\n",
        "        RR_post = R_loc[i][k+1][0] - R_loc[i][k][0]  # R(i+1) - R(i)\n",
        "        RR_dopo.append(RR_post) \n",
        "    RR_dopo.append(np.nan) # add a 'nan' in the end because the last peak will have no RR_dopo\n"
      ]
    },
    {
      "cell_type": "markdown",
      "metadata": {
        "id": "tYGG7tEgFhG1"
      },
      "source": [
        "At this point, we check for outliers in the feature: "
      ]
    },
    {
      "cell_type": "code",
      "execution_count": null,
      "metadata": {
        "execution": {
          "iopub.execute_input": "2022-02-02T15:37:09.349915Z",
          "iopub.status.busy": "2022-02-02T15:37:09.349409Z",
          "iopub.status.idle": "2022-02-02T15:37:09.440500Z",
          "shell.execute_reply": "2022-02-02T15:37:09.439592Z",
          "shell.execute_reply.started": "2022-02-02T15:37:09.349855Z"
        },
        "id": "6z6KWBm_nTZD"
      },
      "outputs": [],
      "source": [
        "# Patient IDs\n",
        "index = []\n",
        "for i in range (0, len(R_loc)):\n",
        "    indici =[]\n",
        "    for j in range (0, len(R_loc[i])):\n",
        "        indice = i\n",
        "        indici.append(indice)\n",
        "        \n",
        "    index.append(indici)\n",
        "    \n",
        "index = np.concatenate(index, axis=0)"
      ]
    },
    {
      "cell_type": "code",
      "execution_count": null,
      "metadata": {
        "execution": {
          "iopub.execute_input": "2022-02-02T15:37:09.950089Z",
          "iopub.status.busy": "2022-02-02T15:37:09.949762Z",
          "iopub.status.idle": "2022-02-02T15:37:10.209687Z",
          "shell.execute_reply": "2022-02-02T15:37:10.208675Z",
          "shell.execute_reply.started": "2022-02-02T15:37:09.950044Z"
        },
        "id": "UDypgkhjnTZE"
      },
      "outputs": [],
      "source": [
        "# Dataframe containing the RR intervals \n",
        "RR_df = pd.DataFrame({'ID': index,                        \n",
        "                        'RR_prima': RR_prima,\n",
        "                        'RR_dopo': RR_dopo,                        \n",
        "                        'label': R_labels\n",
        "                       })"
      ]
    },
    {
      "cell_type": "code",
      "execution_count": null,
      "metadata": {
        "colab": {
          "base_uri": "https://localhost:8080/",
          "height": 664
        },
        "execution": {
          "iopub.execute_input": "2022-02-02T15:37:10.211575Z",
          "iopub.status.busy": "2022-02-02T15:37:10.211343Z",
          "iopub.status.idle": "2022-02-02T15:37:11.523374Z",
          "shell.execute_reply": "2022-02-02T15:37:11.522495Z",
          "shell.execute_reply.started": "2022-02-02T15:37:10.211546Z"
        },
        "id": "G_bGGAkOnTZE",
        "outputId": "4c5d8ae9-905f-48a4-ee7a-0f2dbfdad524"
      },
      "outputs": [
        {
          "data": {
            "text/plain": [
              "<AxesSubplot:>"
            ]
          },
          "execution_count": 44,
          "metadata": {},
          "output_type": "execute_result"
        },
        {
          "data": {
            "image/png": "[encoded data removed]",
            "text/plain": [
              "<Figure size 720x720 with 1 Axes>"
            ]
          },
          "metadata": {
            "needs_background": "light"
          },
          "output_type": "display_data"
        }
      ],
      "source": [
        "RR_df.boxplot(figsize=(10,10))"
      ]
    },
    {
      "cell_type": "markdown",
      "metadata": {
        "id": "26zy7ZuGFhG2"
      },
      "source": [
        "We can notice the presence of outliers which appeared to be very strange. Thus, we explored the signals in order to understand where it happened and why. "
      ]
    },
    {
      "cell_type": "code",
      "execution_count": null,
      "metadata": {
        "colab": {
          "base_uri": "https://localhost:8080/",
          "height": 285
        },
        "execution": {
          "iopub.execute_input": "2022-02-02T15:37:11.524954Z",
          "iopub.status.busy": "2022-02-02T15:37:11.524694Z",
          "iopub.status.idle": "2022-02-02T15:37:11.766990Z",
          "shell.execute_reply": "2022-02-02T15:37:11.766147Z",
          "shell.execute_reply.started": "2022-02-02T15:37:11.524921Z"
        },
        "id": "DGIltlsInTZE",
        "outputId": "bb3a4a9c-bf29-41e8-d6b9-883f101ae36e"
      },
      "outputs": [
        {
          "data": {
            "text/plain": [
              "[<matplotlib.lines.Line2D at 0x14518253b20>]"
            ]
          },
          "execution_count": 71,
          "metadata": {},
          "output_type": "execute_result"
        },
        {
          "data": {
            "image/png": "[encoded data removed]",
            "text/plain": [
              "<Figure size 432x288 with 1 Axes>"
            ]
          },
          "metadata": {
            "needs_background": "light"
          },
          "output_type": "display_data"
        }
      ],
      "source": [
        "# Let's look at where we have these outliers \n",
        "segnale = filtered1[1] #take a signal\n",
        "segnale = segnale[0:4000] #take a portion of the signal\n",
        "r=df['pos'][2] # take the r peaks position in the signals\n",
        "r = r[0:15] # select come of these r peaks \n",
        "\n",
        "r_amp = segnale[r] \n",
        "plt.plot(segnale)\n",
        "plt.plot(r, r_amp, 'o')"
      ]
    },
    {
      "cell_type": "markdown",
      "metadata": {
        "id": "Q9ab6NtrFhG3"
      },
      "source": [
        "From this picture, we can see that some peaks were not annotated, and we assumed these were the ones causing outliers inside our RR intervals features. Thus, we decided to fix a normal range, taken from literature, considering RRmax = 3428.6ms. Whenever this distance was higher, we decided to set it to a normal value, namely 'rr_norm'. "
      ]
    },
    {
      "cell_type": "code",
      "execution_count": null,
      "metadata": {
        "execution": {
          "iopub.execute_input": "2022-02-02T15:37:11.768590Z",
          "iopub.status.busy": "2022-02-02T15:37:11.768339Z",
          "iopub.status.idle": "2022-02-02T15:37:17.815500Z",
          "shell.execute_reply": "2022-02-02T15:37:17.814464Z",
          "shell.execute_reply.started": "2022-02-02T15:37:11.768559Z"
        },
        "id": "DzzT9BzunTZF"
      },
      "outputs": [],
      "source": [
        "# Compute RR intervals again\n",
        "RR_prima = []\n",
        "RR_dopo = []\n",
        "\n",
        "rr_max = 3428 * 10**-3 *128 # taken from literature\n",
        "rr_norm = 1 * 128\n",
        "\n",
        "for i in range(len(R_loc)): \n",
        "    RR_prima.append(np.nan)\n",
        "    for j in range(1, len(R_loc[i])):\n",
        "        RR_pre = R_loc[i][j][0] - R_loc[i][j-1][0]\n",
        "        \n",
        "        # Check if RR intervals are in the normal range. If the value exceeds the threshold, we set it to a normal value.\n",
        "        if RR_pre > rr_max:\n",
        "            RR_prima.append(rr_norm)    \n",
        "        else:     \n",
        "            RR_prima.append(RR_pre)\n",
        "            \n",
        "    for k in range(0, len(R_loc[i])-1):\n",
        "        RR_post = R_loc[i][k+1][0] - R_loc[i][k][0]\n",
        "        \n",
        "        if RR_post > rr_max:\n",
        "            RR_dopo.append(rr_norm)\n",
        "        else:     \n",
        "            RR_dopo.append(RR_post)\n",
        "    RR_dopo.append(np.nan)"
      ]
    },
    {
      "cell_type": "code",
      "execution_count": null,
      "metadata": {
        "execution": {
          "iopub.execute_input": "2022-02-02T15:37:17.817734Z",
          "iopub.status.busy": "2022-02-02T15:37:17.817377Z",
          "iopub.status.idle": "2022-02-02T15:37:18.078844Z",
          "shell.execute_reply": "2022-02-02T15:37:18.077986Z",
          "shell.execute_reply.started": "2022-02-02T15:37:17.817684Z"
        },
        "id": "rdZRKDxWnTZF"
      },
      "outputs": [],
      "source": [
        "# df aggiornato contenente solo gli rr\n",
        "RR_df = pd.DataFrame({'ID': index,                        \n",
        "                        'RR_prima': RR_prima,\n",
        "                        'RR_dopo': RR_dopo,                        \n",
        "                        'label': R_labels\n",
        "                       })"
      ]
    },
    {
      "cell_type": "code",
      "execution_count": null,
      "metadata": {
        "colab": {
          "base_uri": "https://localhost:8080/",
          "height": 664
        },
        "execution": {
          "iopub.execute_input": "2022-02-02T15:37:18.080534Z",
          "iopub.status.busy": "2022-02-02T15:37:18.080280Z",
          "iopub.status.idle": "2022-02-02T15:37:19.334203Z",
          "shell.execute_reply": "2022-02-02T15:37:19.333269Z",
          "shell.execute_reply.started": "2022-02-02T15:37:18.080503Z"
        },
        "id": "1pwSIWZBnTZG",
        "outputId": "9754dbdb-9868-4b48-b1a9-82a4673a6c24"
      },
      "outputs": [
        {
          "data": {
            "text/plain": [
              "<AxesSubplot:>"
            ]
          },
          "execution_count": 48,
          "metadata": {},
          "output_type": "execute_result"
        },
        {
          "data": {
            "image/png": "[encoded data removed]",
            "text/plain": [
              "<Figure size 720x720 with 1 Axes>"
            ]
          },
          "metadata": {
            "needs_background": "light"
          },
          "output_type": "display_data"
        }
      ],
      "source": [
        "RR_df.boxplot(figsize=(10,10))"
      ]
    },
    {
      "cell_type": "markdown",
      "metadata": {
        "id": "9OqCzsHGFhG3"
      },
      "source": [
        "From this plot, we can see that the problem was partially solved. However, there may still be some non-annotated beats which could influence the RR distance. However, this problem could be solved using other features, such as the RR mean."
      ]
    },
    {
      "cell_type": "markdown",
      "metadata": {
        "id": "NwiqS1gRXg9-"
      },
      "source": [
        "### dRR"
      ]
    },
    {
      "cell_type": "code",
      "execution_count": null,
      "metadata": {
        "execution": {
          "iopub.execute_input": "2022-02-02T15:37:19.804142Z",
          "iopub.status.busy": "2022-02-02T15:37:19.802809Z",
          "iopub.status.idle": "2022-02-02T15:37:20.076113Z",
          "shell.execute_reply": "2022-02-02T15:37:20.075080Z",
          "shell.execute_reply.started": "2022-02-02T15:37:19.804079Z"
        },
        "id": "sK8V52dgnTZG"
      },
      "outputs": [],
      "source": [
        "dRR_prima = []\n",
        "dRR_dopo = []\n",
        "for i in range(0,len(RR_prima)-1): # span RR_prima, from 0 to the end-1\n",
        "    dRR_pre = RR_prima[i+1] - RR_prima[i] # RR_prima(i+1) - RR_prima(i)\n",
        "    dRR_post = RR_dopo[i+1] - RR_dopo[i] # RR_dopo(i+1) - RR_dopo(i)\n",
        "    dRR_prima.append(dRR_pre)\n",
        "    dRR_dopo.append(dRR_post)\n",
        "\n",
        "dRR_prima.append(np.nan) # add a 'nan' in the end because for the last RR it is not possible to compute this difference\n",
        "dRR_dopo.append(np.nan)\n"
      ]
    },
    {
      "cell_type": "markdown",
      "metadata": {
        "id": "_Vnd1wmbFhG4"
      },
      "source": [
        "At this point, we check for outliers in the feature: "
      ]
    },
    {
      "cell_type": "code",
      "execution_count": null,
      "metadata": {
        "execution": {
          "iopub.execute_input": "2022-02-02T15:37:20.077751Z",
          "iopub.status.busy": "2022-02-02T15:37:20.077486Z",
          "iopub.status.idle": "2022-02-02T15:37:20.342079Z",
          "shell.execute_reply": "2022-02-02T15:37:20.341174Z",
          "shell.execute_reply.started": "2022-02-02T15:37:20.077719Z"
        },
        "id": "uAI4VtaynTZH"
      },
      "outputs": [],
      "source": [
        "dRR_df = pd.DataFrame({'ID': index,                        \n",
        "                        'dRR_prima': dRR_prima,\n",
        "                        'dRR_dopo': dRR_dopo,                        \n",
        "                        'label': R_labels\n",
        "                       })"
      ]
    },
    {
      "cell_type": "code",
      "execution_count": null,
      "metadata": {
        "colab": {
          "base_uri": "https://localhost:8080/",
          "height": 664
        },
        "execution": {
          "iopub.execute_input": "2022-02-02T15:37:20.343795Z",
          "iopub.status.busy": "2022-02-02T15:37:20.343523Z",
          "iopub.status.idle": "2022-02-02T15:37:21.864722Z",
          "shell.execute_reply": "2022-02-02T15:37:21.863511Z",
          "shell.execute_reply.started": "2022-02-02T15:37:20.343762Z"
        },
        "id": "_-DBIezEnTZH",
        "outputId": "556b5806-69e3-4b75-ce31-552da6b98b3b"
      },
      "outputs": [
        {
          "data": {
            "text/plain": [
              "<AxesSubplot:>"
            ]
          },
          "execution_count": 51,
          "metadata": {},
          "output_type": "execute_result"
        },
        {
          "data": {
            "image/png": "[encoded data removed]",
            "text/plain": [
              "<Figure size 720x720 with 1 Axes>"
            ]
          },
          "metadata": {
            "needs_background": "light"
          },
          "output_type": "display_data"
        }
      ],
      "source": [
        "dRR_df.boxplot(figsize=(10,10))"
      ]
    },
    {
      "cell_type": "markdown",
      "metadata": {
        "id": "3c80XToIFhG4"
      },
      "source": [
        "Since we used RR_prima and RR_dopo computed after our correction, these features appear to be fine."
      ]
    },
    {
      "cell_type": "markdown",
      "metadata": {
        "id": "iXNhJe37XnJ4"
      },
      "source": [
        "### Mean RR and RR standard deviation, dRR standard deviation, Percentage of successive interval differences greater than 10, 20, 30, 40, and 50 ms , Root Mean Square of Successive Differences (RMSSD) \n",
        "We used two different windows, both centered on the current beat: 3 and 15 beats."
      ]
    },
    {
      "cell_type": "code",
      "execution_count": null,
      "metadata": {
        "id": "fAgTmtJk_mWF"
      },
      "outputs": [],
      "source": [
        "# Function to compute mean RR and RR standard deviation:\n",
        "def compute_mean_std(R_loc, window, rr_norm, rr_max):\n",
        "    # This receives as input:\n",
        "    # - R_loc: R peaks positions\n",
        "    # - window: the window we want to use\n",
        "    # - rr_max: the max_RR to accept \n",
        "    # - rr_norm: value to use as a correction whenever RR overcomes rr_max. \n",
        "    \n",
        "    mean_RR = []\n",
        "    std_RR = [] \n",
        "   \n",
        "    for i in range(len(R_loc)): #span the patients\n",
        "        mean_RR = np.append(mean_RR, np.repeat(np.nan, window)) #append as many 'nan' as the window length\n",
        "        mean_RR = list(mean_RR)\n",
        "\n",
        "        std_RR = np.append(std_RR, np.repeat(np.nan, window))\n",
        "        std_RR = list(std_RR)\n",
        "\n",
        "        \n",
        "        for j in range(window, len(R_loc[i])-window): # span the content of each signal starting from window up to the end-window\n",
        "            RR_meno_vect = [] \n",
        "            RR_piu_vect = []\n",
        "            for k in range(0, window):\n",
        "                RR_meno = abs(R_loc[i][j-k][0] - R_loc[i][j-k-1][0]) \n",
        "                if RR_meno > rr_max:\n",
        "                    RR_meno = rr_norm\n",
        "                RR_meno_vect.append(RR_meno)\n",
        "                RR_piu = abs(R_loc[i][j+k+1][0] - R_loc[i][j+k][0])\n",
        "                if RR_piu > rr_max:\n",
        "                    RR_piu = rr_norm\n",
        "                RR_piu_vect.append(RR_piu)\n",
        "                \n",
        "                RR_mean = np.mean([RR_meno_vect, RR_piu_vect])\n",
        "                RR_std= np.std( [RR_meno_vect, RR_piu_vect])\n",
        "\n",
        "            mean_RR.append(RR_mean)\n",
        "            std_RR.append(RR_std)\n",
        " \n",
        "        mean_RR = np.append(mean_RR, np.repeat(np.nan, window))\n",
        "        mean_RR = list(mean_RR)\n",
        "        std_RR = np.append(std_RR, np.repeat(np.nan, window))\n",
        "        std_RR = list(std_RR)\n",
        "\n",
        "    return mean_RR, std_RR\n"
      ]
    },
    {
      "cell_type": "code",
      "execution_count": null,
      "metadata": {
        "id": "BKZ-ypuL_mWG"
      },
      "outputs": [],
      "source": [
        "# Function to compute mean RR and RR standard deviation:\n",
        "def compute_stddRR_pNN_RMSSD(R_loc, window, m):\n",
        "    # This function receives as input: \n",
        "    # - R_loc: R peaks positions\n",
        "    # - window: the window to consider\n",
        "    # - m: used to compute pNNm \n",
        "\n",
        "    std_dRR = []     \n",
        "    pNN = []   \n",
        "    RMSSD = [] \n",
        "    ms = m*(10**-3)*128   \n",
        "    \n",
        "    for i in range(0, len(R_loc)):  \n",
        "        std_dRR = np.append(std_dRR, np.repeat(np.nan, window))\n",
        "        std_dRR = list(std_dRR)\n",
        "        \n",
        "        pNN = np.append(pNN, np.repeat(np.nan, window))\n",
        "        pNN = list(pNN)\n",
        "\n",
        "        RMSSD = np.append(RMSSD, np.repeat(np.nan, window))\n",
        "        RMSSD = list(RMSSD)\n",
        "        \n",
        "        for j in range(window, len(R_loc[i])-window):\n",
        "            dRR_tot = []\n",
        "            dRR = [] \n",
        "            \n",
        "            for s in range(-window, window-1):     \n",
        "                RR_1 = abs(R_loc[i][j+s+1][0] - R_loc[i][j+s][0])  \n",
        "                RR_2 = abs(R_loc[i][j+s+2][0] - R_loc[i][j+s+1][0]) \n",
        "                d = RR_2 - RR_1\n",
        "                dRR.append(d)\n",
        "            dRR_tot.append(dRR)\n",
        "            \n",
        "            dRR_std= np.std(dRR_tot[0])\n",
        "            std_dRR.append(dRR_std)\n",
        "\n",
        "            # RMSSD\n",
        "            dRR_rm = np.array(dRR_tot)\n",
        "            RMSD = np.sqrt(np.mean(np.square(np.diff(dRR_rm))))\n",
        "            RMSSD.append(RMSD)\n",
        "\n",
        "            count = 0\n",
        "            for l in range(0,len(dRR_tot[0])):\n",
        "                if dRR_tot[0][l]> ms:\n",
        "                    count=count+1\n",
        "            pN=count/((2*window)-1)\n",
        "            pNN.append(pN*100)\n",
        "        \n",
        "        std_dRR = np.append(std_dRR, np.repeat(np.nan, window))\n",
        "        std_dRR = list(std_dRR)\n",
        "\n",
        "        pNN = np.append(pNN, np.repeat(np.nan, window))\n",
        "        pNN = list(pNN)\n",
        "\n",
        "        RMSSD = np.append(RMSSD, np.repeat(np.nan, window))\n",
        "        RMSSD = list(RMSSD)\n",
        "    return std_dRR, pNN, RMSSD"
      ]
    },
    {
      "cell_type": "markdown",
      "metadata": {
        "id": "mcQexslW_mWG"
      },
      "source": [
        "#### 3 beats window"
      ]
    },
    {
      "cell_type": "code",
      "execution_count": null,
      "metadata": {
        "id": "f00w1TjQ_mWH"
      },
      "outputs": [],
      "source": [
        "rr_max = 3428 * 10**-3 *128\n",
        "rr_norm = 1 * 128\n",
        "window_3 = 3\n",
        "mean_RR_3, std_RR_3 = compute_mean_std(R_loc, window_3, rr_norm, rr_max)\n",
        "std_dRR_3, pNN_50_3, RMSSD_3 = compute_stddRR_pNN_RMSSD(R_loc, window_3, 50)"
      ]
    },
    {
      "cell_type": "code",
      "execution_count": null,
      "metadata": {
        "id": "U5tFT5nt_mWH"
      },
      "outputs": [],
      "source": [
        "_, pNN_10_3, _ = compute_stddRR_pNN_RMSSD(R_loc, window_3, 10) #pNN10\n",
        "_, pNN_20_3, _ = compute_stddRR_pNN_RMSSD(R_loc, window_3, 20) #pNN20\n",
        "_, pNN_30_3, _ = compute_stddRR_pNN_RMSSD(R_loc, window_3, 30) #pNN30\n",
        "_, pNN_40_3, _ = compute_stddRR_pNN_RMSSD(R_loc, window_3, 40) #pNN40"
      ]
    },
    {
      "cell_type": "markdown",
      "metadata": {
        "id": "nB66-88o_mWH"
      },
      "source": [
        "#### 15 beats window"
      ]
    },
    {
      "cell_type": "code",
      "execution_count": null,
      "metadata": {
        "id": "w-3Fp4lM_mWH"
      },
      "outputs": [],
      "source": [
        "rr_max = 3428 * 10**-3 *128\n",
        "rr_norm = 1 * 128\n",
        "window_15 = 15 \n",
        "mean_RR_15, std_RR_15 = compute_mean_std(R_loc, window_15, rr_norm, rr_max)\n",
        "std_dRR_15, pNN_50_15, RMSSD_15 = compute_stddRR_pNN_RMSSD(R_loc, window_15, 50)\n"
      ]
    },
    {
      "cell_type": "code",
      "execution_count": null,
      "metadata": {
        "id": "ap8Q59sS_mWH"
      },
      "outputs": [],
      "source": [
        "_, pNN_10_15, _ = compute_stddRR_pNN_RMSSD(R_loc, window_15, 10) #pNN10\n",
        "_, pNN_20_15, _ = compute_stddRR_pNN_RMSSD(R_loc, window_15, 20) #pNN20\n",
        "_, pNN_30_15, _ = compute_stddRR_pNN_RMSSD(R_loc, window_15, 30) #pNN30\n",
        "_, pNN_40_15, _ = compute_stddRR_pNN_RMSSD(R_loc, window_15, 40) #pNN40\n"
      ]
    },
    {
      "cell_type": "markdown",
      "metadata": {
        "id": "zthiQN5UXxQo"
      },
      "source": [
        "### Deal with the nan values introduced\n",
        "When computing these features, we introduced some nan values. We evaluated different options, such as removing the rows, but it didn't seem correct since we needed to perform predictions on each and every beat, so we could not simply remove some of them. \n",
        "Thus, we decided to impute their value, using the intra-patient mean. "
      ]
    },
    {
      "cell_type": "code",
      "execution_count": null,
      "metadata": {
        "id": "w8YKE1TP_mWI"
      },
      "outputs": [],
      "source": [
        "# Function to remove nan values and substitute them with the intra-patient mean\n",
        "def remove_nan(R_loc, variable):\n",
        "    # This function receives as input:\n",
        "    # - R_loc: R peaks positions\n",
        "    # - variable: the feature where we want to remove nan values.\n",
        "\n",
        "    Variable = []\n",
        "    k=0\n",
        "    for i in range(0, len(R_loc)): # span R_loc\n",
        "        l = len(R_loc[i]) # length of the R_loc vector for patient i\n",
        "        paziente= variable[k : k+l] # extract the patient from the feature vector, which we created as a list (loosing ID reference)\n",
        "        mean_var = np.nanmean(paziente) # compute the mean value of the specific feature for the specific patient, without nan\n",
        "        paziente = np.where(np.isnan(paziente), mean_var, paziente) # substitute nan values with the computed mean\n",
        "        Variable.append(paziente) \n",
        "        k=k+l \n",
        "    return Variable\n"
      ]
    },
    {
      "cell_type": "code",
      "execution_count": null,
      "metadata": {
        "id": "SvWy1jnS_mWI"
      },
      "outputs": [],
      "source": [
        "RR_prima = remove_nan(R_loc, RR_prima)\n",
        "RR_dopo = remove_nan(R_loc, RR_dopo)\n",
        "dRR_prima = remove_nan(R_loc, dRR_prima)\n",
        "dRR_dopo = remove_nan(R_loc, dRR_dopo)\n",
        "mean_RR_3 = remove_nan(R_loc, mean_RR_3)\n",
        "std_RR_3 = remove_nan(R_loc, std_RR_3)\n",
        "std_dRR_3 = remove_nan(R_loc, std_dRR_3 )\n",
        "pNN_50_3 = remove_nan(R_loc, pNN_50_3 )\n",
        "RMSSD_3 = remove_nan(R_loc, RMSSD_3)\n",
        "pNN_10_3 = remove_nan(R_loc, pNN_10_3)\n",
        "pNN_20_3 = remove_nan(R_loc, pNN_20_3 )\n",
        "pNN_30_3 = remove_nan(R_loc, pNN_30_3)\n",
        "pNN_40_3 = remove_nan(R_loc, pNN_40_3)\n",
        "mean_RR_15 = remove_nan(R_loc, mean_RR_15)\n",
        "std_RR_15 = remove_nan(R_loc, std_RR_15)\n",
        "std_dRR_15 = remove_nan(R_loc, std_dRR_15)\n",
        "pNN_50_15 = remove_nan(R_loc, pNN_50_15)\n",
        "RMSSD_15 = remove_nan(R_loc, RMSSD_15)\n",
        "pNN_10_15 = remove_nan(R_loc, pNN_10_15)\n",
        "pNN_20_15 = remove_nan(R_loc, pNN_20_15)\n",
        "pNN_30_15 = remove_nan(R_loc, pNN_30_15)\n",
        "pNN_40_15 = remove_nan(R_loc, pNN_40_15)"
      ]
    },
    {
      "cell_type": "code",
      "execution_count": null,
      "metadata": {
        "id": "olMPNTS2_mWJ"
      },
      "outputs": [],
      "source": [
        "RR_prima =np.concatenate(RR_prima, axis=0)\n",
        "RR_dopo =np.concatenate(RR_dopo, axis=0)\n",
        "dRR_prima =np.concatenate(dRR_prima, axis=0)\n",
        "dRR_dopo =np.concatenate(dRR_dopo, axis=0)\n",
        "mean_RR_3 =np.concatenate(mean_RR_3, axis=0)\n",
        "std_RR_3 =np.concatenate(std_RR_3, axis=0)\n",
        "std_dRR_3 =np.concatenate(std_dRR_3, axis=0)\n",
        "pNN_50_3 =np.concatenate(pNN_50_3, axis=0)\n",
        "RMSSD_3 =np.concatenate(RMSSD_3, axis=0)\n",
        "pNN_10_3 =np.concatenate(pNN_10_3, axis=0)\n",
        "pNN_20_3 =np.concatenate(pNN_20_3, axis=0)\n",
        "pNN_30_3 =np.concatenate(pNN_30_3, axis=0)\n",
        "pNN_40_3 =np.concatenate(pNN_40_3, axis=0)\n",
        "mean_RR_15 =np.concatenate(mean_RR_15, axis=0)\n",
        "std_RR_15 =np.concatenate(std_RR_15, axis=0)\n",
        "std_dRR_15 =np.concatenate(std_dRR_15, axis=0)\n",
        "pNN_50_15 =np.concatenate(pNN_50_15, axis=0)\n",
        "RMSSD_15 =np.concatenate(RMSSD_15, axis=0)\n",
        "pNN_10_15 =np.concatenate(pNN_10_15, axis=0)\n",
        "pNN_20_15 =np.concatenate(pNN_20_15, axis=0)\n",
        "pNN_30_15 =np.concatenate(pNN_30_15, axis=0)\n",
        "pNN_40_15 =np.concatenate(pNN_40_15, axis=0)"
      ]
    },
    {
      "cell_type": "markdown",
      "metadata": {
        "id": "y9LpTuE5nTZJ"
      },
      "source": [
        "## Morphological features\n",
        "We computed, for each lead: \n",
        "- Beats amplitude.\n",
        "- QRS, P wave and PR segment amplitudes. \n",
        "- Maximum Cross correlation, using an intra-patient template obtained considering three different windows (4, 20, 80)\n",
        "- Lag corresponding to the cross-correlation value described above."
      ]
    },
    {
      "cell_type": "code",
      "execution_count": null,
      "metadata": {
        "execution": {
          "iopub.execute_input": "2022-02-02T15:38:04.809057Z",
          "iopub.status.busy": "2022-02-02T15:38:04.807941Z",
          "iopub.status.idle": "2022-02-02T15:38:04.822054Z",
          "shell.execute_reply": "2022-02-02T15:38:04.820661Z",
          "shell.execute_reply.started": "2022-02-02T15:38:04.809005Z"
        },
        "id": "RjY5dwF7nTZJ"
      },
      "outputs": [],
      "source": [
        "# Function to normalize data to have mean = 0 and standard deviation = 1\n",
        "def norm_data(data):\n",
        "    mean_data=np.mean(data)\n",
        "    std_data=np.std(data, ddof=1)\n",
        "    return (data-mean_data)/(std_data)"
      ]
    },
    {
      "cell_type": "code",
      "execution_count": null,
      "metadata": {
        "id": "85qc9_ERFhG6"
      },
      "outputs": [],
      "source": [
        "# Function to compute:\n",
        "# - the beats amplitude \n",
        "# - the cross correlation between neighboring beats, considering 3 windows: \n",
        "#       - 4 beats (2 before and 2 after the current beat)\n",
        "#       - 20 beats (10 before and 10 after the current beat)\n",
        "#       - 80 beats (40 before and 40 after the current beat)\n",
        "# After aligning beats with cross-correlation, we will discard outliers and compute intra-patient templates, which will then be used \n",
        "# to compute cross correlation between the template and each beat. The maximum cross correlation of each segment will be used as a feature. \n",
        "\n",
        "# Starting from the R peak, we consider the beat as the portion going from –300 to + 250 ms, as found in literature. \n",
        "def compute_amplitude_correlation(sig, R_loc, T, window):\n",
        "    # This function receives as input:\n",
        "    # - sig: input signal\n",
        "    # - R_loc: R peaks locations\n",
        "    # T: period, defined as 1/Fs\n",
        "    # window: the window to compute the intra-patient template\n",
        "\n",
        "    beats= []\n",
        "    correlation = []\n",
        "    ampiezze = []\n",
        "\n",
        "    for i in range(0,len(R_loc)): # span the patients\n",
        "        amp = []\n",
        "        battiti=[]\n",
        "        correlazione = []\n",
        "        signal=sig[i]\n",
        "                \n",
        "        correlazione = np.append(correlazione, np.repeat(np.nan, window+1)) #append nan values as the beginning\n",
        "        correlazione = list(correlazione)\n",
        "                \n",
        "        for k in range (0,window+1): \n",
        "            if k==0: # if we are at the beginning of the signal, we cannot go back, thus, we go from 0 to +0.250ms\n",
        "                b=signal[0:int(R_loc[i][k])+round(0.250/T)]\n",
        "                        \n",
        "                a = abs(np.max(b) - np.min(b)) # compute the amplitude as the difference between the maximum and the minimum of the beat\n",
        "                amp.append(a)\n",
        "                        \n",
        "                b = norm_data(b) # normalize the beat to have 0 mean and standard deviation = 1\n",
        "                battiti.append(b)\n",
        "            else:\n",
        "                b=signal[int(R_loc[i][k])-round(0.3/T):int(R_loc[i][k])+round(0.250/T)] # R - 300ms:R + 250 MS\n",
        "                        \n",
        "                a = abs(np.max(b) - np.min(b))\n",
        "                amp.append(a)\n",
        "                        \n",
        "                b = norm_data(b)\n",
        "                battiti.append(b)\n",
        "               \n",
        "        for j in range (window+1,(len(R_loc[i])-(window+1))): \n",
        "            c = []\n",
        "            corre = []    \n",
        "           \n",
        "            b2=signal[int(R_loc[i][j])-round(0.3/T):int(R_loc[i][j])+round(0.250/T)] # current beat\n",
        "            a = abs(np.max(b2) - np.min(b2))\n",
        "            amp.append(a)\n",
        "            \n",
        "            b2 = norm_data(b2)\n",
        "            battiti.append(b2)\n",
        "            \n",
        "            for s in range(1, window+1):\n",
        "                \n",
        "                b0=signal[int(R_loc[i][j-s])-round(0.3/T):int(R_loc[i][j-s])+round(0.250/T)] # beats in the window before the current beat\n",
        "                b0 = norm_data(b0)\n",
        "                        \n",
        "                b3=signal[int(R_loc[i][j+s])-round(0.3/T):int(R_loc[i][j+s])+round(0.250/T)] # beats in the window after the current beat\n",
        "                b3 = norm_data(b3)\n",
        "                        \n",
        "                corr0 = np.correlate(b0, b2) * (1.0/(b2.size-1)) # cross correlation between the current beat b2 and the previous beats \n",
        "                c.append(corr0)       \n",
        "                corr3 = np.correlate(b3, b2) * (1.0/(b2.size-1)) # cross correlation between the current beat b2 and the following beats \n",
        "                c.append(corr3) \n",
        "\n",
        "            corre.append(c) # store the cross correlation values in each window\n",
        "            \n",
        "        \n",
        "            corr = np.mean(corre) # compute the mean of the cross correlation values and store them in 'correlazione'\n",
        "            correlazione.append(corr)\n",
        "            \n",
        "        for m in range (len(R_loc[i])-(window+1),len(R_loc[i])):\n",
        "            if m==len(R_loc[i]): #for the last beat, we have to stop at the end of the signal and we cannot go after. \n",
        "                b=signal[int(R_loc[i][m])-round(0.3/T):len(R_loc[i])]\n",
        "                        \n",
        "                a = abs(np.max(b) - np.min(b))\n",
        "                amp.append(a)\n",
        "                        \n",
        "                b = norm_data(b)\n",
        "                battiti.append(b)\n",
        "            else:\n",
        "                b=signal[int(R_loc[i][m])-round(0.3/T):int(R_loc[i][m])+round(0.250/T)]\n",
        "                        \n",
        "                a = abs(np.max(b) - np.min(b))\n",
        "                amp.append(a)\n",
        "                        \n",
        "                b = norm_data(b)\n",
        "                battiti.append(b)\n",
        "            \n",
        "        correlazione = np.append(correlazione, np.repeat(np.nan, window+1)) # add nan values in the end\n",
        "        correlazione = list(correlazione)\n",
        "                \n",
        "        correlation.append(correlazione)  # cross correlation  \n",
        "        beats.append(battiti) # beats \n",
        "        ampiezze.append(amp) # amplitudes\n",
        "    return correlation, ampiezze, beats"
      ]
    },
    {
      "cell_type": "code",
      "execution_count": null,
      "metadata": {
        "execution": {
          "iopub.execute_input": "2022-02-02T15:39:18.694777Z",
          "iopub.status.busy": "2022-02-02T15:39:18.694508Z",
          "iopub.status.idle": "2022-02-02T15:39:18.924236Z",
          "shell.execute_reply": "2022-02-02T15:39:18.923382Z",
          "shell.execute_reply.started": "2022-02-02T15:39:18.694746Z"
        },
        "id": "8spak4rTnTZK"
      },
      "outputs": [],
      "source": [
        "# Function to create intra-patient templates\n",
        "def create_templates(correlation, beats):\n",
        "  # The function receives as inputs:\n",
        "  # - correlation: cross correlation values obtained with the previous function ('compute_amplitude_correlation')\n",
        "  # - beats: beats extracted using values from literature (-300ms; +250ms from the R peak)\n",
        "    \n",
        "    threshold = 0.75 # threshold to remove outliers\n",
        "    templates = []\n",
        "    for i in range(0, len(correlation)): \n",
        "        template = []\n",
        "        for j in range(0, len(correlation[i])):\n",
        "            if correlation[i][j] > threshold: # if the cross correlation overcomes the threshold, we store it to create the template            \n",
        "                template.append(beats[i][j])\n",
        "\n",
        "        if len(template) == 0:  \n",
        "          m =-100\n",
        "\n",
        "          for k in range (0, len(correlation[i])):\n",
        "            m_old = m\n",
        "            m = correlation[i][k]\n",
        "\n",
        "            if m > m_old:\n",
        "              massimo = m # update the maximum\n",
        "              id = k # update the corresponding index\n",
        "\n",
        "          template.append(beats[i][id])\n",
        "          template = np.concatenate(template) # to fix dimensions        \n",
        "        \n",
        "        else: \n",
        "            template = np.mean(template, axis = 0)\n",
        "\n",
        "        templates.append(template)\n",
        "\n",
        "    return templates\n",
        "            "
      ]
    },
    {
      "cell_type": "code",
      "execution_count": null,
      "metadata": {
        "id": "S0Sq-_P5_mWM"
      },
      "outputs": [],
      "source": [
        "def cross_corr(y1, y2):\n",
        "\n",
        "  if len(y1) != len(y2):\n",
        "    raise ValueError('The lengths of the inputs should be the same.')\n",
        "  y1_auto_corr = np.dot(y1, y1) / len(y1)\n",
        "  y2_auto_corr = np.dot(y2, y2) / len(y1)\n",
        "  corr = np.correlate(y1, y2, mode='same')\n",
        "  # The unbiased sample size is N - lag.\n",
        "  unbiased_sample_size = np.correlate(np.ones(len(y1)), np.ones(len(y1)), mode='same')\n",
        "  corr = corr / unbiased_sample_size / np.sqrt(y1_auto_corr * y2_auto_corr)\n",
        "  shift = len(y1) // 2\n",
        "  max_corr = np.max(corr)\n",
        "  argmax_corr = np.argmax(corr)\n",
        "\n",
        "  return max_corr, argmax_corr - shift"
      ]
    },
    {
      "cell_type": "code",
      "execution_count": null,
      "metadata": {
        "execution": {
          "iopub.execute_input": "2022-02-02T15:39:18.925820Z",
          "iopub.status.busy": "2022-02-02T15:39:18.925604Z",
          "iopub.status.idle": "2022-02-02T15:39:20.376656Z",
          "shell.execute_reply": "2022-02-02T15:39:20.375660Z",
          "shell.execute_reply.started": "2022-02-02T15:39:18.925793Z"
        },
        "id": "jhOBYLKFnTZK"
      },
      "outputs": [],
      "source": [
        "# Function to compare each beat of the subject with the corresponding template using cross-correlation.\n",
        "def compute_max_cross_corr_lag(templates, beats):\n",
        "    lag_corr=[]\n",
        "    maximum_cross_correlation = []\n",
        "\n",
        "    for i in range(0, len(beats)):\n",
        "        template = templates[i]\n",
        "        correl = []\n",
        "        l=[]\n",
        "        for j in range(0, len(beats[i])):\n",
        "          if len(template) != len(beats[i][j]):\n",
        "              print('lunghezze:', len(template), len(beats[i][j]), i,j)\n",
        "          corr, lag = cross_corr(template, beats[i][j])\n",
        "          correl.append(corr)\n",
        "          l.append(lag)\n",
        "\n",
        "            \n",
        "        maximum_cross_correlation.append(correl)\n",
        "        lag_corr.append(l)\n",
        "    return maximum_cross_correlation, lag_corr\n"
      ]
    },
    {
      "cell_type": "code",
      "execution_count": null,
      "metadata": {
        "id": "u34-2ccw_mWM"
      },
      "outputs": [],
      "source": [
        "def pad_beats(beats, n):\n",
        "    for j in range (0, len(beats)):\n",
        "        for i in range (0, (len(beats[j]))):\n",
        "            if len(beats[j][i]) < n:\n",
        "                beats[j][i] = np.pad(beats[j][i], (n - len(beats[j][i])-1,1), 'mean')\n",
        "            elif len(beats[j][i]) > n:\n",
        "                s=len(beats[j][i]) - n -1 \n",
        "                beats[j][i]=beats[j][i][s:-1] \n",
        "    return beats"
      ]
    },
    {
      "cell_type": "code",
      "execution_count": null,
      "metadata": {
        "id": "fLjSoZ1v_mWN"
      },
      "outputs": [],
      "source": [
        "# Function to compute:\n",
        "# - the qrs amplitude \n",
        "# - the cross correlation between neighboring QRSs, considering 3 windows: \n",
        "#       - 4 beats (2 before and 2 after the current beat)\n",
        "#       - 20 beats (10 before and 10 after the current beat)\n",
        "#       - 80 beats (40 before and 40 after the current beat)\n",
        "# After aligning QRSs with cross-correlation, we will discard outliers and compute intra-patient templates, which will then be used \n",
        "# to compute cross correlation between the template and each QRS. The maximum cross correlation of each segment will be used as a feature. \n",
        "\n",
        "# Starting from the R peak, we consider the QRS as the portion going from –70 to +60 ms, as found in literature. \n",
        "def compute_amplitude_correlation_qrs(sig, R_loc, T, window):\n",
        "    qrs= []\n",
        "    correlation_qrs = []\n",
        "    ampiezze_qrs = []\n",
        "\n",
        "    for i in range(0,len(R_loc)):\n",
        "        amp = []\n",
        "        battiti=[]\n",
        "        correlazione = []\n",
        "        signal=sig[i]\n",
        "                \n",
        "        correlazione = np.append(correlazione, np.repeat(np.nan, window+1))\n",
        "        correlazione = list(correlazione)\n",
        "                \n",
        "        for k in range (0,window+1):\n",
        "            if k==0:\n",
        "                b=signal[0:int(R_loc[i][k])+round(0.06/T)]\n",
        "                        \n",
        "                a = abs(np.max(b) - np.min(b))\n",
        "                amp.append(a)\n",
        "                        \n",
        "                b = norm_data(b)\n",
        "                battiti.append(b)\n",
        "            else:\n",
        "                b=signal[int(R_loc[i][k])-round(0.07/T):int(R_loc[i][k])+round(0.06/T)] # - 300ms + 250 ms\n",
        "                        \n",
        "                a = abs(np.max(b) - np.min(b))\n",
        "                amp.append(a)\n",
        "                        \n",
        "                b = norm_data(b)\n",
        "                battiti.append(b)\n",
        "               \n",
        "        for j in range (window+1,(len(R_loc[i])-(window+1))):\n",
        "            c = []\n",
        "            corre = []    \n",
        "           \n",
        "            b2=signal[int(R_loc[i][j])-round(0.07/T):int(R_loc[i][j])+round(0.06/T)] # current beat\n",
        "            a = abs(np.max(b2) - np.min(b2))\n",
        "            amp.append(a)\n",
        "            \n",
        "            b2 = norm_data(b2)\n",
        "            battiti.append(b2)\n",
        "            \n",
        "            for s in range(1, window+1):\n",
        "                \n",
        "                b0=signal[int(R_loc[i][j-s])-round(0.07/T):int(R_loc[i][j-s])+round(0.06/T)]\n",
        "                b0 = norm_data(b0)\n",
        "                        \n",
        "                b3=signal[int(R_loc[i][j+s])-round(0.07/T):int(R_loc[i][j+s])+round(0.06/T)]\n",
        "                b3 = norm_data(b3)\n",
        "                        \n",
        "                corr0 = np.correlate(b0, b2) * (1.0/(b2.size-1))\n",
        "                c.append(corr0)       \n",
        "                corr3 = np.correlate(b3, b2) * (1.0/(b2.size-1))\n",
        "                c.append(corr3) \n",
        "\n",
        "            corre.append(c)\n",
        "            \n",
        "        \n",
        "            corr = np.mean(corre)\n",
        "            correlazione.append(corr)\n",
        "            \n",
        "        for m in range (len(R_loc[i])-(window+1),len(R_loc[i])):\n",
        "            if m==len(R_loc[i]):\n",
        "                b=signal[int(R_loc[i][m])-round(0.07/T):len(R_loc[i])]\n",
        "                        \n",
        "                a = abs(np.max(b) - np.min(b))\n",
        "                amp.append(a)\n",
        "                        \n",
        "                b = norm_data(b)\n",
        "                battiti.append(b)\n",
        "            else:\n",
        "                b=signal[int(R_loc[i][m])-round(0.07/T):int(R_loc[i][m])+round(0.06/T)]\n",
        "                        \n",
        "                a = abs(np.max(b) - np.min(b))\n",
        "                amp.append(a)\n",
        "                        \n",
        "                b = norm_data(b)\n",
        "                battiti.append(b)\n",
        "            \n",
        "        correlazione = np.append(correlazione, np.repeat(np.nan, window+1))\n",
        "        correlazione = list(correlazione)\n",
        "                \n",
        "        correlation_qrs.append(correlazione)    \n",
        "        qrs.append(battiti)\n",
        "        ampiezze_qrs.append(amp)\n",
        "    return correlation_qrs, ampiezze_qrs, qrs"
      ]
    },
    {
      "cell_type": "code",
      "execution_count": null,
      "metadata": {
        "id": "XI3w6n-F_mWN"
      },
      "outputs": [],
      "source": [
        "# Function to compute:\n",
        "# - the P wave amplitude \n",
        "# - the cross correlation between neighboring P waves, considering 3 windows: \n",
        "#       - 4 beats (2 before and 2 after the current beat)\n",
        "#       - 20 beats (10 before and 10 after the current beat)\n",
        "#       - 80 beats (40 before and 40 after the current beat)\n",
        "# After aligning P waves with cross-correlation, we will discard outliers and compute intra-patient templates, which will then be used \n",
        "# to compute cross correlation between the template and each P wave. The maximum cross correlation of each segment will be used as a feature. \n",
        "\n",
        "# Starting from the R peak, we consider the P wave as the portion going from –300 to +40 ms, as found in literature. \n",
        "def compute_amplitude_correlation_p(sig, R_loc, T, window):\n",
        "    p = []\n",
        "    correlation_p = []\n",
        "    ampiezze_p = []\n",
        "\n",
        "    for i in range(0,len(R_loc)):\n",
        "        amp = []\n",
        "        battiti=[]\n",
        "        correlazione = []\n",
        "        signal=sig[i]\n",
        "                \n",
        "        correlazione = np.append(correlazione, np.repeat(np.nan, window+1))\n",
        "        correlazione = list(correlazione)\n",
        "                \n",
        "        for k in range (0,window+1):\n",
        "            if k==0:\n",
        "                b=signal[0:int(R_loc[i][k])+round(0.04/T)]\n",
        "                        \n",
        "                a = abs(np.max(b) - np.min(b))\n",
        "                amp.append(a)\n",
        "                        \n",
        "                b = norm_data(b)\n",
        "                battiti.append(b)\n",
        "            else:\n",
        "                b=signal[int(R_loc[i][k])-round(0.3/T):int(R_loc[i][k])+round(0.04/T)] # - 300ms + 250 ms\n",
        "                        \n",
        "                a = abs(np.max(b) - np.min(b))\n",
        "                amp.append(a)\n",
        "                        \n",
        "                b = norm_data(b)\n",
        "                battiti.append(b)\n",
        "               \n",
        "        for j in range (window+1,(len(R_loc[i])-(window+1))):\n",
        "            c = []\n",
        "            corre = []    \n",
        "           \n",
        "            b2=signal[int(R_loc[i][j])-round(0.3/T):int(R_loc[i][j])+round(0.04/T)] # current beat\n",
        "            a = abs(np.max(b2) - np.min(b2))\n",
        "            amp.append(a)\n",
        "            \n",
        "            b2 = norm_data(b2)\n",
        "            battiti.append(b2)\n",
        "            \n",
        "            for s in range(1, window+1):\n",
        "                \n",
        "                b0=signal[int(R_loc[i][j-s])-round(0.3/T):int(R_loc[i][j-s])+round(0.04/T)]\n",
        "                b0 = norm_data(b0)\n",
        "                        \n",
        "                b3=signal[int(R_loc[i][j+s])-round(0.3/T):int(R_loc[i][j+s])+round(0.04/T)]\n",
        "                b3 = norm_data(b3)\n",
        "                        \n",
        "                corr0 = np.correlate(b0, b2) * (1.0/(b2.size-1))\n",
        "                c.append(corr0)       \n",
        "                corr3 = np.correlate(b3, b2) * (1.0/(b2.size-1))\n",
        "                c.append(corr3) \n",
        "\n",
        "            corre.append(c)\n",
        "            \n",
        "        \n",
        "            corr = np.mean(corre)\n",
        "            correlazione.append(corr)\n",
        "            \n",
        "        for m in range (len(R_loc[i])-(window+1),len(R_loc[i])):\n",
        "            if m==len(R_loc[i]):\n",
        "                b=signal[int(R_loc[i][m])-round(0.3/T):len(R_loc[i])+round(0.04/T)]\n",
        "                        \n",
        "                a = abs(np.max(b) - np.min(b))\n",
        "                amp.append(a)\n",
        "                        \n",
        "                b = norm_data(b)\n",
        "                battiti.append(b)\n",
        "            else:\n",
        "                b=signal[int(R_loc[i][m])-round(0.3/T):int(R_loc[i][m])+round(0.04/T)]\n",
        "                        \n",
        "                a = abs(np.max(b) - np.min(b))\n",
        "                amp.append(a)\n",
        "                        \n",
        "                b = norm_data(b)\n",
        "                battiti.append(b)\n",
        "            \n",
        "        correlazione = np.append(correlazione, np.repeat(np.nan, window+1))\n",
        "        correlazione = list(correlazione)\n",
        "                \n",
        "        correlation_p.append(correlazione)    \n",
        "        p.append(battiti)\n",
        "        ampiezze_p.append(amp)\n",
        "    return correlation_p, ampiezze_p, p"
      ]
    },
    {
      "cell_type": "code",
      "execution_count": null,
      "metadata": {
        "id": "KkgGG_kR_mWO"
      },
      "outputs": [],
      "source": [
        "# Function to compute:\n",
        "# - the PR segment amplitude \n",
        "# - the cross correlation between neighboring PR segments, considering 3 windows: \n",
        "#       - 4 beats (2 before and 2 after the current beat)\n",
        "#       - 20 beats (10 before and 10 after the current beat)\n",
        "#       - 80 beats (40 before and 40 after the current beat)\n",
        "# After aligning PR segments with cross-correlation, we will discard outliers and compute intra-patient templates, which will then be used \n",
        "# to compute cross correlation between the template and each PR segment. The maximum cross correlation of each segment will be used as a feature. \n",
        "\n",
        "# Starting from the R peak, we consider the PR segment as the portion going from –288 to +0 ms, as found in literature. \n",
        "def compute_amplitude_correlation_pr(sig, R_loc, T, window):\n",
        "    pr = []\n",
        "    correlation_pr = []\n",
        "    ampiezze_pr = []\n",
        "\n",
        "    for i in range(0,len(R_loc)):\n",
        "        amp = []\n",
        "        battiti=[]\n",
        "        correlazione = []\n",
        "        signal=sig[i]\n",
        "                \n",
        "        correlazione = np.append(correlazione, np.repeat(np.nan, window+1))\n",
        "        correlazione = list(correlazione)\n",
        "                \n",
        "        for k in range (0,window+1):\n",
        "            if k==0:\n",
        "                b=signal[0:int(R_loc[i][k])]\n",
        "                        \n",
        "                a = abs(np.max(b) - np.min(b))\n",
        "                amp.append(a)\n",
        "                        \n",
        "                b = norm_data(b)\n",
        "                battiti.append(b)\n",
        "            else:\n",
        "                b=signal[int(R_loc[i][k])-round(0.288/T):int(R_loc[i][k])] # - 300ms + 250 ms\n",
        "                        \n",
        "                a = abs(np.max(b) - np.min(b))\n",
        "                amp.append(a)\n",
        "                        \n",
        "                b = norm_data(b)\n",
        "                battiti.append(b)\n",
        "               \n",
        "        for j in range (window+1,(len(R_loc[i])-(window+1))):\n",
        "            c = []\n",
        "            corre = []    \n",
        "           \n",
        "            b2=signal[int(R_loc[i][j])-round(0.288/T):int(R_loc[i][j])] # current beat\n",
        "            a = abs(np.max(b2) - np.min(b2))\n",
        "            amp.append(a)\n",
        "            \n",
        "            b2 = norm_data(b2)\n",
        "            battiti.append(b2)\n",
        "            \n",
        "            for s in range(1, window+1):\n",
        "                \n",
        "                b0=signal[int(R_loc[i][j-s])-round(0.288/T):int(R_loc[i][j-s])]\n",
        "                b0 = norm_data(b0)\n",
        "                        \n",
        "                b3=signal[int(R_loc[i][j+s])-round(0.288/T):int(R_loc[i][j+s])]\n",
        "                b3 = norm_data(b3)\n",
        "                        \n",
        "                corr0 = np.correlate(b0, b2) * (1.0/(b2.size-1))\n",
        "                c.append(corr0)       \n",
        "                corr3 = np.correlate(b3, b2) * (1.0/(b2.size-1))\n",
        "                c.append(corr3) \n",
        "\n",
        "            corre.append(c)\n",
        "            \n",
        "        \n",
        "            corr = np.mean(corre)\n",
        "            correlazione.append(corr)\n",
        "            \n",
        "        for m in range (len(R_loc[i])-(window+1),len(R_loc[i])):\n",
        "            if m==len(R_loc[i]):\n",
        "                b=signal[int(R_loc[i][m])-round(0.288/T):len(R_loc[i])]\n",
        "                        \n",
        "                a = abs(np.max(b) - np.min(b))\n",
        "                amp.append(a)\n",
        "                        \n",
        "                b = norm_data(b)\n",
        "                battiti.append(b)\n",
        "            else:\n",
        "                b=signal[int(R_loc[i][m])-round(0.288/T):int(R_loc[i][m])]\n",
        "                        \n",
        "                a = abs(np.max(b) - np.min(b))\n",
        "                amp.append(a)\n",
        "                        \n",
        "                b = norm_data(b)\n",
        "                battiti.append(b)\n",
        "            \n",
        "        correlazione = np.append(correlazione, np.repeat(np.nan, window+1))\n",
        "        correlazione = list(correlazione)\n",
        "                \n",
        "        correlation_pr.append(correlazione)    \n",
        "        pr.append(battiti)\n",
        "        ampiezze_pr.append(amp)\n",
        "    return correlation_pr, ampiezze_pr, pr"
      ]
    },
    {
      "cell_type": "markdown",
      "metadata": {
        "id": "vXj8hgJL_mWO"
      },
      "source": [
        "### Window = 4, lead 1"
      ]
    },
    {
      "cell_type": "code",
      "execution_count": null,
      "metadata": {
        "id": "t-AQOikH_mWO"
      },
      "outputs": [],
      "source": [
        "# Beats\n",
        "T = 1/128\n",
        "correlation_4, ampiezze, beats = compute_amplitude_correlation(filtered1, R_loc, T, 2)\n",
        "templates_4 = create_templates(correlation_4, beats)\n",
        "beats = pad_beats(beats, 70)\n",
        "maximum_cross_correlation_4, lag_corr_4 = compute_max_cross_corr_lag(templates_4, beats)"
      ]
    },
    {
      "cell_type": "code",
      "execution_count": null,
      "metadata": {
        "id": "DhnZw2jV_mWO"
      },
      "outputs": [],
      "source": [
        "# QRS\n",
        "correlation_qrs_4, ampiezze_qrs, qrs = compute_amplitude_correlation_qrs(filtered1, R_loc, T, 2)\n",
        "templates_qrs_4 = create_templates(correlation_qrs_4, qrs)\n",
        "qrs = pad_beats(qrs, 17)\n",
        "maximum_cross_correlation_qrs_4, lag_corr_qrs_4 = compute_max_cross_corr_lag(templates_qrs_4, qrs)"
      ]
    },
    {
      "cell_type": "code",
      "execution_count": null,
      "metadata": {
        "id": "NgDb84_T_mWO"
      },
      "outputs": [],
      "source": [
        "# P wave\n",
        "correlation_p_4, ampiezze_p, p = compute_amplitude_correlation_p(filtered1, R_loc, T, 2)\n",
        "templates_p_4 = create_templates(correlation_p_4, p)\n",
        "p = pad_beats(p, len(templates_p_4[0]))\n",
        "maximum_cross_correlation_p_4, lag_corr_p_4 = compute_max_cross_corr_lag(templates_p_4, p)"
      ]
    },
    {
      "cell_type": "code",
      "execution_count": null,
      "metadata": {
        "id": "AmdJ_mzj_mWP"
      },
      "outputs": [],
      "source": [
        "# PR segment\n",
        "correlation_pr_4, ampiezze_pr, pr = compute_amplitude_correlation_pr(filtered1, R_loc, T, 2)\n",
        "templates_pr_4 = create_templates(correlation_pr_4, pr)\n",
        "pr = pad_beats(pr, len(templates_pr_4[0]))\n",
        "maximum_cross_correlation_pr_4, lag_corr_pr_4 = compute_max_cross_corr_lag(templates_pr_4, pr)"
      ]
    },
    {
      "cell_type": "markdown",
      "metadata": {
        "id": "6ROkqXss_mWP"
      },
      "source": [
        "### Window = 20, lead 1"
      ]
    },
    {
      "cell_type": "code",
      "execution_count": null,
      "metadata": {
        "id": "EPasyN7d_mWP"
      },
      "outputs": [],
      "source": [
        "# Beats\n",
        "correlation_20, _, _ = compute_amplitude_correlation(filtered1, R_loc, T, 10)\n",
        "templates_20 = create_templates(correlation_20, beats)\n",
        "\n",
        "maximum_cross_correlation_20, lag_corr_20 = compute_max_cross_corr_lag(templates_20, beats)"
      ]
    },
    {
      "cell_type": "code",
      "execution_count": null,
      "metadata": {
        "id": "lF3ECMtS_mWP"
      },
      "outputs": [],
      "source": [
        "# QRS\n",
        "correlation_qrs_20,_,_ = compute_amplitude_correlation_qrs(filtered1, R_loc, T, 10)\n",
        "templates_qrs_20 = create_templates(correlation_qrs_20, qrs)\n",
        "maximum_cross_correlation_qrs_20, lag_corr_qrs_20 = compute_max_cross_corr_lag(templates_qrs_20, qrs)"
      ]
    },
    {
      "cell_type": "code",
      "execution_count": null,
      "metadata": {
        "id": "Wx6txksl_mWP"
      },
      "outputs": [],
      "source": [
        "# P wave\n",
        "correlation_p_20, _, _ = compute_amplitude_correlation_p(filtered1, R_loc, T, 10)\n",
        "templates_p_20 = create_templates(correlation_p_20, p)\n",
        "maximum_cross_correlation_p_20, lag_corr_p_20 = compute_max_cross_corr_lag(templates_p_20, p)"
      ]
    },
    {
      "cell_type": "code",
      "execution_count": null,
      "metadata": {
        "id": "DiTSo_xi_mWP"
      },
      "outputs": [],
      "source": [
        "# PR segment\n",
        "correlation_pr_20, _, _ = compute_amplitude_correlation_pr(filtered1, R_loc, T, 10)\n",
        "templates_pr_20 = create_templates(correlation_pr_20, pr)\n",
        "maximum_cross_correlation_pr_20, lag_corr_pr_20 = compute_max_cross_corr_lag(templates_pr_20, pr)"
      ]
    },
    {
      "cell_type": "markdown",
      "metadata": {
        "id": "1xhIesoc_mWQ"
      },
      "source": [
        "### Window = 80, lead 1"
      ]
    },
    {
      "cell_type": "code",
      "execution_count": null,
      "metadata": {
        "id": "cqXy5GK0_mWQ"
      },
      "outputs": [],
      "source": [
        "# Beats\n",
        "correlation_80, _, _ = compute_amplitude_correlation(filtered1, R_loc, T, 40)\n",
        "templates_80 = create_templates(correlation_80, beats)\n",
        "maximum_cross_correlation_80, lag_corr_80 = compute_max_cross_corr_lag(templates_80, beats)"
      ]
    },
    {
      "cell_type": "code",
      "execution_count": null,
      "metadata": {
        "id": "GRyNMvny_mWQ"
      },
      "outputs": [],
      "source": [
        "# QRS\n",
        "correlation_qrs_80, _, _ = compute_amplitude_correlation_qrs(filtered1, R_loc, T, 40)\n",
        "templates_qrs_80 = create_templates(correlation_qrs_80, qrs)\n",
        "maximum_cross_correlation_qrs_80, lag_corr_qrs_80 = compute_max_cross_corr_lag(templates_qrs_80, qrs)"
      ]
    },
    {
      "cell_type": "code",
      "execution_count": null,
      "metadata": {
        "id": "FHnGsOnA_mWQ"
      },
      "outputs": [],
      "source": [
        "# P Wave\n",
        "correlation_p_80, _, p = compute_amplitude_correlation_p(filtered1, R_loc, T, 40)\n",
        "templates_p_80 = create_templates(correlation_p_80, p)\n",
        "p = pad_beats(p, len(templates_p_80[0]))\n",
        "maximum_cross_correlation_p_80, lag_corr_p_80 = compute_max_cross_corr_lag(templates_p_80, p)"
      ]
    },
    {
      "cell_type": "code",
      "execution_count": null,
      "metadata": {
        "id": "-IWis2T3_mWQ"
      },
      "outputs": [],
      "source": [
        "# PR segment\n",
        "correlation_pr_80, _, _ = compute_amplitude_correlation_pr(filtered1, R_loc, T, 40)\n",
        "templates_pr_80 = create_templates(correlation_pr_80, pr)\n",
        "maximum_cross_correlation_pr_80, lag_corr_pr_80 = compute_max_cross_corr_lag(templates_pr_80, pr)"
      ]
    },
    {
      "cell_type": "markdown",
      "metadata": {
        "id": "VIuKGEJ1nTZK"
      },
      "source": [
        "### Window = 4, Lead 2"
      ]
    },
    {
      "cell_type": "code",
      "execution_count": null,
      "metadata": {
        "id": "lZbi3Nbs_mWR"
      },
      "outputs": [],
      "source": [
        "# Beats\n",
        "correlation2_4, ampiezze2, beats2 = compute_amplitude_correlation(filtered2, R_loc, T, 2)\n",
        "templates2_4 = create_templates(correlation2_4, beats2)\n",
        "beats2 = pad_beats(beats2, 70)\n",
        "maximum_cross_correlation2_4, lag_corr2_4 = compute_max_cross_corr_lag(templates2_4, beats2)"
      ]
    },
    {
      "cell_type": "code",
      "execution_count": null,
      "metadata": {
        "id": "iIl-JOUO_mWR"
      },
      "outputs": [],
      "source": [
        "# QRS\n",
        "correlation_qrs2_4, ampiezze_qrs2, qrs2 = compute_amplitude_correlation_qrs(filtered2, R_loc, T, 2)\n",
        "templates_qrs2_4 = create_templates(correlation_qrs2_4, qrs2)\n",
        "qrs2 = pad_beats(qrs2, 17)\n",
        "maximum_cross_correlation_qrs2_4, lag_corr_qrs2_4 = compute_max_cross_corr_lag(templates_qrs2_4, qrs2)"
      ]
    },
    {
      "cell_type": "code",
      "execution_count": null,
      "metadata": {
        "id": "QHRHF0kS_mWR"
      },
      "outputs": [],
      "source": [
        "# P Wave\n",
        "correlation_p2_4, ampiezze_p2, p2 = compute_amplitude_correlation_p(filtered2, R_loc, T, 2)\n",
        "templates_p2_4 = create_templates(correlation_p2_4, p2)\n",
        "p2 = pad_beats(p2, len(templates_p2_4[0]))\n",
        "maximum_cross_correlation_p2_4, lag_corr_p2_4 = compute_max_cross_corr_lag(templates_p2_4, p2)"
      ]
    },
    {
      "cell_type": "code",
      "execution_count": null,
      "metadata": {
        "id": "kK0Thhxh_mWR"
      },
      "outputs": [],
      "source": [
        "# PR segment\n",
        "correlation_pr2_4, ampiezze_pr2, pr2 = compute_amplitude_correlation_pr(filtered2, R_loc, T, 2)\n",
        "templates_pr2_4 = create_templates(correlation_pr2_4, pr2)\n",
        "pr2 = pad_beats(pr2, len(templates_pr2_4[0]))\n",
        "maximum_cross_correlation_pr2_4, lag_corr_pr2_4 = compute_max_cross_corr_lag(templates_pr2_4, pr2)"
      ]
    },
    {
      "cell_type": "markdown",
      "metadata": {
        "id": "by7eGvWP_mWR"
      },
      "source": [
        "### Window = 20, lead 2"
      ]
    },
    {
      "cell_type": "code",
      "execution_count": null,
      "metadata": {
        "id": "XP1i6S9E_mWS"
      },
      "outputs": [],
      "source": [
        "# Beats\n",
        "correlation2_20, _, _ = compute_amplitude_correlation(filtered2, R_loc, T, 10)\n",
        "templates2_20 = create_templates(correlation2_20, beats2)\n",
        "maximum_cross_correlation2_20, lag_corr2_20 = compute_max_cross_corr_lag(templates2_20, beats2)"
      ]
    },
    {
      "cell_type": "code",
      "execution_count": null,
      "metadata": {
        "id": "vFklnpZK_mWS"
      },
      "outputs": [],
      "source": [
        "# QRS\n",
        "correlation_qrs2_20, _, _ = compute_amplitude_correlation_qrs(filtered2, R_loc, T, 10)\n",
        "templates_qrs2_20 = create_templates(correlation_qrs2_20, qrs2)\n",
        "maximum_cross_correlation_qrs2_20, lag_corr_qrs2_20 = compute_max_cross_corr_lag(templates_qrs2_20, qrs2)"
      ]
    },
    {
      "cell_type": "code",
      "execution_count": null,
      "metadata": {
        "id": "TacfIQY2_mWS"
      },
      "outputs": [],
      "source": [
        "# P Wave\n",
        "correlation_p2_20, _, _ = compute_amplitude_correlation_p(filtered2, R_loc, T, 10)\n",
        "templates_p2_20 = create_templates(correlation_p2_20, p2)\n",
        "maximum_cross_correlation_p2_20, lag_corr_p2_20 = compute_max_cross_corr_lag(templates_p2_20, p2)"
      ]
    },
    {
      "cell_type": "code",
      "execution_count": null,
      "metadata": {
        "id": "zVLi3a0G_mWS"
      },
      "outputs": [],
      "source": [
        "# PR segment\n",
        "correlation_pr2_20, _, _ = compute_amplitude_correlation_pr(filtered2, R_loc, T, 10)\n",
        "templates_pr2_20 = create_templates(correlation_pr2_20, pr2)\n",
        "maximum_cross_correlation_pr2_20, lag_corr_pr2_20 = compute_max_cross_corr_lag(templates_pr2_20, pr2)"
      ]
    },
    {
      "cell_type": "markdown",
      "metadata": {
        "id": "XKWBLoHN_mWS"
      },
      "source": [
        "### Window = 80, lead 2"
      ]
    },
    {
      "cell_type": "code",
      "execution_count": null,
      "metadata": {
        "id": "YYXs6UhG_mWS"
      },
      "outputs": [],
      "source": [
        "# Beats\n",
        "correlation2_80, _, _ = compute_amplitude_correlation(filtered2, R_loc, T, 40)\n",
        "templates2_80 = create_templates(correlation2_80, beats2)\n",
        "maximum_cross_correlation2_80, lag_corr2_80 = compute_max_cross_corr_lag(templates2_80, beats2)"
      ]
    },
    {
      "cell_type": "code",
      "execution_count": null,
      "metadata": {
        "id": "VfhB0Mu9_mWS"
      },
      "outputs": [],
      "source": [
        "# QRS\n",
        "correlation_qrs2_80, _, _ = compute_amplitude_correlation_qrs(filtered2, R_loc, T, 40)\n",
        "templates_qrs2_80 = create_templates(correlation_qrs2_80, qrs2)\n",
        "maximum_cross_correlation_qrs2_80, lag_corr_qrs2_80 = compute_max_cross_corr_lag(templates_qrs2_80, qrs2)"
      ]
    },
    {
      "cell_type": "code",
      "execution_count": null,
      "metadata": {
        "id": "80zo7UjB_mWS"
      },
      "outputs": [],
      "source": [
        "# P Wave\n",
        "correlation_p2_80, _, _ = compute_amplitude_correlation_p(filtered2, R_loc, T, 40)\n",
        "templates_p2_80 = create_templates(correlation_p2_80, p2)\n",
        "maximum_cross_correlation_p2_80, lag_corr_p2_80 = compute_max_cross_corr_lag(templates_p2_80, p2)"
      ]
    },
    {
      "cell_type": "code",
      "execution_count": null,
      "metadata": {
        "id": "sKi2WIxX_mWT"
      },
      "outputs": [],
      "source": [
        "# PR segment\n",
        "correlation_pr2_80, _, _ = compute_amplitude_correlation_pr(filtered2, R_loc, T, 40)\n",
        "templates_pr2_80 = create_templates(correlation_pr2_80, pr2)\n",
        "maximum_cross_correlation_pr2_80, lag_corr_pr2_80 = compute_max_cross_corr_lag(templates_pr2_80, pr2)"
      ]
    },
    {
      "cell_type": "markdown",
      "metadata": {
        "id": "XEr_dJDj_mWT"
      },
      "source": [
        "## Create and save features dataframe "
      ]
    },
    {
      "cell_type": "code",
      "execution_count": null,
      "metadata": {
        "id": "SHEEUtaD_mWT"
      },
      "outputs": [],
      "source": [
        "battiti1 = np.concatenate(beats, axis=0)\n",
        "battiti2 = np.concatenate(beats2, axis=0)\n",
        "ampiezze = np.concatenate(ampiezze, axis=0)\n",
        "ampiezze2 = np.concatenate(ampiezze2, axis=0)# correlazioni\n",
        "maximum_cross_correlation_4 = np.concatenate(maximum_cross_correlation_4, axis=0)\n",
        "lag_corr_4 = np.concatenate(lag_corr_4, axis=0)\n",
        "maximum_cross_correlation2_4 = np.concatenate(maximum_cross_correlation2_4, axis=0)\n",
        "lag_corr2_4 = np.concatenate(lag_corr2_4, axis=0)\n",
        "maximum_cross_correlation_qrs_4 = np.concatenate(maximum_cross_correlation_qrs_4, axis=0)\n",
        "lag_corr_qrs_4 = np.concatenate(lag_corr_qrs_4, axis=0)\n",
        "maximum_cross_correlation_qrs2_4 = np.concatenate(maximum_cross_correlation_qrs2_4, axis=0)\n",
        "lag_corr_qrs2_4 = np.concatenate(lag_corr_qrs2_4, axis=0)\n",
        "maximum_cross_correlation_p_4 = np.concatenate(maximum_cross_correlation_p_4, axis=0)\n",
        "lag_corr_p_4 = np.concatenate(lag_corr_p_4, axis=0)\n",
        "maximum_cross_correlation_p2_4 = np.concatenate(maximum_cross_correlation_p2_4, axis=0)\n",
        "lag_corr_p2_4 = np.concatenate(lag_corr_p2_4, axis=0)\n",
        "maximum_cross_correlation_pr_4 = np.concatenate(maximum_cross_correlation_pr_4, axis=0)\n",
        "lag_corr_pr_4 = np.concatenate(lag_corr_pr_4, axis=0)\n",
        "maximum_cross_correlation_pr2_4 = np.concatenate(maximum_cross_correlation_pr2_4, axis=0)\n",
        "lag_corr_pr2_4 = np.concatenate(lag_corr_pr2_4, axis=0)\n",
        "maximum_cross_correlation_20= np.concatenate(maximum_cross_correlation_20, axis=0)\n",
        "lag_corr_20= np.concatenate(lag_corr_20, axis=0)\n",
        "maximum_cross_correlation2_20= np.concatenate(maximum_cross_correlation2_20, axis=0)\n",
        "lag_corr2_20= np.concatenate(lag_corr2_20, axis=0)\n",
        "maximum_cross_correlation_qrs_20= np.concatenate(maximum_cross_correlation_qrs_20, axis=0)\n",
        "lag_corr_qrs_20= np.concatenate(lag_corr_qrs_20, axis=0)\n",
        "maximum_cross_correlation_qrs2_20= np.concatenate(maximum_cross_correlation_qrs2_20, axis=0)\n",
        "lag_corr_qrs2_20= np.concatenate(lag_corr_qrs2_20, axis=0)\n",
        "maximum_cross_correlation_p_20= np.concatenate(maximum_cross_correlation_p_20, axis=0)\n",
        "lag_corr_p_20= np.concatenate(lag_corr_p_20, axis=0)\n",
        "maximum_cross_correlation_p2_20= np.concatenate(maximum_cross_correlation_p2_20, axis=0)\n",
        "lag_corr_p2_20= np.concatenate(lag_corr_p2_20, axis=0)\n",
        "maximum_cross_correlation_pr_20= np.concatenate(maximum_cross_correlation_pr_20, axis=0)\n",
        "lag_corr_pr_20= np.concatenate(lag_corr_pr_20, axis=0)\n",
        "maximum_cross_correlation_pr2_20= np.concatenate(maximum_cross_correlation_pr2_20, axis=0)\n",
        "lag_corr_pr2_20= np.concatenate(lag_corr_pr2_20, axis=0)\n",
        "maximum_cross_correlation_80 = np.concatenate(maximum_cross_correlation_80, axis=0)\n",
        "lag_corr_80 = np.concatenate(lag_corr_80, axis=0)\n",
        "maximum_cross_correlation2_80 = np.concatenate(maximum_cross_correlation2_80, axis=0)\n",
        "lag_corr2_80 = np.concatenate(lag_corr2_80, axis=0)\n",
        "maximum_cross_correlation_qrs_80 = np.concatenate(maximum_cross_correlation_qrs_80, axis=0)\n",
        "lag_corr_qrs_80 = np.concatenate(lag_corr_qrs_80, axis=0)\n",
        "maximum_cross_correlation_qrs2_80 = np.concatenate(maximum_cross_correlation_qrs2_80, axis=0)\n",
        "lag_corr_qrs2_80 = np.concatenate(lag_corr_qrs2_80, axis=0)\n",
        "maximum_cross_correlation_p_80 = np.concatenate(maximum_cross_correlation_p_80, axis=0)\n",
        "lag_corr_p_80 = np.concatenate(lag_corr_p_80, axis=0)\n",
        "maximum_cross_correlation_p2_80 = np.concatenate(maximum_cross_correlation_p2_80, axis=0)\n",
        "lag_corr_p2_80 = np.concatenate(lag_corr_p2_80, axis=0)\n",
        "maximum_cross_correlation_pr_80 = np.concatenate(maximum_cross_correlation_pr_80, axis=0)\n",
        "lag_corr_pr_80 = np.concatenate(lag_corr_pr_80, axis=0)\n",
        "maximum_cross_correlation_pr2_80 = np.concatenate(maximum_cross_correlation_pr2_80, axis=0)\n",
        "lag_corr_pr2_80 = np.concatenate(lag_corr_pr2_80, axis=0)"
      ]
    },
    {
      "cell_type": "code",
      "execution_count": null,
      "metadata": {
        "id": "bgCIN09fFhHC"
      },
      "outputs": [],
      "source": [
        "temporali = pd.DataFrame({\n",
        "    'ID': index,\n",
        "# Temporali\n",
        "'RR_prima':RR_prima, \n",
        "'RR_dopo':RR_dopo ,\n",
        "'dRR_prima':dRR_prima ,\n",
        "'dRR_dopo':dRR_dopo ,\n",
        "'mean_RR_3':mean_RR_3, \n",
        "'std_RR_3':std_RR_3, \n",
        "'std_dRR_3':std_dRR_3, \n",
        "'pNN_50_3':pNN_50_3, \n",
        "'RMSSD_3':RMSSD_3, \n",
        "'pNN_10_3':pNN_10_3, \n",
        "'pNN_20_3':pNN_20_3, \n",
        "'pNN_30_3':pNN_30_3, \n",
        "'pNN_40_3':pNN_40_3, \n",
        "'mean_RR_15':mean_RR_15, \n",
        "'std_RR_15':std_RR_15, \n",
        "'std_dRR_15':std_dRR_15, \n",
        "'pNN_50_15':pNN_50_15, \n",
        "'RMSSD_15':RMSSD_15, \n",
        "'pNN_10_15':pNN_10_15, \n",
        "'pNN_20_15':pNN_20_15, \n",
        "'pNN_30_15':pNN_30_15, \n",
        "'pNN_40_15':pNN_40_15,\n",
        "'label': R_labels\n",
        "})\n",
        "\n",
        "temporali.to_csv('',index =False) #insert destination path"
      ]
    },
    {
      "cell_type": "code",
      "execution_count": null,
      "metadata": {
        "id": "VboklcWLFhHC"
      },
      "outputs": [],
      "source": [
        "morfologiche = pd.DataFrame({\n",
        "    'ID': index,\n",
        "'ampiezze':ampiezze,\n",
        "'ampiezze2':ampiezze2,\n",
        "\n",
        "# Morfologiche\n",
        "'max_corr_4': maximum_cross_correlation_4,\n",
        "'lag_4': lag_corr_4,\n",
        "'max_corr2_4': maximum_cross_correlation2_4,\n",
        "'lag2_4': lag_corr2_4,\n",
        "'max_corr_qrs_4': maximum_cross_correlation_qrs_4,\n",
        "'lag_qrs_4': lag_corr_qrs_4,\n",
        "'max_corr_qrs_4': maximum_cross_correlation_qrs2_4,\n",
        "'lag_qrs2_4': lag_corr_qrs2_4,\n",
        "'max_corr_p_4': maximum_cross_correlation_p_4,\n",
        "'lag_p_4': lag_corr_p_4,\n",
        "'max_corr_p2_4': maximum_cross_correlation_p2_4,\n",
        "'lag_p2_4': lag_corr_p2_4,\n",
        "'max_corr_pr_4': maximum_cross_correlation_pr_4,\n",
        "'lag_pr_4': lag_corr_pr_4,\n",
        "'max_corr_pr2_4': maximum_cross_correlation_pr2_4,\n",
        "'lag_pr2_4': lag_corr_pr2_4,\n",
        "\n",
        "'max_corr_20': maximum_cross_correlation_20,\n",
        "'lag_20': lag_corr_20,\n",
        "'max_corr2_20': maximum_cross_correlation2_20,\n",
        "'lag2_20': lag_corr2_20,\n",
        "'max_corr_qrs_20': maximum_cross_correlation_qrs_20,\n",
        "'lag_qrs_20': lag_corr_qrs_20,\n",
        "'max_corr_qrs_20': maximum_cross_correlation_qrs2_20,\n",
        "'lag_qrs2_20': lag_corr_qrs2_20,\n",
        "'max_corr_p_20': maximum_cross_correlation_p_20,\n",
        "'lag_p_20': lag_corr_p_20,\n",
        "'max_corr_p2_20': maximum_cross_correlation_p2_20,\n",
        "'lag_p2_20': lag_corr_p2_20,\n",
        "'max_corr_pr_20': maximum_cross_correlation_pr_20,\n",
        "'lag_pr_20': lag_corr_pr_20,\n",
        "'max_corr_pr2_20': maximum_cross_correlation_pr2_20,\n",
        "'lag_pr2_20': lag_corr_pr2_20,\n",
        "\n",
        "'max_corr_80': maximum_cross_correlation_80,\n",
        "'lag_80': lag_corr_80,\n",
        "'max_corr2_80': maximum_cross_correlation2_80,\n",
        "'lag2_80': lag_corr2_80,\n",
        "'max_corr_qrs_80': maximum_cross_correlation_qrs_80,\n",
        "'lag_qrs_80': lag_corr_qrs_80,\n",
        "'max_corr_qrs_80': maximum_cross_correlation_qrs2_80,\n",
        "'lag_qrs2_80': lag_corr_qrs2_80,\n",
        "'max_corr_p_80': maximum_cross_correlation_p_80,\n",
        "'lag_p_80': lag_corr_p_80,\n",
        "'max_corr_p2_80': maximum_cross_correlation_p2_80,\n",
        "'lag_p2_80': lag_corr_p2_80,\n",
        "'max_corr_pr_80': maximum_cross_correlation_pr_80,\n",
        "'lag_pr_80': lag_corr_pr_80,\n",
        "'max_corr_pr2_80': maximum_cross_correlation_pr2_80,\n",
        "'lag_pr2_80': lag_corr_pr2_80,\n",
        "# labels\n",
        "'label': R_labels\n",
        "})\n",
        "\n",
        "morfologiche.to_csv('',index =False) #insert destination path"
      ]
    },
    {
      "cell_type": "code",
      "execution_count": null,
      "metadata": {
        "id": "ToH43oSyFhHC"
      },
      "outputs": [],
      "source": [
        "dataset = pd.DataFrame({\n",
        "    'ID': index,\n",
        "#'beat1': battiti1,\n",
        "#'beat2': battiti2,\n",
        "# Temporali\n",
        "'RR_prima':RR_prima, \n",
        "'RR_dopo':RR_dopo ,\n",
        "'dRR_prima':dRR_prima ,\n",
        "'dRR_dopo':dRR_dopo ,\n",
        "'mean_RR_3':mean_RR_3, \n",
        "'std_RR_3':std_RR_3, \n",
        "'std_dRR_3':std_dRR_3, \n",
        "'pNN_50_3':pNN_50_3, \n",
        "'RMSSD_3':RMSSD_3, \n",
        "'pNN_10_3':pNN_10_3, \n",
        "'pNN_20_3':pNN_20_3, \n",
        "'pNN_30_3':pNN_30_3, \n",
        "'pNN_40_3':pNN_40_3, \n",
        "'mean_RR_15':mean_RR_15, \n",
        "'std_RR_15':std_RR_15, \n",
        "'std_dRR_15':std_dRR_15, \n",
        "'pNN_50_15':pNN_50_15, \n",
        "'RMSSD_15':RMSSD_15, \n",
        "'pNN_10_15':pNN_10_15, \n",
        "'pNN_20_15':pNN_20_15, \n",
        "'pNN_30_15':pNN_30_15, \n",
        "'pNN_40_15':pNN_40_15,\n",
        "# Morfologiche\n",
        "'ampiezze':ampiezze,\n",
        "'ampiezze2':ampiezze2, \n",
        "\n",
        "'max_corr_4': maximum_cross_correlation_4,\n",
        "'lag_4': lag_corr_4,\n",
        "'max_corr2_4': maximum_cross_correlation2_4,\n",
        "'lag2_4': lag_corr2_4,\n",
        "'max_corr_qrs_4': maximum_cross_correlation_qrs_4,\n",
        "'lag_qrs_4': lag_corr_qrs_4,\n",
        "'max_corr_qrs_4': maximum_cross_correlation_qrs2_4,\n",
        "'lag_qrs2_4': lag_corr_qrs2_4,\n",
        "'max_corr_p_4': maximum_cross_correlation_p_4,\n",
        "'lag_p_4': lag_corr_p_4,\n",
        "'max_corr_p2_4': maximum_cross_correlation_p2_4,\n",
        "'lag_p2_4': lag_corr_p2_4,\n",
        "'max_corr_pr_4': maximum_cross_correlation_pr_4,\n",
        "'lag_pr_4': lag_corr_pr_4,\n",
        "'max_corr_pr2_4': maximum_cross_correlation_pr2_4,\n",
        "'lag_pr2_4': lag_corr_pr2_4,\n",
        "\n",
        "'max_corr_20': maximum_cross_correlation_20,\n",
        "'lag_20': lag_corr_20,\n",
        "'max_corr2_20': maximum_cross_correlation2_20,\n",
        "'lag2_20': lag_corr2_20,\n",
        "'max_corr_qrs_20': maximum_cross_correlation_qrs_20,\n",
        "'lag_qrs_20': lag_corr_qrs_20,\n",
        "'max_corr_qrs_20': maximum_cross_correlation_qrs2_20,\n",
        "'lag_qrs2_20': lag_corr_qrs2_20,\n",
        "'max_corr_p_20': maximum_cross_correlation_p_20,\n",
        "'lag_p_20': lag_corr_p_20,\n",
        "'max_corr_p2_20': maximum_cross_correlation_p2_20,\n",
        "'lag_p2_20': lag_corr_p2_20,\n",
        "'max_corr_pr_20': maximum_cross_correlation_pr_20,\n",
        "'lag_pr_20': lag_corr_pr_20,\n",
        "'max_corr_pr2_20': maximum_cross_correlation_pr2_20,\n",
        "'lag_pr2_20': lag_corr_pr2_20,\n",
        "\n",
        "'max_corr_80': maximum_cross_correlation_80,\n",
        "'lag_80': lag_corr_80,\n",
        "'max_corr2_80': maximum_cross_correlation2_80,\n",
        "'lag2_80': lag_corr2_80,\n",
        "'max_corr_qrs_80': maximum_cross_correlation_qrs_80,\n",
        "'lag_qrs_80': lag_corr_qrs_80,\n",
        "'max_corr_qrs_80': maximum_cross_correlation_qrs2_80,\n",
        "'lag_qrs2_80': lag_corr_qrs2_80,\n",
        "'max_corr_p_80': maximum_cross_correlation_p_80,\n",
        "'lag_p_80': lag_corr_p_80,\n",
        "'max_corr_p2_80': maximum_cross_correlation_p2_80,\n",
        "'lag_p2_80': lag_corr_p2_80,\n",
        "'max_corr_pr_80': maximum_cross_correlation_pr_80,\n",
        "'lag_pr_80': lag_corr_pr_80,\n",
        "'max_corr_pr2_80': maximum_cross_correlation_pr2_80,\n",
        "'lag_pr2_80': lag_corr_pr2_80,\n",
        "# labels\n",
        "'label': R_labels\n",
        "})\n",
        "\n",
        "dataset.to_csv('',index =False) #insert destination path"
      ]
    },
    {
      "cell_type": "markdown",
      "metadata": {
        "id": "lJYRdpO-0H57"
      },
      "source": [
        "## Beats extraction for deep learning models"
      ]
    },
    {
      "cell_type": "code",
      "execution_count": null,
      "metadata": {
        "id": "GrkCcras0H58"
      },
      "outputs": [],
      "source": [
        "def beat_segmentation(sig, R_loc, T, pre, post):\n",
        "    # This function receives as input:\n",
        "    # - sig: input signal\n",
        "    # - R_loc: R peaks locations\n",
        "    # T: period, defined as 1/Fs\n",
        "    # pre: seconds i want to take before the peak\n",
        "    # post: seconds i want to take after the peak\n",
        "    # The function will return the signal segmented in windows long (pre+post) seconds\n",
        "\n",
        "    beats= []\n",
        "\n",
        "    for i in range(0,len(R_loc)): # span the patients\n",
        "        battiti=[]\n",
        "        signal=sig[i]\n",
        "                \n",
        "        for k in range (0,len(R_loc[i])): \n",
        "            \n",
        "            distanza_inizio = len(signal[0:int(R_loc[i][k])])\n",
        "            distanza_fine = len(signal[int(R_loc[i][k]): ])\n",
        "            \n",
        "            if (distanza_inizio < pre/T) : # if we are at the beginning of the signal, we cannot go back                \n",
        "                b=signal[0:int(R_loc[i][k])+round(post/T)]\n",
        "                                                \n",
        "                b = norm_data(b) # normalize the beat to have 0 mean and standard deviation = 1\n",
        "                battiti.append(b)\n",
        "                \n",
        "            elif (distanza_fine < post/T) : \n",
        "                    \n",
        "                b=signal[int(R_loc[i][k])-round(pre/T): ]\n",
        "                             \n",
        "                b = norm_data(b)\n",
        "                battiti.append(b)\n",
        "                \n",
        "            else:\n",
        "\n",
        "                    \n",
        "                b=signal[int(R_loc[i][k])-round(pre/T):int(R_loc[i][k])+round(post/T)] \n",
        "                                           \n",
        "                b = norm_data(b)\n",
        "                battiti.append(b)\n",
        "                \n",
        "                \n",
        "        beats.append(battiti) # beats \n",
        "\n",
        "    return beats"
      ]
    },
    {
      "cell_type": "code",
      "execution_count": null,
      "metadata": {
        "id": "FKhFrfAx0H59",
        "outputId": "e2248f6f-79a2-42fe-b263-c2a31ee40eee"
      },
      "outputs": [
        {
          "name": "stdout",
          "output_type": "stream",
          "text": [
            "paziente:  0\n",
            "battito numero:  2848\n",
            "durata condizione 1.6875\n",
            "finestra in secondi:  4.0\n",
            "segnale: [-3.25655347e-02  6.42069881e-03  5.27734423e-02  8.25781401e-02\n",
            "  8.77042093e-02  6.04988930e-02 -7.43844175e-03 -1.01086979e-01\n",
            " -1.78684226e-01 -2.07828684e-01 -1.98219005e-01 -1.78740344e-01\n",
            " -1.61289562e-01 -1.41693405e-01 -1.13312850e-01 -7.46646694e-02\n",
            " -3.16367353e-02  1.27164996e-03  2.13900236e-02  8.72286456e-02\n",
            "  2.97357261e-01  6.76864279e-01  1.07799786e+00  1.20712174e+00\n",
            "  8.60707473e-01  1.41350359e-01 -6.10811295e-01 -1.05730107e+00\n",
            " -1.08628922e+00 -8.46407897e-01 -5.60867241e-01 -3.60268643e-01\n",
            " -2.61459337e-01 -2.22665526e-01 -1.95839290e-01 -1.52271083e-01\n",
            " -8.98422866e-02 -2.40064425e-02  3.08661482e-02  7.05351969e-02\n",
            "  9.99751813e-02  1.29030565e-01  1.63199486e-01  1.99755192e-01\n",
            "  2.35293830e-01  2.71854450e-01  3.12004534e-01  3.52610608e-01\n",
            "  3.84339784e-01  3.96092299e-01  3.83008583e-01  3.49397905e-01\n",
            "  3.01328918e-01  2.38513379e-01  1.61422836e-01  8.13389706e-02\n",
            "  1.27248962e-02 -3.79466723e-02 -7.22864468e-02 -9.49234847e-02\n",
            " -1.10048003e-01 -1.20658103e-01 -1.28989565e-01 -1.36183967e-01\n",
            " -1.39869256e-01 -1.34533146e-01 -1.19383425e-01 -1.02480128e-01\n",
            " -9.24500213e-02 -9.15267862e-02 -9.62984424e-02 -9.87913343e-02\n",
            " -9.19722691e-02 -7.78764017e-02 -6.43980900e-02 -5.62840567e-02\n",
            " -5.28852646e-02 -4.67790764e-02 -2.37697840e-02  1.76781132e-02\n",
            "  5.73564074e-02  7.96455438e-02  7.73353485e-02  3.83312977e-02\n",
            " -3.83024914e-02 -1.26361127e-01 -1.86485461e-01 -2.02228708e-01\n",
            " -1.92239114e-01 -1.76522689e-01 -1.55300381e-01 -1.27030841e-01\n",
            " -9.66073650e-02 -6.51199646e-02 -3.16513171e-02 -1.03821053e-03\n",
            "  4.51660567e-02  1.87973297e-01  5.02434086e-01  9.10756248e-01\n",
            "  1.15261956e+00  9.77510597e-01  3.81223057e-01 -3.70872065e-01\n",
            " -9.21329631e-01 -1.06367248e+00 -8.72479694e-01 -5.78403150e-01\n",
            " -3.56617314e-01 -2.48140118e-01 -2.05036793e-01 -1.69930251e-01\n",
            " -1.20944706e-01 -6.49437424e-02 -1.44400271e-02  2.51421039e-02\n",
            "  5.88749108e-02  9.70823048e-02  1.40481258e-01  1.78411759e-01\n",
            "  2.03339568e-01  2.17590279e-01  2.30579390e-01  2.52612260e-01\n",
            "  2.86909134e-01  3.26253523e-01  3.57623384e-01  3.69084538e-01\n",
            "  3.54256744e-01  3.13742773e-01  2.52906657e-01  1.81627337e-01\n",
            "  1.12449289e-01  5.29354799e-02  2.36941696e-03 -4.28802649e-02\n",
            " -8.02128905e-02 -1.03666597e-01 -1.13511761e-01 -1.14748215e-01\n",
            " -1.15044241e-01 -1.21759285e-01 -1.35513576e-01 -1.49809399e-01\n",
            " -1.56092532e-01 -1.50239131e-01 -1.33032715e-01 -1.10370756e-01\n",
            " -9.33463936e-02 -8.72197247e-02 -8.72983899e-02 -8.79098891e-02\n",
            " -8.62509541e-02 -8.16966387e-02 -7.35610289e-02 -5.58512240e-02\n",
            " -2.08407318e-02  2.48624248e-02  6.21866979e-02  7.99202124e-02\n",
            "  7.35410877e-02  3.69974264e-02 -2.80247189e-02 -1.04147550e-01\n",
            " -1.65593818e-01 -1.98208621e-01 -2.06155360e-01 -1.92032927e-01\n",
            " -1.52732121e-01 -9.83303855e-02 -4.77370850e-02 -1.06474537e-02\n",
            "  9.77173303e-03  1.48672486e-02  4.75514537e-02  2.05740964e-01\n",
            "  5.47769955e-01  9.53909483e-01  1.12378305e+00  8.25802991e-01\n",
            "  1.47873035e-01 -5.63352911e-01 -9.72423544e-01 -9.80876190e-01\n",
            " -7.40464387e-01 -4.71989743e-01 -3.00990808e-01 -2.32021127e-01\n",
            " -2.08507213e-01 -1.77834879e-01 -1.21149885e-01 -4.92080453e-02\n",
            "  1.74694732e-02  6.77545260e-02  1.01781322e-01  1.23967335e-01\n",
            "  1.44072596e-01  1.73848465e-01  2.09711336e-01  2.36652920e-01\n",
            "  2.52544983e-01  2.65602351e-01  2.82596278e-01  3.07934132e-01\n",
            "  3.36706431e-01  3.55187894e-01  3.48198574e-01  3.06238998e-01\n",
            "  2.36180806e-01  1.56007745e-01  8.14710899e-02  2.40073383e-02\n",
            " -1.29638379e-02 -3.87477344e-02 -6.47308062e-02 -8.97369512e-02\n",
            " -1.07412824e-01 -1.21591322e-01 -1.34261849e-01 -1.35893347e-01\n",
            " -1.26194296e-01 -1.19086931e-01 -1.23388587e-01 -1.32379927e-01\n",
            " -1.32664909e-01 -1.20833899e-01 -1.01496058e-01 -8.29435073e-02\n",
            " -7.46497964e-02 -7.30484527e-02 -7.24256559e-02 -7.52889244e-02\n",
            " -7.36751558e-02 -4.85543290e-02  6.44275946e-04  4.83975140e-02\n",
            "  7.22998818e-02  6.99715434e-02  4.86183733e-02 -4.04432977e-04\n",
            " -8.10883793e-02 -1.51776995e-01 -1.77841714e-01 -1.80566319e-01\n",
            " -1.85004068e-01 -1.76853630e-01 -1.37892520e-01 -8.72763034e-02\n",
            " -5.13635507e-02 -2.41993253e-02 -7.47856339e-04  2.13129546e-02\n",
            "  1.17725751e-01  3.91992516e-01  8.20428531e-01  1.19899118e+00\n",
            "  1.24101101e+00  8.04818692e-01  4.03673270e-02 -7.16009110e-01\n",
            " -1.15169311e+00 -1.16842975e+00 -9.17007391e-01 -6.20131922e-01\n",
            " -4.07651013e-01 -2.94240719e-01 -2.42331270e-01 -2.15119067e-01\n",
            " -1.78010579e-01 -1.10550855e-01 -2.89950588e-02  3.80306048e-02\n",
            "  8.13549054e-02  1.06235543e-01  1.31901631e-01  1.78548787e-01\n",
            "  2.32393304e-01  2.73161567e-01  3.08252655e-01  3.40469196e-01\n",
            "  3.61436958e-01  3.72797847e-01  3.78169141e-01  3.73070412e-01\n",
            "  3.51195007e-01  3.14176776e-01  2.66753258e-01  2.04682741e-01\n",
            "  1.27426818e-01  5.24412381e-02 -2.08767116e-03 -2.98922752e-02\n",
            " -4.03668372e-02 -5.03162069e-02 -6.69201771e-02 -9.23947283e-02\n",
            " -1.21734484e-01 -1.39386811e-01 -1.40719243e-01 -1.36460659e-01\n",
            " -1.28566804e-01 -1.16300872e-01 -1.10512418e-01 -1.13709246e-01\n",
            " -1.15988616e-01 -1.09858857e-01 -9.60905977e-02 -8.07533144e-02\n",
            " -6.96263796e-02 -6.27305548e-02 -4.52455987e-02 -1.14397112e-02\n",
            "  2.01576857e-02  4.23892761e-02  5.40173516e-02  3.78126960e-02\n",
            " -2.09260562e-02 -1.11064483e-01 -1.89379398e-01 -2.22278614e-01\n",
            " -2.21612877e-01 -2.06162182e-01 -1.73266297e-01 -1.33680401e-01\n",
            " -1.06889509e-01 -8.63091224e-02 -6.13609723e-02 -3.41634438e-02\n",
            "  1.74316252e-02  1.69314503e-01  4.87356366e-01  9.10577929e-01\n",
            "  1.21814897e+00  1.15231994e+00  6.37903231e-01 -1.33377759e-01\n",
            " -8.31430130e-01 -1.18126029e+00 -1.12617841e+00 -8.39789942e-01\n",
            " -5.50793214e-01 -3.69550618e-01 -2.79264710e-01 -2.28536750e-01\n",
            " -1.83083071e-01 -1.27281044e-01 -5.80245816e-02  1.94511453e-02\n",
            "  9.19601434e-02  1.46834001e-01  1.84103883e-01  2.07397656e-01\n",
            "  2.20018851e-01  2.37744597e-01  2.73170783e-01  3.18567713e-01\n",
            "  3.61790012e-01  3.96615991e-01  4.15918158e-01  4.11522790e-01\n",
            "  3.82772830e-01  3.37956743e-01  2.84911821e-01  2.25333358e-01\n",
            "  1.59852486e-01  9.42969612e-02  3.72327190e-02 -7.98467786e-03\n",
            " -4.15342241e-02 -6.27057079e-02 -7.62823961e-02 -8.99349888e-02\n",
            " -1.05360529e-01 -1.22927958e-01 -1.41466056e-01 -1.53038042e-01\n",
            " -1.51576319e-01 -1.40755247e-01 -1.28913593e-01 -1.22920980e-01\n",
            " -1.24406307e-01 -1.27258753e-01 -1.24296370e-01 -1.12756380e-01\n",
            " -9.46990395e-02 -7.85078963e-02 -6.83706691e-02 -5.28824971e-02\n",
            " -2.17508761e-02  1.60424259e-02  4.61769238e-02  5.51883013e-02\n",
            "  2.61006383e-02 -4.54459997e-02 -1.37740271e-01 -2.08651119e-01\n",
            " -2.31991288e-01 -2.23685774e-01 -2.04960846e-01 -1.76893031e-01\n",
            " -1.41331545e-01 -1.05419431e-01 -7.17146881e-02 -4.05320367e-02\n",
            " -1.11456206e-02  4.98267011e-02  2.27325403e-01  5.75482866e-01\n",
            "  9.93828865e-01  1.21798363e+00  1.01107219e+00  3.87458998e-01\n",
            " -3.81036092e-01 -9.43829142e-01 -1.09770758e+00 -9.10822995e-01\n",
            " -6.12569950e-01 -3.83243164e-01 -2.66876979e-01 -2.19879208e-01\n",
            " -1.84400842e-01 -1.30094915e-01 -6.28201565e-02 -3.76554890e-03\n",
            "  3.84830203e-02  7.04119438e-02  1.01341074e-01  1.39541402e-01\n",
            "  1.84597434e-01  2.23143518e-01  2.45100096e-01  2.56559145e-01\n",
            "  2.71727404e-01  3.00347991e-01  3.40549994e-01  3.77087475e-01\n",
            "  3.89851617e-01  3.69247663e-01  3.21171607e-01  2.55620258e-01\n",
            "  1.83309437e-01  1.19266802e-01  7.09808848e-02  3.04088891e-02\n",
            " -1.18327104e-02 -5.27612644e-02 -8.42670928e-02 -1.03287234e-01\n",
            " -1.11076607e-01 -1.14059711e-01 -1.21838874e-01 -1.37134503e-01\n",
            " -1.53160343e-01 -1.61995342e-01 -1.60689573e-01 -1.50258986e-01\n",
            " -1.32951831e-01 -1.14101698e-01 -1.04044120e-01 -1.06249930e-01\n",
            " -1.10460822e-01 -1.07367610e-01 -9.47068774e-02 -6.75741652e-02\n",
            " -2.43015762e-02  1.92804816e-02  4.48689105e-02  5.01776713e-02\n",
            "  3.60115448e-02 -3.66180085e-03 -6.80961417e-02 -1.35758651e-01]\n",
            "paziente:  0\n",
            "battito numero:  2849\n",
            "durata condizione 1.0859375\n",
            "finestra in secondi:  4.0\n",
            "segnale: [-4.67790764e-02 -2.37697840e-02  1.76781132e-02  5.73564074e-02\n",
            "  7.96455438e-02  7.73353485e-02  3.83312977e-02 -3.83024914e-02\n",
            " -1.26361127e-01 -1.86485461e-01 -2.02228708e-01 -1.92239114e-01\n",
            " -1.76522689e-01 -1.55300381e-01 -1.27030841e-01 -9.66073650e-02\n",
            " -6.51199646e-02 -3.16513171e-02 -1.03821053e-03  4.51660567e-02\n",
            "  1.87973297e-01  5.02434086e-01  9.10756248e-01  1.15261956e+00\n",
            "  9.77510597e-01  3.81223057e-01 -3.70872065e-01 -9.21329631e-01\n",
            " -1.06367248e+00 -8.72479694e-01 -5.78403150e-01 -3.56617314e-01\n",
            " -2.48140118e-01 -2.05036793e-01 -1.69930251e-01 -1.20944706e-01\n",
            " -6.49437424e-02 -1.44400271e-02  2.51421039e-02  5.88749108e-02\n",
            "  9.70823048e-02  1.40481258e-01  1.78411759e-01  2.03339568e-01\n",
            "  2.17590279e-01  2.30579390e-01  2.52612260e-01  2.86909134e-01\n",
            "  3.26253523e-01  3.57623384e-01  3.69084538e-01  3.54256744e-01\n",
            "  3.13742773e-01  2.52906657e-01  1.81627337e-01  1.12449289e-01\n",
            "  5.29354799e-02  2.36941696e-03 -4.28802649e-02 -8.02128905e-02\n",
            " -1.03666597e-01 -1.13511761e-01 -1.14748215e-01 -1.15044241e-01\n",
            " -1.21759285e-01 -1.35513576e-01 -1.49809399e-01 -1.56092532e-01\n",
            " -1.50239131e-01 -1.33032715e-01 -1.10370756e-01 -9.33463936e-02\n",
            " -8.72197247e-02 -8.72983899e-02 -8.79098891e-02 -8.62509541e-02\n",
            " -8.16966387e-02 -7.35610289e-02 -5.58512240e-02 -2.08407318e-02\n",
            "  2.48624248e-02  6.21866979e-02  7.99202124e-02  7.35410877e-02\n",
            "  3.69974264e-02 -2.80247189e-02 -1.04147550e-01 -1.65593818e-01\n",
            " -1.98208621e-01 -2.06155360e-01 -1.92032927e-01 -1.52732121e-01\n",
            " -9.83303855e-02 -4.77370850e-02 -1.06474537e-02  9.77173303e-03\n",
            "  1.48672486e-02  4.75514537e-02  2.05740964e-01  5.47769955e-01\n",
            "  9.53909483e-01  1.12378305e+00  8.25802991e-01  1.47873035e-01\n",
            " -5.63352911e-01 -9.72423544e-01 -9.80876190e-01 -7.40464387e-01\n",
            " -4.71989743e-01 -3.00990808e-01 -2.32021127e-01 -2.08507213e-01\n",
            " -1.77834879e-01 -1.21149885e-01 -4.92080453e-02  1.74694732e-02\n",
            "  6.77545260e-02  1.01781322e-01  1.23967335e-01  1.44072596e-01\n",
            "  1.73848465e-01  2.09711336e-01  2.36652920e-01  2.52544983e-01\n",
            "  2.65602351e-01  2.82596278e-01  3.07934132e-01  3.36706431e-01\n",
            "  3.55187894e-01  3.48198574e-01  3.06238998e-01  2.36180806e-01\n",
            "  1.56007745e-01  8.14710899e-02  2.40073383e-02 -1.29638379e-02\n",
            " -3.87477344e-02 -6.47308062e-02 -8.97369512e-02 -1.07412824e-01\n",
            " -1.21591322e-01 -1.34261849e-01 -1.35893347e-01 -1.26194296e-01\n",
            " -1.19086931e-01 -1.23388587e-01 -1.32379927e-01 -1.32664909e-01\n",
            " -1.20833899e-01 -1.01496058e-01 -8.29435073e-02 -7.46497964e-02\n",
            " -7.30484527e-02 -7.24256559e-02 -7.52889244e-02 -7.36751558e-02\n",
            " -4.85543290e-02  6.44275946e-04  4.83975140e-02  7.22998818e-02\n",
            "  6.99715434e-02  4.86183733e-02 -4.04432977e-04 -8.10883793e-02\n",
            " -1.51776995e-01 -1.77841714e-01 -1.80566319e-01 -1.85004068e-01\n",
            " -1.76853630e-01 -1.37892520e-01 -8.72763034e-02 -5.13635507e-02\n",
            " -2.41993253e-02 -7.47856339e-04  2.13129546e-02  1.17725751e-01\n",
            "  3.91992516e-01  8.20428531e-01  1.19899118e+00  1.24101101e+00\n",
            "  8.04818692e-01  4.03673270e-02 -7.16009110e-01 -1.15169311e+00\n",
            " -1.16842975e+00 -9.17007391e-01 -6.20131922e-01 -4.07651013e-01\n",
            " -2.94240719e-01 -2.42331270e-01 -2.15119067e-01 -1.78010579e-01\n",
            " -1.10550855e-01 -2.89950588e-02  3.80306048e-02  8.13549054e-02\n",
            "  1.06235543e-01  1.31901631e-01  1.78548787e-01  2.32393304e-01\n",
            "  2.73161567e-01  3.08252655e-01  3.40469196e-01  3.61436958e-01\n",
            "  3.72797847e-01  3.78169141e-01  3.73070412e-01  3.51195007e-01\n",
            "  3.14176776e-01  2.66753258e-01  2.04682741e-01  1.27426818e-01\n",
            "  5.24412381e-02 -2.08767116e-03 -2.98922752e-02 -4.03668372e-02\n",
            " -5.03162069e-02 -6.69201771e-02 -9.23947283e-02 -1.21734484e-01\n",
            " -1.39386811e-01 -1.40719243e-01 -1.36460659e-01 -1.28566804e-01\n",
            " -1.16300872e-01 -1.10512418e-01 -1.13709246e-01 -1.15988616e-01\n",
            " -1.09858857e-01 -9.60905977e-02 -8.07533144e-02 -6.96263796e-02\n",
            " -6.27305548e-02 -4.52455987e-02 -1.14397112e-02  2.01576857e-02\n",
            "  4.23892761e-02  5.40173516e-02  3.78126960e-02 -2.09260562e-02\n",
            " -1.11064483e-01 -1.89379398e-01 -2.22278614e-01 -2.21612877e-01\n",
            " -2.06162182e-01 -1.73266297e-01 -1.33680401e-01 -1.06889509e-01\n",
            " -8.63091224e-02 -6.13609723e-02 -3.41634438e-02  1.74316252e-02\n",
            "  1.69314503e-01  4.87356366e-01  9.10577929e-01  1.21814897e+00\n",
            "  1.15231994e+00  6.37903231e-01 -1.33377759e-01 -8.31430130e-01\n",
            " -1.18126029e+00 -1.12617841e+00 -8.39789942e-01 -5.50793214e-01\n",
            " -3.69550618e-01 -2.79264710e-01 -2.28536750e-01 -1.83083071e-01\n",
            " -1.27281044e-01 -5.80245816e-02  1.94511453e-02  9.19601434e-02\n",
            "  1.46834001e-01  1.84103883e-01  2.07397656e-01  2.20018851e-01\n",
            "  2.37744597e-01  2.73170783e-01  3.18567713e-01  3.61790012e-01\n",
            "  3.96615991e-01  4.15918158e-01  4.11522790e-01  3.82772830e-01\n",
            "  3.37956743e-01  2.84911821e-01  2.25333358e-01  1.59852486e-01\n",
            "  9.42969612e-02  3.72327190e-02 -7.98467786e-03 -4.15342241e-02\n",
            " -6.27057079e-02 -7.62823961e-02 -8.99349888e-02 -1.05360529e-01\n",
            " -1.22927958e-01 -1.41466056e-01 -1.53038042e-01 -1.51576319e-01\n",
            " -1.40755247e-01 -1.28913593e-01 -1.22920980e-01 -1.24406307e-01\n",
            " -1.27258753e-01 -1.24296370e-01 -1.12756380e-01 -9.46990395e-02\n",
            " -7.85078963e-02 -6.83706691e-02 -5.28824971e-02 -2.17508761e-02\n",
            "  1.60424259e-02  4.61769238e-02  5.51883013e-02  2.61006383e-02\n",
            " -4.54459997e-02 -1.37740271e-01 -2.08651119e-01 -2.31991288e-01\n",
            " -2.23685774e-01 -2.04960846e-01 -1.76893031e-01 -1.41331545e-01\n",
            " -1.05419431e-01 -7.17146881e-02 -4.05320367e-02 -1.11456206e-02\n",
            "  4.98267011e-02  2.27325403e-01  5.75482866e-01  9.93828865e-01\n",
            "  1.21798363e+00  1.01107219e+00  3.87458998e-01 -3.81036092e-01\n",
            " -9.43829142e-01 -1.09770758e+00 -9.10822995e-01 -6.12569950e-01\n",
            " -3.83243164e-01 -2.66876979e-01 -2.19879208e-01 -1.84400842e-01\n",
            " -1.30094915e-01 -6.28201565e-02 -3.76554890e-03  3.84830203e-02\n",
            "  7.04119438e-02  1.01341074e-01  1.39541402e-01  1.84597434e-01\n",
            "  2.23143518e-01  2.45100096e-01  2.56559145e-01  2.71727404e-01\n",
            "  3.00347991e-01  3.40549994e-01  3.77087475e-01  3.89851617e-01\n",
            "  3.69247663e-01  3.21171607e-01  2.55620258e-01  1.83309437e-01\n",
            "  1.19266802e-01  7.09808848e-02  3.04088891e-02 -1.18327104e-02\n",
            " -5.27612644e-02 -8.42670928e-02 -1.03287234e-01 -1.11076607e-01\n",
            " -1.14059711e-01 -1.21838874e-01 -1.37134503e-01 -1.53160343e-01\n",
            " -1.61995342e-01 -1.60689573e-01 -1.50258986e-01 -1.32951831e-01\n",
            " -1.14101698e-01 -1.04044120e-01 -1.06249930e-01 -1.10460822e-01\n",
            " -1.07367610e-01 -9.47068774e-02 -6.75741652e-02 -2.43015762e-02\n",
            "  1.92804816e-02  4.48689105e-02  5.01776713e-02  3.60115448e-02\n",
            " -3.66180085e-03 -6.80961417e-02 -1.35758651e-01]\n",
            "paziente:  0\n",
            "battito numero:  2850\n",
            "durata condizione 0.484375\n",
            "finestra in secondi:  4.0\n",
            "segnale: [-7.35610289e-02 -5.58512240e-02 -2.08407318e-02  2.48624248e-02\n",
            "  6.21866979e-02  7.99202124e-02  7.35410877e-02  3.69974264e-02\n",
            " -2.80247189e-02 -1.04147550e-01 -1.65593818e-01 -1.98208621e-01\n",
            " -2.06155360e-01 -1.92032927e-01 -1.52732121e-01 -9.83303855e-02\n",
            " -4.77370850e-02 -1.06474537e-02  9.77173303e-03  1.48672486e-02\n",
            "  4.75514537e-02  2.05740964e-01  5.47769955e-01  9.53909483e-01\n",
            "  1.12378305e+00  8.25802991e-01  1.47873035e-01 -5.63352911e-01\n",
            " -9.72423544e-01 -9.80876190e-01 -7.40464387e-01 -4.71989743e-01\n",
            " -3.00990808e-01 -2.32021127e-01 -2.08507213e-01 -1.77834879e-01\n",
            " -1.21149885e-01 -4.92080453e-02  1.74694732e-02  6.77545260e-02\n",
            "  1.01781322e-01  1.23967335e-01  1.44072596e-01  1.73848465e-01\n",
            "  2.09711336e-01  2.36652920e-01  2.52544983e-01  2.65602351e-01\n",
            "  2.82596278e-01  3.07934132e-01  3.36706431e-01  3.55187894e-01\n",
            "  3.48198574e-01  3.06238998e-01  2.36180806e-01  1.56007745e-01\n",
            "  8.14710899e-02  2.40073383e-02 -1.29638379e-02 -3.87477344e-02\n",
            " -6.47308062e-02 -8.97369512e-02 -1.07412824e-01 -1.21591322e-01\n",
            " -1.34261849e-01 -1.35893347e-01 -1.26194296e-01 -1.19086931e-01\n",
            " -1.23388587e-01 -1.32379927e-01 -1.32664909e-01 -1.20833899e-01\n",
            " -1.01496058e-01 -8.29435073e-02 -7.46497964e-02 -7.30484527e-02\n",
            " -7.24256559e-02 -7.52889244e-02 -7.36751558e-02 -4.85543290e-02\n",
            "  6.44275946e-04  4.83975140e-02  7.22998818e-02  6.99715434e-02\n",
            "  4.86183733e-02 -4.04432977e-04 -8.10883793e-02 -1.51776995e-01\n",
            " -1.77841714e-01 -1.80566319e-01 -1.85004068e-01 -1.76853630e-01\n",
            " -1.37892520e-01 -8.72763034e-02 -5.13635507e-02 -2.41993253e-02\n",
            " -7.47856339e-04  2.13129546e-02  1.17725751e-01  3.91992516e-01\n",
            "  8.20428531e-01  1.19899118e+00  1.24101101e+00  8.04818692e-01\n",
            "  4.03673270e-02 -7.16009110e-01 -1.15169311e+00 -1.16842975e+00\n",
            " -9.17007391e-01 -6.20131922e-01 -4.07651013e-01 -2.94240719e-01\n",
            " -2.42331270e-01 -2.15119067e-01 -1.78010579e-01 -1.10550855e-01\n",
            " -2.89950588e-02  3.80306048e-02  8.13549054e-02  1.06235543e-01\n",
            "  1.31901631e-01  1.78548787e-01  2.32393304e-01  2.73161567e-01\n",
            "  3.08252655e-01  3.40469196e-01  3.61436958e-01  3.72797847e-01\n",
            "  3.78169141e-01  3.73070412e-01  3.51195007e-01  3.14176776e-01\n",
            "  2.66753258e-01  2.04682741e-01  1.27426818e-01  5.24412381e-02\n",
            " -2.08767116e-03 -2.98922752e-02 -4.03668372e-02 -5.03162069e-02\n",
            " -6.69201771e-02 -9.23947283e-02 -1.21734484e-01 -1.39386811e-01\n",
            " -1.40719243e-01 -1.36460659e-01 -1.28566804e-01 -1.16300872e-01\n",
            " -1.10512418e-01 -1.13709246e-01 -1.15988616e-01 -1.09858857e-01\n",
            " -9.60905977e-02 -8.07533144e-02 -6.96263796e-02 -6.27305548e-02\n",
            " -4.52455987e-02 -1.14397112e-02  2.01576857e-02  4.23892761e-02\n",
            "  5.40173516e-02  3.78126960e-02 -2.09260562e-02 -1.11064483e-01\n",
            " -1.89379398e-01 -2.22278614e-01 -2.21612877e-01 -2.06162182e-01\n",
            " -1.73266297e-01 -1.33680401e-01 -1.06889509e-01 -8.63091224e-02\n",
            " -6.13609723e-02 -3.41634438e-02  1.74316252e-02  1.69314503e-01\n",
            "  4.87356366e-01  9.10577929e-01  1.21814897e+00  1.15231994e+00\n",
            "  6.37903231e-01 -1.33377759e-01 -8.31430130e-01 -1.18126029e+00\n",
            " -1.12617841e+00 -8.39789942e-01 -5.50793214e-01 -3.69550618e-01\n",
            " -2.79264710e-01 -2.28536750e-01 -1.83083071e-01 -1.27281044e-01\n",
            " -5.80245816e-02  1.94511453e-02  9.19601434e-02  1.46834001e-01\n",
            "  1.84103883e-01  2.07397656e-01  2.20018851e-01  2.37744597e-01\n",
            "  2.73170783e-01  3.18567713e-01  3.61790012e-01  3.96615991e-01\n",
            "  4.15918158e-01  4.11522790e-01  3.82772830e-01  3.37956743e-01\n",
            "  2.84911821e-01  2.25333358e-01  1.59852486e-01  9.42969612e-02\n",
            "  3.72327190e-02 -7.98467786e-03 -4.15342241e-02 -6.27057079e-02\n",
            " -7.62823961e-02 -8.99349888e-02 -1.05360529e-01 -1.22927958e-01\n",
            " -1.41466056e-01 -1.53038042e-01 -1.51576319e-01 -1.40755247e-01\n",
            " -1.28913593e-01 -1.22920980e-01 -1.24406307e-01 -1.27258753e-01\n",
            " -1.24296370e-01 -1.12756380e-01 -9.46990395e-02 -7.85078963e-02\n",
            " -6.83706691e-02 -5.28824971e-02 -2.17508761e-02  1.60424259e-02\n",
            "  4.61769238e-02  5.51883013e-02  2.61006383e-02 -4.54459997e-02\n",
            " -1.37740271e-01 -2.08651119e-01 -2.31991288e-01 -2.23685774e-01\n",
            " -2.04960846e-01 -1.76893031e-01 -1.41331545e-01 -1.05419431e-01\n",
            " -7.17146881e-02 -4.05320367e-02 -1.11456206e-02  4.98267011e-02\n",
            "  2.27325403e-01  5.75482866e-01  9.93828865e-01  1.21798363e+00\n",
            "  1.01107219e+00  3.87458998e-01 -3.81036092e-01 -9.43829142e-01\n",
            " -1.09770758e+00 -9.10822995e-01 -6.12569950e-01 -3.83243164e-01\n",
            " -2.66876979e-01 -2.19879208e-01 -1.84400842e-01 -1.30094915e-01\n",
            " -6.28201565e-02 -3.76554890e-03  3.84830203e-02  7.04119438e-02\n",
            "  1.01341074e-01  1.39541402e-01  1.84597434e-01  2.23143518e-01\n",
            "  2.45100096e-01  2.56559145e-01  2.71727404e-01  3.00347991e-01\n",
            "  3.40549994e-01  3.77087475e-01  3.89851617e-01  3.69247663e-01\n",
            "  3.21171607e-01  2.55620258e-01  1.83309437e-01  1.19266802e-01\n",
            "  7.09808848e-02  3.04088891e-02 -1.18327104e-02 -5.27612644e-02\n",
            " -8.42670928e-02 -1.03287234e-01 -1.11076607e-01 -1.14059711e-01\n",
            " -1.21838874e-01 -1.37134503e-01 -1.53160343e-01 -1.61995342e-01\n",
            " -1.60689573e-01 -1.50258986e-01 -1.32951831e-01 -1.14101698e-01\n",
            " -1.04044120e-01 -1.06249930e-01 -1.10460822e-01 -1.07367610e-01\n",
            " -9.47068774e-02 -6.75741652e-02 -2.43015762e-02  1.92804816e-02\n",
            "  4.48689105e-02  5.01776713e-02  3.60115448e-02 -3.66180085e-03\n",
            " -6.80961417e-02 -1.35758651e-01]\n",
            "paziente:  0\n",
            "battito numero:  2848\n",
            "durata condizione 1.6875\n",
            "finestra in secondi:  4.0\n",
            "segnale: [ 1.96052354e-02  2.98841867e-02  6.57227000e-02  1.01997326e-01\n",
            "  1.09036723e-01  7.49452302e-02 -3.20603701e-04 -9.93509553e-02\n",
            " -1.78423271e-01 -1.94663140e-01 -1.50583305e-01 -9.74498129e-02\n",
            " -7.70628627e-02 -8.10013309e-02 -7.72692208e-02 -5.15336596e-02\n",
            " -1.48031645e-02  1.51341176e-02  2.41654421e-02  2.33741956e-02\n",
            "  8.72062384e-02  2.57578394e-01  3.76844668e-01  2.10237377e-01\n",
            " -2.66199870e-01 -7.99070833e-01 -1.01505236e+00 -7.07263003e-01\n",
            " -4.19730278e-02  5.69488606e-01  8.23374672e-01  7.26909851e-01\n",
            "  4.84866185e-01  2.83532875e-01  1.87674742e-01  1.64486448e-01\n",
            "  1.59373545e-01  1.41082707e-01  1.05552307e-01  6.52007083e-02\n",
            "  3.09798641e-02  3.99906273e-03 -1.89057164e-02 -4.00885149e-02\n",
            " -5.85048723e-02 -7.22804771e-02 -8.10363241e-02 -8.49301634e-02\n",
            " -8.90667300e-02 -1.02375587e-01 -1.26368060e-01 -1.52011156e-01\n",
            " -1.69019211e-01 -1.74044316e-01 -1.71167744e-01 -1.66720379e-01\n",
            " -1.62442809e-01 -1.54742410e-01 -1.40823336e-01 -1.20822468e-01\n",
            " -9.38795918e-02 -6.12615573e-02 -3.15903372e-02 -1.40312513e-02\n",
            " -8.51602562e-03 -4.76541011e-03  7.93014583e-03  2.99210022e-02\n",
            "  5.26929196e-02  6.82022433e-02  7.33564986e-02  7.01004634e-02\n",
            "  6.59829104e-02  6.82055600e-02  7.64474224e-02  8.42207973e-02\n",
            "  8.29252651e-02  7.05087189e-02  6.03081211e-02  7.04085509e-02\n",
            "  1.00264738e-01  1.29676168e-01  1.36593251e-01  1.03242828e-01\n",
            "  2.45693527e-02 -7.61054702e-02 -1.53059819e-01 -1.69385531e-01\n",
            " -1.33425982e-01 -9.19670511e-02 -7.14276076e-02 -5.85018709e-02\n",
            " -4.07165664e-02 -2.34528577e-02 -1.36728505e-02 -1.21713579e-02\n",
            " -1.30594660e-02  2.21767383e-02  1.69011768e-01  4.06392796e-01\n",
            "  5.15750323e-01  2.79871986e-01 -2.49541518e-01 -7.48404375e-01\n",
            " -8.55601393e-01 -4.82580422e-01  8.46130719e-02  4.61361473e-01\n",
            "  5.03211992e-01  3.33822366e-01  1.47764952e-01  5.50101574e-02\n",
            "  5.21280218e-02  7.61736396e-02  7.70696177e-02  5.11327343e-02\n",
            "  2.17352233e-02  7.59661554e-03  1.01644639e-02  1.64884042e-02\n",
            "  1.26184929e-02 -3.75251015e-03 -2.42806520e-02 -3.79069577e-02\n",
            " -3.87255070e-02 -3.08324214e-02 -2.58022217e-02 -3.48857433e-02\n",
            " -6.00941252e-02 -9.15389190e-02 -1.15927422e-01 -1.26608340e-01\n",
            " -1.24736577e-01 -1.15533861e-01 -1.04895154e-01 -9.57269473e-02\n",
            " -8.74861381e-02 -7.75414681e-02 -6.17942327e-02 -3.95698825e-02\n",
            " -1.53187721e-02  7.02975048e-03  2.45481136e-02  3.40886914e-02\n",
            "  3.74189241e-02  4.08454062e-02  4.88912029e-02  6.25230775e-02\n",
            "  7.75647778e-02  8.60968826e-02  8.38812164e-02  7.35068066e-02\n",
            "  6.11498607e-02  5.11133601e-02  4.50574757e-02  4.50749010e-02\n",
            "  5.51208641e-02  7.59398514e-02  9.47741612e-02  9.72035030e-02\n",
            "  8.30602471e-02  4.97612854e-02 -1.16570644e-02 -8.84224130e-02\n",
            " -1.43139195e-01 -1.50878690e-01 -1.25897716e-01 -9.94818314e-02\n",
            " -7.98646542e-02 -5.61627300e-02 -2.99908074e-02 -1.29522176e-02\n",
            " -7.60505866e-03 -1.31620143e-02 -1.98592736e-02  2.93560616e-02\n",
            "  1.93093319e-01  3.78305877e-01  3.54102697e-01 -3.62622261e-03\n",
            " -5.30462021e-01 -8.42219299e-01 -6.66212017e-01 -1.27987490e-01\n",
            "  3.83757933e-01  5.89604749e-01  4.95812911e-01  2.84535267e-01\n",
            "  1.21213711e-01  6.03168510e-02  6.89403590e-02  9.34348177e-02\n",
            "  1.02466666e-01  9.11933877e-02  6.76049714e-02  4.02922312e-02\n",
            "  1.51760455e-02 -2.00064415e-03 -8.84931761e-03 -1.24175879e-02\n",
            " -2.21269182e-02 -3.81343673e-02 -5.44826112e-02 -6.64663508e-02\n",
            " -7.23363748e-02 -7.37140450e-02 -7.74581527e-02 -9.26669896e-02\n",
            " -1.19856765e-01 -1.47636059e-01 -1.62564828e-01 -1.61667164e-01\n",
            " -1.50787654e-01 -1.33908399e-01 -1.13156727e-01 -9.36825509e-02\n",
            " -8.17375575e-02 -7.59568866e-02 -6.56597608e-02 -4.31623652e-02\n",
            " -1.36132671e-02  1.22516239e-02  2.92899015e-02  3.85259034e-02\n",
            "  4.60939935e-02  5.87469798e-02  7.65306629e-02  9.38890988e-02\n",
            "  1.05415325e-01  1.08780943e-01  1.01429204e-01  8.28960866e-02\n",
            "  6.17922990e-02  5.32178981e-02  7.19368247e-02  1.15185159e-01\n",
            "  1.54789655e-01  1.61685435e-01  1.23777666e-01  4.35515548e-02\n",
            " -5.83721267e-02 -1.38284297e-01 -1.54933784e-01 -1.15592636e-01\n",
            " -7.16392244e-02 -5.72795687e-02 -5.97258887e-02 -5.17910855e-02\n",
            " -2.92696866e-02 -7.90726406e-03  2.87687018e-03  5.72256672e-03\n",
            "  2.91002724e-02  1.54272599e-01  3.98149270e-01  5.57155835e-01\n",
            "  3.75819985e-01 -1.57178610e-01 -7.68563593e-01 -1.06186762e+00\n",
            " -8.11029554e-01 -1.87494578e-01  3.87860835e-01  6.22286787e-01\n",
            "  5.33002429e-01  3.14112053e-01  1.34882402e-01  5.78834565e-02\n",
            "  5.87355835e-02  8.35650464e-02  9.71380787e-02  9.13462715e-02\n",
            "  6.96923247e-02  4.01471592e-02  1.34451808e-02 -7.80689687e-04\n",
            " -2.96551726e-03 -5.51287095e-03 -1.42850198e-02 -2.33337557e-02\n",
            " -3.25206585e-02 -4.88447415e-02 -7.11262170e-02 -9.28521272e-02\n",
            " -1.14762192e-01 -1.36388072e-01 -1.49103601e-01 -1.48721972e-01\n",
            " -1.40380766e-01 -1.31252252e-01 -1.22297505e-01 -1.08237964e-01\n",
            " -8.69294808e-02 -6.13152680e-02 -3.63162394e-02 -1.81841750e-02\n",
            " -8.92894190e-03 -1.94247430e-03  1.16794135e-02  3.35098687e-02\n",
            "  5.80447758e-02  7.97765367e-02  9.27943019e-02  9.34936473e-02\n",
            "  8.78800127e-02  8.61277678e-02  9.04394074e-02  9.14823140e-02\n",
            "  8.01753547e-02  5.83383311e-02  3.72739384e-02  3.56432341e-02\n",
            "  6.16942332e-02  9.54747941e-02  1.10167923e-01  8.77371534e-02\n",
            "  1.44989497e-02 -9.79159027e-02 -1.96946051e-01 -2.26268501e-01\n",
            " -1.83642283e-01 -1.23871267e-01 -8.99837169e-02 -7.35733295e-02\n",
            " -5.74042656e-02 -4.14883173e-02 -2.61720937e-02 -1.04347955e-02\n",
            "  4.44801735e-03  4.07620585e-02  1.72340922e-01  4.12257783e-01\n",
            "  5.62719896e-01  3.76332762e-01 -1.48669378e-01 -7.26989663e-01\n",
            " -9.70059528e-01 -6.92512687e-01 -1.03037652e-01  3.95541985e-01\n",
            "  5.67686726e-01  4.62596096e-01  2.69214162e-01  1.35453208e-01\n",
            "  9.55149668e-02  1.05706919e-01  1.13498962e-01  9.93648380e-02\n",
            "  7.46812093e-02  5.24235162e-02  3.31990771e-02  1.57354026e-02\n",
            " -1.49549137e-03 -2.08230510e-02 -3.52476639e-02 -3.65079905e-02\n",
            " -2.91050163e-02 -2.44095482e-02 -3.23685901e-02 -5.72242969e-02\n",
            " -9.07643842e-02 -1.17505187e-01 -1.29556000e-01 -1.28114991e-01\n",
            " -1.19470164e-01 -1.12602796e-01 -1.09947217e-01 -1.05193597e-01\n",
            " -9.31372080e-02 -7.32947619e-02 -4.80585639e-02 -2.48798671e-02\n",
            " -1.13052495e-02 -6.16849881e-03 -2.55416170e-03  6.31183148e-03\n",
            "  2.33939599e-02  4.38190637e-02  5.97708654e-02  6.81674863e-02\n",
            "  6.77658201e-02  5.82974600e-02  4.73374977e-02  4.36532090e-02\n",
            "  4.53525770e-02  4.57085570e-02  4.11503281e-02  3.66857025e-02\n",
            "  4.70900973e-02  7.41115731e-02  9.72050434e-02  9.97239524e-02\n",
            "  7.30843507e-02  9.47275768e-03 -7.81245494e-02 -1.50576340e-01\n",
            " -1.70571663e-01 -1.38110370e-01 -9.35061971e-02 -6.68258531e-02\n",
            " -4.98858547e-02 -3.23056710e-02 -2.01859298e-02 -1.64266599e-02\n",
            " -1.77685363e-02 -1.60662947e-02  3.43132499e-02  2.08161717e-01\n",
            "  4.66882000e-01  5.78060014e-01  3.27951720e-01 -2.27571796e-01\n",
            " -7.71312345e-01 -9.35412011e-01 -5.97751671e-01 -1.67821738e-02\n",
            "  4.11372583e-01  5.03405430e-01  3.59104337e-01  1.76604921e-01\n",
            "  7.71154009e-02  6.82921503e-02  9.66234428e-02  1.09972499e-01\n",
            "  9.16198332e-02  5.63291336e-02  2.80292783e-02  1.83849567e-02\n",
            "  1.84098953e-02  1.52579263e-02  4.89569693e-03 -1.23892074e-02\n",
            " -3.14261346e-02 -4.43636033e-02 -4.70771684e-02 -4.20216138e-02\n",
            " -4.10248673e-02 -5.73661445e-02 -8.91179015e-02 -1.17132104e-01\n",
            " -1.24417256e-01 -1.11826624e-01 -9.08172547e-02 -7.22725870e-02\n",
            " -6.22120437e-02 -5.93224122e-02 -5.65052515e-02 -4.67197147e-02\n",
            " -2.90323995e-02 -7.77843544e-03  1.13133889e-02  2.41178974e-02\n",
            "  2.96744983e-02  2.98085864e-02  3.03958187e-02  3.74663869e-02\n",
            "  5.13458851e-02  6.67558119e-02  7.47855491e-02  7.03975043e-02\n",
            "  5.84834176e-02  4.65201845e-02  3.79721163e-02  3.58696746e-02\n",
            "  4.61465770e-02  6.95524566e-02  9.06258410e-02  9.05026022e-02\n",
            "  6.24437705e-02  5.98997064e-03 -6.87488116e-02 -1.34716446e-01]\n",
            "paziente:  0\n",
            "battito numero:  2849\n",
            "durata condizione 1.0859375\n",
            "finestra in secondi:  4.0\n",
            "segnale: [ 7.05087189e-02  6.03081211e-02  7.04085509e-02  1.00264738e-01\n",
            "  1.29676168e-01  1.36593251e-01  1.03242828e-01  2.45693527e-02\n",
            " -7.61054702e-02 -1.53059819e-01 -1.69385531e-01 -1.33425982e-01\n",
            " -9.19670511e-02 -7.14276076e-02 -5.85018709e-02 -4.07165664e-02\n",
            " -2.34528577e-02 -1.36728505e-02 -1.21713579e-02 -1.30594660e-02\n",
            "  2.21767383e-02  1.69011768e-01  4.06392796e-01  5.15750323e-01\n",
            "  2.79871986e-01 -2.49541518e-01 -7.48404375e-01 -8.55601393e-01\n",
            " -4.82580422e-01  8.46130719e-02  4.61361473e-01  5.03211992e-01\n",
            "  3.33822366e-01  1.47764952e-01  5.50101574e-02  5.21280218e-02\n",
            "  7.61736396e-02  7.70696177e-02  5.11327343e-02  2.17352233e-02\n",
            "  7.59661554e-03  1.01644639e-02  1.64884042e-02  1.26184929e-02\n",
            " -3.75251015e-03 -2.42806520e-02 -3.79069577e-02 -3.87255070e-02\n",
            " -3.08324214e-02 -2.58022217e-02 -3.48857433e-02 -6.00941252e-02\n",
            " -9.15389190e-02 -1.15927422e-01 -1.26608340e-01 -1.24736577e-01\n",
            " -1.15533861e-01 -1.04895154e-01 -9.57269473e-02 -8.74861381e-02\n",
            " -7.75414681e-02 -6.17942327e-02 -3.95698825e-02 -1.53187721e-02\n",
            "  7.02975048e-03  2.45481136e-02  3.40886914e-02  3.74189241e-02\n",
            "  4.08454062e-02  4.88912029e-02  6.25230775e-02  7.75647778e-02\n",
            "  8.60968826e-02  8.38812164e-02  7.35068066e-02  6.11498607e-02\n",
            "  5.11133601e-02  4.50574757e-02  4.50749010e-02  5.51208641e-02\n",
            "  7.59398514e-02  9.47741612e-02  9.72035030e-02  8.30602471e-02\n",
            "  4.97612854e-02 -1.16570644e-02 -8.84224130e-02 -1.43139195e-01\n",
            " -1.50878690e-01 -1.25897716e-01 -9.94818314e-02 -7.98646542e-02\n",
            " -5.61627300e-02 -2.99908074e-02 -1.29522176e-02 -7.60505866e-03\n",
            " -1.31620143e-02 -1.98592736e-02  2.93560616e-02  1.93093319e-01\n",
            "  3.78305877e-01  3.54102697e-01 -3.62622261e-03 -5.30462021e-01\n",
            " -8.42219299e-01 -6.66212017e-01 -1.27987490e-01  3.83757933e-01\n",
            "  5.89604749e-01  4.95812911e-01  2.84535267e-01  1.21213711e-01\n",
            "  6.03168510e-02  6.89403590e-02  9.34348177e-02  1.02466666e-01\n",
            "  9.11933877e-02  6.76049714e-02  4.02922312e-02  1.51760455e-02\n",
            " -2.00064415e-03 -8.84931761e-03 -1.24175879e-02 -2.21269182e-02\n",
            " -3.81343673e-02 -5.44826112e-02 -6.64663508e-02 -7.23363748e-02\n",
            " -7.37140450e-02 -7.74581527e-02 -9.26669896e-02 -1.19856765e-01\n",
            " -1.47636059e-01 -1.62564828e-01 -1.61667164e-01 -1.50787654e-01\n",
            " -1.33908399e-01 -1.13156727e-01 -9.36825509e-02 -8.17375575e-02\n",
            " -7.59568866e-02 -6.56597608e-02 -4.31623652e-02 -1.36132671e-02\n",
            "  1.22516239e-02  2.92899015e-02  3.85259034e-02  4.60939935e-02\n",
            "  5.87469798e-02  7.65306629e-02  9.38890988e-02  1.05415325e-01\n",
            "  1.08780943e-01  1.01429204e-01  8.28960866e-02  6.17922990e-02\n",
            "  5.32178981e-02  7.19368247e-02  1.15185159e-01  1.54789655e-01\n",
            "  1.61685435e-01  1.23777666e-01  4.35515548e-02 -5.83721267e-02\n",
            " -1.38284297e-01 -1.54933784e-01 -1.15592636e-01 -7.16392244e-02\n",
            " -5.72795687e-02 -5.97258887e-02 -5.17910855e-02 -2.92696866e-02\n",
            " -7.90726406e-03  2.87687018e-03  5.72256672e-03  2.91002724e-02\n",
            "  1.54272599e-01  3.98149270e-01  5.57155835e-01  3.75819985e-01\n",
            " -1.57178610e-01 -7.68563593e-01 -1.06186762e+00 -8.11029554e-01\n",
            " -1.87494578e-01  3.87860835e-01  6.22286787e-01  5.33002429e-01\n",
            "  3.14112053e-01  1.34882402e-01  5.78834565e-02  5.87355835e-02\n",
            "  8.35650464e-02  9.71380787e-02  9.13462715e-02  6.96923247e-02\n",
            "  4.01471592e-02  1.34451808e-02 -7.80689687e-04 -2.96551726e-03\n",
            " -5.51287095e-03 -1.42850198e-02 -2.33337557e-02 -3.25206585e-02\n",
            " -4.88447415e-02 -7.11262170e-02 -9.28521272e-02 -1.14762192e-01\n",
            " -1.36388072e-01 -1.49103601e-01 -1.48721972e-01 -1.40380766e-01\n",
            " -1.31252252e-01 -1.22297505e-01 -1.08237964e-01 -8.69294808e-02\n",
            " -6.13152680e-02 -3.63162394e-02 -1.81841750e-02 -8.92894190e-03\n",
            " -1.94247430e-03  1.16794135e-02  3.35098687e-02  5.80447758e-02\n",
            "  7.97765367e-02  9.27943019e-02  9.34936473e-02  8.78800127e-02\n",
            "  8.61277678e-02  9.04394074e-02  9.14823140e-02  8.01753547e-02\n",
            "  5.83383311e-02  3.72739384e-02  3.56432341e-02  6.16942332e-02\n",
            "  9.54747941e-02  1.10167923e-01  8.77371534e-02  1.44989497e-02\n",
            " -9.79159027e-02 -1.96946051e-01 -2.26268501e-01 -1.83642283e-01\n",
            " -1.23871267e-01 -8.99837169e-02 -7.35733295e-02 -5.74042656e-02\n",
            " -4.14883173e-02 -2.61720937e-02 -1.04347955e-02  4.44801735e-03\n",
            "  4.07620585e-02  1.72340922e-01  4.12257783e-01  5.62719896e-01\n",
            "  3.76332762e-01 -1.48669378e-01 -7.26989663e-01 -9.70059528e-01\n",
            " -6.92512687e-01 -1.03037652e-01  3.95541985e-01  5.67686726e-01\n",
            "  4.62596096e-01  2.69214162e-01  1.35453208e-01  9.55149668e-02\n",
            "  1.05706919e-01  1.13498962e-01  9.93648380e-02  7.46812093e-02\n",
            "  5.24235162e-02  3.31990771e-02  1.57354026e-02 -1.49549137e-03\n",
            " -2.08230510e-02 -3.52476639e-02 -3.65079905e-02 -2.91050163e-02\n",
            " -2.44095482e-02 -3.23685901e-02 -5.72242969e-02 -9.07643842e-02\n",
            " -1.17505187e-01 -1.29556000e-01 -1.28114991e-01 -1.19470164e-01\n",
            " -1.12602796e-01 -1.09947217e-01 -1.05193597e-01 -9.31372080e-02\n",
            " -7.32947619e-02 -4.80585639e-02 -2.48798671e-02 -1.13052495e-02\n",
            " -6.16849881e-03 -2.55416170e-03  6.31183148e-03  2.33939599e-02\n",
            "  4.38190637e-02  5.97708654e-02  6.81674863e-02  6.77658201e-02\n",
            "  5.82974600e-02  4.73374977e-02  4.36532090e-02  4.53525770e-02\n",
            "  4.57085570e-02  4.11503281e-02  3.66857025e-02  4.70900973e-02\n",
            "  7.41115731e-02  9.72050434e-02  9.97239524e-02  7.30843507e-02\n",
            "  9.47275768e-03 -7.81245494e-02 -1.50576340e-01 -1.70571663e-01\n",
            " -1.38110370e-01 -9.35061971e-02 -6.68258531e-02 -4.98858547e-02\n",
            " -3.23056710e-02 -2.01859298e-02 -1.64266599e-02 -1.77685363e-02\n",
            " -1.60662947e-02  3.43132499e-02  2.08161717e-01  4.66882000e-01\n",
            "  5.78060014e-01  3.27951720e-01 -2.27571796e-01 -7.71312345e-01\n",
            " -9.35412011e-01 -5.97751671e-01 -1.67821738e-02  4.11372583e-01\n",
            "  5.03405430e-01  3.59104337e-01  1.76604921e-01  7.71154009e-02\n",
            "  6.82921503e-02  9.66234428e-02  1.09972499e-01  9.16198332e-02\n",
            "  5.63291336e-02  2.80292783e-02  1.83849567e-02  1.84098953e-02\n",
            "  1.52579263e-02  4.89569693e-03 -1.23892074e-02 -3.14261346e-02\n",
            " -4.43636033e-02 -4.70771684e-02 -4.20216138e-02 -4.10248673e-02\n",
            " -5.73661445e-02 -8.91179015e-02 -1.17132104e-01 -1.24417256e-01\n",
            " -1.11826624e-01 -9.08172547e-02 -7.22725870e-02 -6.22120437e-02\n",
            " -5.93224122e-02 -5.65052515e-02 -4.67197147e-02 -2.90323995e-02\n",
            " -7.77843544e-03  1.13133889e-02  2.41178974e-02  2.96744983e-02\n",
            "  2.98085864e-02  3.03958187e-02  3.74663869e-02  5.13458851e-02\n",
            "  6.67558119e-02  7.47855491e-02  7.03975043e-02  5.84834176e-02\n",
            "  4.65201845e-02  3.79721163e-02  3.58696746e-02  4.61465770e-02\n",
            "  6.95524566e-02  9.06258410e-02  9.05026022e-02  6.24437705e-02\n",
            "  5.98997064e-03 -6.87488116e-02 -1.34716446e-01]\n",
            "paziente:  0\n",
            "battito numero:  2850\n",
            "durata condizione 0.484375\n",
            "finestra in secondi:  4.0\n",
            "segnale: [ 4.50574757e-02  4.50749010e-02  5.51208641e-02  7.59398514e-02\n",
            "  9.47741612e-02  9.72035030e-02  8.30602471e-02  4.97612854e-02\n",
            " -1.16570644e-02 -8.84224130e-02 -1.43139195e-01 -1.50878690e-01\n",
            " -1.25897716e-01 -9.94818314e-02 -7.98646542e-02 -5.61627300e-02\n",
            " -2.99908074e-02 -1.29522176e-02 -7.60505866e-03 -1.31620143e-02\n",
            " -1.98592736e-02  2.93560616e-02  1.93093319e-01  3.78305877e-01\n",
            "  3.54102697e-01 -3.62622261e-03 -5.30462021e-01 -8.42219299e-01\n",
            " -6.66212017e-01 -1.27987490e-01  3.83757933e-01  5.89604749e-01\n",
            "  4.95812911e-01  2.84535267e-01  1.21213711e-01  6.03168510e-02\n",
            "  6.89403590e-02  9.34348177e-02  1.02466666e-01  9.11933877e-02\n",
            "  6.76049714e-02  4.02922312e-02  1.51760455e-02 -2.00064415e-03\n",
            " -8.84931761e-03 -1.24175879e-02 -2.21269182e-02 -3.81343673e-02\n",
            " -5.44826112e-02 -6.64663508e-02 -7.23363748e-02 -7.37140450e-02\n",
            " -7.74581527e-02 -9.26669896e-02 -1.19856765e-01 -1.47636059e-01\n",
            " -1.62564828e-01 -1.61667164e-01 -1.50787654e-01 -1.33908399e-01\n",
            " -1.13156727e-01 -9.36825509e-02 -8.17375575e-02 -7.59568866e-02\n",
            " -6.56597608e-02 -4.31623652e-02 -1.36132671e-02  1.22516239e-02\n",
            "  2.92899015e-02  3.85259034e-02  4.60939935e-02  5.87469798e-02\n",
            "  7.65306629e-02  9.38890988e-02  1.05415325e-01  1.08780943e-01\n",
            "  1.01429204e-01  8.28960866e-02  6.17922990e-02  5.32178981e-02\n",
            "  7.19368247e-02  1.15185159e-01  1.54789655e-01  1.61685435e-01\n",
            "  1.23777666e-01  4.35515548e-02 -5.83721267e-02 -1.38284297e-01\n",
            " -1.54933784e-01 -1.15592636e-01 -7.16392244e-02 -5.72795687e-02\n",
            " -5.97258887e-02 -5.17910855e-02 -2.92696866e-02 -7.90726406e-03\n",
            "  2.87687018e-03  5.72256672e-03  2.91002724e-02  1.54272599e-01\n",
            "  3.98149270e-01  5.57155835e-01  3.75819985e-01 -1.57178610e-01\n",
            " -7.68563593e-01 -1.06186762e+00 -8.11029554e-01 -1.87494578e-01\n",
            "  3.87860835e-01  6.22286787e-01  5.33002429e-01  3.14112053e-01\n",
            "  1.34882402e-01  5.78834565e-02  5.87355835e-02  8.35650464e-02\n",
            "  9.71380787e-02  9.13462715e-02  6.96923247e-02  4.01471592e-02\n",
            "  1.34451808e-02 -7.80689687e-04 -2.96551726e-03 -5.51287095e-03\n",
            " -1.42850198e-02 -2.33337557e-02 -3.25206585e-02 -4.88447415e-02\n",
            " -7.11262170e-02 -9.28521272e-02 -1.14762192e-01 -1.36388072e-01\n",
            " -1.49103601e-01 -1.48721972e-01 -1.40380766e-01 -1.31252252e-01\n",
            " -1.22297505e-01 -1.08237964e-01 -8.69294808e-02 -6.13152680e-02\n",
            " -3.63162394e-02 -1.81841750e-02 -8.92894190e-03 -1.94247430e-03\n",
            "  1.16794135e-02  3.35098687e-02  5.80447758e-02  7.97765367e-02\n",
            "  9.27943019e-02  9.34936473e-02  8.78800127e-02  8.61277678e-02\n",
            "  9.04394074e-02  9.14823140e-02  8.01753547e-02  5.83383311e-02\n",
            "  3.72739384e-02  3.56432341e-02  6.16942332e-02  9.54747941e-02\n",
            "  1.10167923e-01  8.77371534e-02  1.44989497e-02 -9.79159027e-02\n",
            " -1.96946051e-01 -2.26268501e-01 -1.83642283e-01 -1.23871267e-01\n",
            " -8.99837169e-02 -7.35733295e-02 -5.74042656e-02 -4.14883173e-02\n",
            " -2.61720937e-02 -1.04347955e-02  4.44801735e-03  4.07620585e-02\n",
            "  1.72340922e-01  4.12257783e-01  5.62719896e-01  3.76332762e-01\n",
            " -1.48669378e-01 -7.26989663e-01 -9.70059528e-01 -6.92512687e-01\n",
            " -1.03037652e-01  3.95541985e-01  5.67686726e-01  4.62596096e-01\n",
            "  2.69214162e-01  1.35453208e-01  9.55149668e-02  1.05706919e-01\n",
            "  1.13498962e-01  9.93648380e-02  7.46812093e-02  5.24235162e-02\n",
            "  3.31990771e-02  1.57354026e-02 -1.49549137e-03 -2.08230510e-02\n",
            " -3.52476639e-02 -3.65079905e-02 -2.91050163e-02 -2.44095482e-02\n",
            " -3.23685901e-02 -5.72242969e-02 -9.07643842e-02 -1.17505187e-01\n",
            " -1.29556000e-01 -1.28114991e-01 -1.19470164e-01 -1.12602796e-01\n",
            " -1.09947217e-01 -1.05193597e-01 -9.31372080e-02 -7.32947619e-02\n",
            " -4.80585639e-02 -2.48798671e-02 -1.13052495e-02 -6.16849881e-03\n",
            " -2.55416170e-03  6.31183148e-03  2.33939599e-02  4.38190637e-02\n",
            "  5.97708654e-02  6.81674863e-02  6.77658201e-02  5.82974600e-02\n",
            "  4.73374977e-02  4.36532090e-02  4.53525770e-02  4.57085570e-02\n",
            "  4.11503281e-02  3.66857025e-02  4.70900973e-02  7.41115731e-02\n",
            "  9.72050434e-02  9.97239524e-02  7.30843507e-02  9.47275768e-03\n",
            " -7.81245494e-02 -1.50576340e-01 -1.70571663e-01 -1.38110370e-01\n",
            " -9.35061971e-02 -6.68258531e-02 -4.98858547e-02 -3.23056710e-02\n",
            " -2.01859298e-02 -1.64266599e-02 -1.77685363e-02 -1.60662947e-02\n",
            "  3.43132499e-02  2.08161717e-01  4.66882000e-01  5.78060014e-01\n",
            "  3.27951720e-01 -2.27571796e-01 -7.71312345e-01 -9.35412011e-01\n",
            " -5.97751671e-01 -1.67821738e-02  4.11372583e-01  5.03405430e-01\n",
            "  3.59104337e-01  1.76604921e-01  7.71154009e-02  6.82921503e-02\n",
            "  9.66234428e-02  1.09972499e-01  9.16198332e-02  5.63291336e-02\n",
            "  2.80292783e-02  1.83849567e-02  1.84098953e-02  1.52579263e-02\n",
            "  4.89569693e-03 -1.23892074e-02 -3.14261346e-02 -4.43636033e-02\n",
            " -4.70771684e-02 -4.20216138e-02 -4.10248673e-02 -5.73661445e-02\n",
            " -8.91179015e-02 -1.17132104e-01 -1.24417256e-01 -1.11826624e-01\n",
            " -9.08172547e-02 -7.22725870e-02 -6.22120437e-02 -5.93224122e-02\n",
            " -5.65052515e-02 -4.67197147e-02 -2.90323995e-02 -7.77843544e-03\n",
            "  1.13133889e-02  2.41178974e-02  2.96744983e-02  2.98085864e-02\n",
            "  3.03958187e-02  3.74663869e-02  5.13458851e-02  6.67558119e-02\n",
            "  7.47855491e-02  7.03975043e-02  5.84834176e-02  4.65201845e-02\n",
            "  3.79721163e-02  3.58696746e-02  4.61465770e-02  6.95524566e-02\n",
            "  9.06258410e-02  9.05026022e-02  6.24437705e-02  5.98997064e-03\n",
            " -6.87488116e-02 -1.34716446e-01]\n"
          ]
        }
      ],
      "source": [
        "# For the deep learning model we want a temporal window that contains more than 1 beat: so we take a window \n",
        "# of 4 seconds centered on the labelled beat.\n",
        "# In this way we allow the network not only to learn the morphological features but also the temporal characteristics, \n",
        "# that depend on the near beats.\n",
        "\n",
        "pre = 2.0\n",
        "post = 2.0\n",
        "\n",
        "lead1 = beat_segmentation(filtered1, R_loc, T, pre, post)\n",
        "lead2 = beat_segmentation(filtered2, R_loc, T, pre, post)"
      ]
    },
    {
      "cell_type": "code",
      "execution_count": null,
      "metadata": {
        "id": "yrbn62wj0H5_",
        "outputId": "8d7bd2fb-4350-40fd-91a4-64a068594770"
      },
      "outputs": [
        {
          "name": "stdout",
          "output_type": "stream",
          "text": [
            "512\n"
          ]
        }
      ],
      "source": [
        "# The segmented beats must be padded (with the mean value of the window) to assure all the windows of the same length\n",
        "fs=128\n",
        "T=1/fs\n",
        "\n",
        "window = round(fs*(2.0+2.0))\n",
        "print(window)\n",
        "\n",
        "lead1_pad = pad_beats(lead1, window)\n",
        "lead2_pad = pad_beats(lead2, window)"
      ]
    },
    {
      "cell_type": "code",
      "execution_count": null,
      "metadata": {
        "id": "RnpmEvhp0H6A",
        "outputId": "ee8ecfe3-8e17-4611-f82e-f1a137e418ca"
      },
      "outputs": [
        {
          "data": {
            "text/plain": [
              "[<matplotlib.lines.Line2D at 0x14513255430>]"
            ]
          },
          "execution_count": 64,
          "metadata": {},
          "output_type": "execute_result"
        },
        {
          "data": {
            "image/png": "[encoded data removed]",
            "text/plain": [
              "<Figure size 432x288 with 1 Axes>"
            ]
          },
          "metadata": {
            "needs_background": "light"
          },
          "output_type": "display_data"
        }
      ],
      "source": [
        "plt.plot(lead1[0][2848])"
      ]
    },
    {
      "cell_type": "code",
      "execution_count": null,
      "metadata": {
        "id": "ofz6gJUt0H6B"
      },
      "outputs": [],
      "source": [
        "battiti1 = np.concatenate(lead1_pad, axis=0)\n",
        "battiti2 = np.concatenate(lead2_pad, axis=0)"
      ]
    },
    {
      "cell_type": "code",
      "execution_count": null,
      "metadata": {
        "id": "ymT6YC8e0H6B",
        "outputId": "e2e16cda-9b04-4b86-9a67-b2605d86f9c9"
      },
      "outputs": [
        {
          "data": {
            "text/plain": [
              "(212674, 512)"
            ]
          },
          "execution_count": 69,
          "metadata": {},
          "output_type": "execute_result"
        }
      ],
      "source": [
        "battiti1.shape"
      ]
    },
    {
      "cell_type": "code",
      "execution_count": null,
      "metadata": {
        "id": "4AZvfmfn0H6C",
        "outputId": "559e9e48-84dc-4070-9d9f-45331e9b6107"
      },
      "outputs": [
        {
          "data": {
            "text/plain": [
              "[<matplotlib.lines.Line2D at 0x1be49d77d00>]"
            ]
          },
          "execution_count": 198,
          "metadata": {},
          "output_type": "execute_result"
        },
        {
          "data": {
            "image/png": "[encoded data removed]",
            "text/plain": [
              "<Figure size 432x288 with 1 Axes>"
            ]
          },
          "metadata": {
            "needs_background": "light"
          },
          "output_type": "display_data"
        }
      ],
      "source": [
        "plt.plot(battiti1[2853])"
      ]
    },
    {
      "cell_type": "code",
      "execution_count": null,
      "metadata": {
        "id": "fRhHOywZ0H6D"
      },
      "outputs": [],
      "source": [
        "# Save also the beats to use them into a possible deep learning model\n",
        "np.save(r'', battiti1) #insert destination path (.npy)\n",
        "np.save(r'', battiti2) #insert destination path (.npy)"
      ]
    }
  ],
  "metadata": {
    "colab": {
      "collapsed_sections": [
        "gFJWgBP5Wfjb",
        "v2wrd7sDWjnm",
        "BQZl4Z9onTY6",
        "r9SGbZE3nTY8",
        "PRbiHHBFnTY-",
        "NwiqS1gRXg9-",
        "zthiQN5UXxQo",
        "VIuKGEJ1nTZK",
        "by7eGvWP_mWR",
        "XKWBLoHN_mWS",
        "XEr_dJDj_mWT"
      ],
      "name": "Notebook1.ipynb",
      "provenance": [],
      "toc_visible": true
    },
    "kernelspec": {
      "display_name": "Python 3 (ipykernel)",
      "language": "python",
      "name": "python3"
    },
    "language_info": {
      "codemirror_mode": {
        "name": "ipython",
        "version": 3
      },
      "file_extension": ".py",
      "mimetype": "text/x-python",
      "name": "python",
      "nbconvert_exporter": "python",
      "pygments_lexer": "ipython3",
      "version": "3.8.12"
    }
  },
  "nbformat": 4,
  "nbformat_minor": 0
}